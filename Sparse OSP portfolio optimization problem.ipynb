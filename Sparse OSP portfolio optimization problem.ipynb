{
 "cells": [
  {
   "cell_type": "markdown",
   "metadata": {},
   "source": [
    "# OSP portfolio optimization problem"
   ]
  },
  {
   "cell_type": "markdown",
   "metadata": {},
   "source": [
    "25 May 2020\n",
    "\n",
    "We present here the numerical solution for the portfolio optimization problem on social platforms of big number of nodes and specify here that this is a solution that profits from sparsity. The algorithm can be applyied to data traces with sizes of millions of users.\n",
    "\n",
    "$\\textbf{Model}$: We analyze the budget allocation problem where a user has a budget and decides to assign it to some users in order to maximize his/her influence on a online network platform through the participation of the selected users.\n",
    "\n",
    "In such a platform, there are $N > 2$ users in total. Each user $n$ is considered as a virtual node and has a Newsfeed and a Wall. Suppose the Newsfeed of size $M > 0$ and the Wall of size $K >0$. Furthermore, each user has a set of leaders, $L^{(n)}$, and she/he can be the leader of others. The Newsfeed of $n$ is refreshed instantaneously by insertion of posts published on the Walls of his Leaders. The user visits his Newsfeed and chooses among the currently available posts to re-post on his own Wall with rate $\\mu^{(n)}\\geq 0$ [posts/unit-time]. Additionally, he produces own posts on his Wall with rate $\\lambda^{(n)}\\geq 0$. These posts are marked on their generation by the user-author index $(n)$.\n",
    "\n",
    "$\\textbf{Assumptions}$: The choice of which post to share on one's Wall and which post to evict when a new post arrives is uniformly random, among the present posts on the Wall and the Newsfeed. Also, both post-feed processes per user are assumed Poisson.\n",
    "\n",
    "Consider a particular user $i$. The steady-state probability to find posts from user $i$ on the Newsfeed and Wall of user $n$ is the tuple $(p_i^{(n)},q_i^{(n)})$. With this, we form the steady state column-vectors\n",
    "\n",
    "$P_{vec}(i):=(P_{vec}(1,i),\\ldots,P_{vec}(N,i))=(p_i^{(1)},\\ldots,p_i^{(n)})$, and\n",
    "\n",
    "$Q_{vec}(i):=(Q_{vec}(1,i),\\ldots,Q_{vec}(N,i))=(q_i^{(1)},\\ldots,q_i^{(n)})$.\n",
    "\n",
    "These are the steady-state vectors for posts of origin $(i)$ on all the Newsfeeds and Walls of users.\n",
    "\n",
    "We define the influence of user $i$ on user $n$, $q^{(n)}_i$, as the steady-state probability that a post found on the Wall of user $n$ is of label $i$, i.e., has been originally created by user $i$. Note that these probabilities are performance parameters that will be the output of the developed models. We propose the following metric of influence, $\\Psi_i =\\frac{1}{N-1} \\sum_{n \\not=i} q^{(n)}_i$."
   ]
  },
  {
   "cell_type": "markdown",
   "metadata": {},
   "source": [
    "### Linear System solution (Theorem 2 from paper)\n",
    "\n",
    "Linear System solution (Theorem 2 from paper)\n",
    "To find the values of the steady-state vectors $P_{vec}(i)$ and $Q_{vec}(i)$, one needs to solve the following linear system (formulas $(12)-(13)$):\n",
    "\n",
    "$(12) \\space P_{vec}(i) = AP_{vec}(i) + b(i)$\n",
    "\n",
    "$(13) \\space Q_{vec}(i) = C_{vec}(i) + d(i).$\n",
    "\n",
    "In the above $A$, $C$ are $N\\times N$ matrices and $b(i)$, $d(i)$ are $N\\times 1$ column vectors.\n",
    "\n",
    "$A(j,k) = \\frac{\\mu^{(k)}}{\\sum_{\\ell\\in L^{(j)}}\\lambda^{(\\ell)}+\\mu^{(\\ell)}}\\mathbf{1}(k\\in L^{(j)})$,\n",
    "\n",
    "$b(j,i) = \\frac{\\lambda^{(i)}}{\\sum_{\\ell\\in L^{(j)}}\\lambda^{(\\ell)}+\\mu^{(\\ell)}}\\mathbf{1}(i\\in L^{(j)})$,\n",
    "\n",
    "$C(j,i) = \\frac{\\mu^{(j)}}{\\lambda^{(j)}+\\mu^{(j)}}\\mathbf{1}(j==i)$,\n",
    "\n",
    "$d(j,i) = \\frac{\\lambda^{(i)}}{\\lambda^{(i)}+\\mu^{(i)}}\\mathbf{1}(j==i)$."
   ]
  },
  {
   "cell_type": "markdown",
   "metadata": {},
   "source": [
    "### Portfolio Optimization Problem on Online Social Platforms\n",
    "Let's select one element in the user set $ i\\in \\mathcal{N}=\\{ 1,...,N \\}$, and let it be the set $ S = \\{i \\}$ ($S$ represents the set where we want to analyze how a joint advertising campaign of the other users is directed to the user i). In turn, suppose that for each post rate of user $n$ different from user $i$, we have $\\lambda^{(n)}=a_n \\lambda^{(n)}+(1-a_n) \\lambda^{(n)}, a_n \\in [0,r_n]$, where $a_n$ represents the post rate of user $n$ directed to user $ i $ (that is, directed to advertising), $1-a_n$ represents the post rate of user $n$ directed to personal use of user $n$ and $r_n$ is the maximun participation rate that the user $n$ can dispose in the advertising campaign and $r_i$ a constant.\n",
    "\n",
    "In our problem framework we have a budget that must not be exceeded $B$, this budget represents the budget limit that the advertising campaign directed to the user $ i $ can cost but don't exceed. Also for each user $ n $, there is a $ c_n $ that represents the cost (in the same scale of $B$) of post over time unit of the user $n$ directed to the advertising campaign. Then the user's individualized budget $ n $ is given by $ B_n = c_n a_n \\lambda ^ {(n)}.$\n",
    "\n",
    "On the other hand, note that if we define the influence of the user $ n \\not = i $ directed at advertising towards the set $S $ (denoted by $\\Psi_{n,S} (a_n)$), then the only difference between $\\Psi_{n, S} (a_n) $ and $ \\Psi_n $ is to consider the system as:\n",
    "\n",
    "$$(\\lambda^{(1)},\\mu^{(1)}),...,(a_n \\lambda^{(n)},\\mu^{(n)}) ,...,(\\lambda^{(N)},\\mu^{(N)}),$$ Instead of: $$(\\lambda^{(1)},\\mu^{(1)}),...,( \\lambda^{(n)},\\mu^{(n)}) ,...,(\\lambda^{(N)},\\mu^{(N)}).$$\n",
    "\n",
    "In this way, sequentially we can add all the users differents from the user $i$ and so we are interested in maximizing over the set $\\{a_n \\}_{n \\not=i}$ the sum of each influence through the user $ n \\not = i $ directed to advertising towards the user $ i $ and the direct influence of the user $ i $, subject to the budget constraint $ B $ not being exceeded by the sum of the individual budgeting of each user $ n \\not = i $. \n",
    "\n",
    "Namely, the OSP portfolio optimization problem is to find the vector $\\{a_n \\}_{n \\not=i}$ such that: \n",
    "\n",
    "$$\\max_{ \\{a_n \\}_{n \\not=i} } (\\sum_{n \\in \\mathcal{N}\\setminus \\{i \\} } \\Psi_{n,S} (a_n) +r_i \\Psi_i ), \\textbf{subject to} \\sum_{n \\in \\mathcal{N}\\setminus \\{i \\} }  c_n a_n \\lambda ^ {(n)} \\leq B .$$\n",
    "\n",
    "The $\\{a_n \\}_{n \\not=i}$ vector corresponds to the vector of participations of the users which act cooperatively with the user $i$ and that provide the maximum influence on a social network platform under cost restrictions with a budget $B$ of user $i$.\n",
    "\n",
    "Through our results we saw that $ \\Psi_{n,S} (a_n)=a_n \\Psi_{n}, \\forall n \\in \\mathcal{N}\\setminus \\{i \\}$, in this way, our problem turns out to be the following optimization problem:\n",
    "\n",
    "$$\\max_{ \\{a_n \\}_{n \\not=i} } (\\sum_{n \\in \\mathcal{N}\\setminus \\{i \\} } a_n \\Psi_{n}  + r_i \\Psi_i ), \\textbf{subject to} \\sum_{n \\in \\mathcal{N}\\setminus \\{i \\} }  c_n a_n \\lambda ^ {(n)} \\leq B.$$\n",
    "\n",
    "which can be solved by our greedy algorithm. \n",
    "\n",
    "\n",
    "Let's note that the restriction $\\sum_{n \\in \\mathcal{N}\\setminus \\{i \\} }  c_n a_n \\lambda ^ {(n)} \\leq B$ can be considered as $\\sum_{n \\in \\mathcal{N}\\setminus \\{i \\} }  c_n a_n \\lambda ^ {(n)}=B$ in the non-trivial case ($\\sum_{n \\in \\mathcal{N}\\setminus \\{i \\} }  c_n r_n \\lambda ^ {(n)}\\geq B$) cause if we have the strict inequality, we can always increase an $a_l$ such the influence is strictly increased and we continue to maintain the inequality as the restriction."
   ]
  },
  {
   "cell_type": "markdown",
   "metadata": {},
   "source": [
    "### Implementation\n",
    "$\\textbf{Notes}$: For the test implementation, we first generate an input from graphs of specific form. We choose here to generate a Erdos-Renyi graph, Albert-Barabasi granp, Ring graph and a Grid graph. Furthermore, we allow the choice of self-posting and re-posting rates.\n",
    "\n",
    "The implementation will first find the solution with the Fixed-point algorithm. Consequently, we fill the cost matrix (defined later) and with it, we will compute the numerical solutions of the OSP portfolio optimization problem through our greedy algorithm with computational complexity $N \\log N$."
   ]
  },
  {
   "cell_type": "code",
   "execution_count": 1,
   "metadata": {},
   "outputs": [
    {
     "name": "stdout",
     "output_type": "stream",
     "text": [
      "Populating the interactive namespace from numpy and matplotlib\n"
     ]
    }
   ],
   "source": [
    "%pylab inline\n",
    "import math\n",
    "import numpy as np\n",
    "import pandas as pd\n",
    "import collections\n",
    "import matplotlib.pyplot as plt\n",
    "import networkx as nx\n",
    "from numpy import inf"
   ]
  },
  {
   "cell_type": "markdown",
   "metadata": {},
   "source": [
    "## 1. Test Input\n",
    "\n",
    "First we create a small test example from a Grid graph, to verify at the end that the sparse algorithm works correctly (for small sizes of inputs). We can then apply the sparse algorithm to very large graphs from real traces."
   ]
  },
  {
   "cell_type": "code",
   "execution_count": 2,
   "metadata": {},
   "outputs": [],
   "source": [
    "NS = 9"
   ]
  },
  {
   "cell_type": "markdown",
   "metadata": {},
   "source": [
    "We fix the probability $pr$ and a Erdos-Renyi graph $G(N,pr)$ is constructed. Namely by connecting nodes randomly with directed edges where each edge is included in the graph with probability $pr$ independent from every other directed edge. \n",
    "\n",
    "Note: In this implementation we assume users indexed from $n=0,...N-1$, and we use lists, so that the entry e.g. $R_{vec}[0]$ refers to the number of leaders for user \"0\", and similarly $R_{vec}[n]$ for user \"n\"."
   ]
  },
  {
   "cell_type": "code",
   "execution_count": 3,
   "metadata": {},
   "outputs": [],
   "source": [
    "#Graphs------------------------------------------------------------------------------------------------------------------------\n",
    "#Erdos-Renyi Graph-------------------------------------------------------------------------------------------------------------\n",
    "def erdosL_graph(N,p):\n",
    "    Lead = [list() for j in range(N)]\n",
    "    for n in range(0,N):\n",
    "        for m in range(0,N):\n",
    "            if n!=m:\n",
    "                aux=np.random.binomial(1,p)\n",
    "                if aux==1:\n",
    "                    Lead[n].append(m)\n",
    "    return Lead\n",
    "#Erdos Renyi graph with our hypotheses (each user has at least one leader)\n",
    "def erdos_graph(N,p): \n",
    "    Lead = erdosL_graph(N,p)\n",
    "    for n in range(0,N):\n",
    "        if len(Lead[n])==0:\n",
    "            return erdos_graph(N,p)\n",
    "    return Lead"
   ]
  },
  {
   "cell_type": "code",
   "execution_count": 4,
   "metadata": {},
   "outputs": [
    {
     "name": "stdout",
     "output_type": "stream",
     "text": [
      "[[3, 4, 8], [5, 7, 8], [7, 8], [0], [6], [1, 2, 3, 6, 7, 8], [4, 5], [5, 8], [4, 6]]\n"
     ]
    }
   ],
   "source": [
    "pr=.2\n",
    "LeadGridS=erdos_graph(NS,pr)\n",
    "print(LeadGridS)"
   ]
  },
  {
   "cell_type": "code",
   "execution_count": 5,
   "metadata": {},
   "outputs": [
    {
     "data": {
      "image/png": "[encoded data removed]",
      "text/plain": [
       "<Figure size 432x288 with 1 Axes>"
      ]
     },
     "metadata": {},
     "output_type": "display_data"
    }
   ],
   "source": [
    "Gring=nx.DiGraph()\n",
    "for n in range(NS):\n",
    "    ln = list()\n",
    "    ln = LeadGridS[n]\n",
    "    for j in range(len(ln)):\n",
    "        Gring.add_edge(ln[j],n)\n",
    "pos=nx.spring_layout(Gring,iterations=100)\n",
    "nx.draw_networkx(Gring,pos,arrows=True,with_labels=True,node_size=600,node_color='r')"
   ]
  },
  {
   "cell_type": "markdown",
   "metadata": {},
   "source": [
    "Test Input parameters of the model (lambda and mu vectors) for different scenaria."
   ]
  },
  {
   "cell_type": "code",
   "execution_count": 6,
   "metadata": {},
   "outputs": [],
   "source": [
    "lam = 1.\n",
    "mu = 1\n",
    "Lvec2 = lam*np.ones(NS, np.float64)\n",
    "Mvec2 = mu*np.ones(NS, np.float64)\n",
    "lam1 = 10\n",
    "mu1 = 0.5\n",
    "Lvec3 = list(Lvec2)\n",
    "Mvec3 = list(Mvec2)\n",
    "Lvec3[0] = lam1\n",
    "Mvec3[0] = mu1\n",
    "Lvec3 = np.asarray(Lvec3)\n",
    "Mvec3 = np.asarray(Mvec3)"
   ]
  },
  {
   "cell_type": "code",
   "execution_count": 7,
   "metadata": {},
   "outputs": [
    {
     "name": "stdout",
     "output_type": "stream",
     "text": [
      "UserlistS {0: 0, 1: 1, 2: 2, 3: 3, 4: 4, 5: 5, 6: 6, 7: 7, 8: 8} \n",
      "\n",
      "LeadGraphS {0: {8, 3, 4}, 1: {8, 5, 7}, 2: {8, 7}, 3: {0}, 4: {6}, 5: {1, 2, 3, 6, 7, 8}, 6: {4, 5}, 7: {8, 5}, 8: {4, 6}} \n",
      "\n",
      "FollowGraphS {8: {0, 1, 2, 5, 7}, 3: {0, 5}, 4: {0, 8, 6}, 5: {1, 6, 7}, 7: {1, 2, 5}, 0: {3}, 6: {8, 4, 5}, 1: {5}, 2: {5}} \n",
      "\n",
      "RtweetS {0: 10.0, 1: 1.0, 2: 1.0, 3: 1.0, 4: 1.0, 5: 1.0, 6: 1.0, 7: 1.0, 8: 1.0} \n",
      "\n",
      "RrtweetS {0: 0.5, 1: 1.0, 2: 1.0, 3: 1.0, 4: 1.0, 5: 1.0, 6: 1.0, 7: 1.0, 8: 1.0} \n",
      "\n"
     ]
    }
   ],
   "source": [
    "LeadGraphS = {}\n",
    "FollowGraphS = {}\n",
    "RtweetS = {}\n",
    "RrtweetS = {}\n",
    "UserlistS = {}\n",
    "for j in range(NS):\n",
    "    RtweetS[j] = Lvec3[j]\n",
    "    RrtweetS[j] = Mvec3[j]\n",
    "    LeadGraphS[j] = set(LeadGridS[j])\n",
    "    UserlistS[j] = j\n",
    "for j in LeadGraphS:\n",
    "    for i in LeadGraphS[j]:\n",
    "        if i not in FollowGraphS:\n",
    "            FollowGraphS[i] = set()\n",
    "        FollowGraphS[i].add(j)\n",
    "#\n",
    "print(\"UserlistS\",UserlistS,'\\n')\n",
    "print(\"LeadGraphS\", LeadGraphS,'\\n')\n",
    "print(\"FollowGraphS\", FollowGraphS,'\\n')\n",
    "print(\"RtweetS\", RtweetS,'\\n')\n",
    "print(\"RrtweetS\", RrtweetS,'\\n')"
   ]
  },
  {
   "cell_type": "markdown",
   "metadata": {},
   "source": [
    "## 2. Solution with Sparse Matrices and Vectors"
   ]
  },
  {
   "cell_type": "markdown",
   "metadata": {},
   "source": [
    "From the Linear System solution, it is necessary to first populate the matrices $A$ and $C$, which are the same for any user of the system.\n",
    "\n",
    "Note We will keep in memory Dictionaries, with Key the userid and value the dictionary of positive matrix entries."
   ]
  },
  {
   "cell_type": "markdown",
   "metadata": {},
   "source": [
    "### Build matrix A in sparse format"
   ]
  },
  {
   "cell_type": "markdown",
   "metadata": {},
   "source": [
    "Matrix A is filled as a dictionary-of-dictionaries to contain all the non-negative entries."
   ]
  },
  {
   "cell_type": "code",
   "execution_count": 8,
   "metadata": {},
   "outputs": [],
   "source": [
    "def som_sparse(Lvec,Mvec,Lead):\n",
    "    Som = {} \n",
    "    for user in Lvec:\n",
    "        Som[user] = 0\n",
    "        for leader in Lead[user]:\n",
    "            Som[user]+=Lvec[leader]+Mvec[leader]\n",
    "    return Som"
   ]
  },
  {
   "cell_type": "code",
   "execution_count": 9,
   "metadata": {},
   "outputs": [],
   "source": [
    "SomS = som_sparse(RtweetS,RrtweetS,LeadGraphS) #SomS are the sums for the grid test"
   ]
  },
  {
   "cell_type": "code",
   "execution_count": 10,
   "metadata": {},
   "outputs": [],
   "source": [
    "def fill_A_sparse(Lvec,Mvec,Lead,Som):\n",
    "    A = {}\n",
    "    # We consider that Lead[j] contains the set of leaders of node j.\n",
    "    #\n",
    "    for user in Lvec:\n",
    "        A[user] = {}\n",
    "        for leader in Lead[user]:\n",
    "            A[user][leader] = Mvec[leader]/Som[user]\n",
    "    return A"
   ]
  },
  {
   "cell_type": "code",
   "execution_count": 11,
   "metadata": {},
   "outputs": [],
   "source": [
    "# Example Test: Erdos-Renyi\n",
    "AS = fill_A_sparse(RtweetS,RrtweetS,LeadGraphS,SomS) #AS is the A matrix for the Erdos-Renyi test"
   ]
  },
  {
   "cell_type": "code",
   "execution_count": 12,
   "metadata": {},
   "outputs": [],
   "source": [
    "def fill_A_trans_sparse(Lvec,Mvec,Lead,Som):\n",
    "    A_trans = {}\n",
    "    # This is the A transpose that we will use also later.\n",
    "    # A_trans is a dictionary. The keys are the columns of matrix form A. \n",
    "    # Each key shows the non-zero elements of A for this column.\n",
    "    # We consider that Lead[j] contains the set of leaders of node j.\n",
    "    #\n",
    "    for user in Lvec:\n",
    "        A_trans[user] = {}\n",
    "    for user in Lvec:\n",
    "        for leader in Lead[user]:\n",
    "            A_trans[leader][user] = Mvec[leader]/Som[user]\n",
    "    return A_trans"
   ]
  },
  {
   "cell_type": "code",
   "execution_count": 13,
   "metadata": {},
   "outputs": [],
   "source": [
    "# Example Test: Erdos-Renyi\n",
    "A_transS = fill_A_trans_sparse(RtweetS,RrtweetS,LeadGraphS,SomS) #A_transS is the A transpose for the Erdos-Renyi test"
   ]
  },
  {
   "cell_type": "markdown",
   "metadata": {},
   "source": [
    "### Build matrix C in sparse format"
   ]
  },
  {
   "cell_type": "markdown",
   "metadata": {},
   "source": [
    "The C matrix is diagonal, hence the non-negative entries can be saved in a simple dictionary."
   ]
  },
  {
   "cell_type": "code",
   "execution_count": 14,
   "metadata": {},
   "outputs": [],
   "source": [
    "def fill_C_sparse(Lvec,Mvec):\n",
    "    C = {}\n",
    "    for user in Lvec:\n",
    "        C[user] = 0\n",
    "        if Lvec[user]+Mvec[user]>0:\n",
    "            C[user] = Mvec[user]/(Lvec[user]+Mvec[user])\n",
    "    return C"
   ]
  },
  {
   "cell_type": "code",
   "execution_count": 15,
   "metadata": {},
   "outputs": [],
   "source": [
    "# Example Test: Erdos-Renyi\n",
    "CS = fill_C_sparse(RtweetS,RrtweetS)\n",
    "#print(CS)"
   ]
  },
  {
   "cell_type": "markdown",
   "metadata": {},
   "source": [
    "### Build vectors b and d in sparse format"
   ]
  },
  {
   "cell_type": "markdown",
   "metadata": {},
   "source": [
    "We continue by including the column vectors $b_i$ and $d_i$, for a specific label $i$"
   ]
  },
  {
   "cell_type": "code",
   "execution_count": 16,
   "metadata": {},
   "outputs": [],
   "source": [
    "def fill_bi_sparse_v2(useri,Lvec,Som,Follow):\n",
    "    b = {}\n",
    "    if useri not in Follow:\n",
    "        b[useri] = 0\n",
    "        return b\n",
    "    for user in Follow[useri]:\n",
    "        b[user] = Lvec[useri]/Som[user]\n",
    "    return b"
   ]
  },
  {
   "cell_type": "code",
   "execution_count": 17,
   "metadata": {},
   "outputs": [],
   "source": [
    "# Example Test: Erdos-Renyi\n",
    "biS_v2 = fill_bi_sparse_v2(UserlistS[0],RtweetS,SomS,FollowGraphS) #biS_v2 is the bi entries of Erdos-Renyi (v2 refers to the accelerated method)\n",
    "#print(biS_v2)"
   ]
  },
  {
   "cell_type": "markdown",
   "metadata": {},
   "source": [
    "d has a single non-zero entry per user"
   ]
  },
  {
   "cell_type": "code",
   "execution_count": 18,
   "metadata": {},
   "outputs": [],
   "source": [
    "def fill_di_sparse_v2(useri,Lvec,Mvec):\n",
    "    d = Lvec[useri]/(Lvec[useri]+Mvec[useri])\n",
    "    return d"
   ]
  },
  {
   "cell_type": "code",
   "execution_count": 19,
   "metadata": {},
   "outputs": [],
   "source": [
    "# Example Test: Erdos-Renyi\n",
    "diS_v2 = fill_di_sparse_v2(UserlistS[0],RtweetS,RrtweetS) #diS_v2 is the di entries of Erdos-Renyi (v2 refers to the accelerated method)\n",
    "#print(UserlistS[0], diS_v2)"
   ]
  },
  {
   "cell_type": "markdown",
   "metadata": {},
   "source": [
    "### Sparse solution to the OSP problem"
   ]
  },
  {
   "cell_type": "markdown",
   "metadata": {},
   "source": [
    "After defining all matrices $A$, $C$ and vectors $b_i$, $d_i$ per label $i$ we can write down the main routine to find the fixed point"
   ]
  },
  {
   "cell_type": "markdown",
   "metadata": {},
   "source": [
    "$\\textbf{Implementation Note}$: We have decided to consider a sparse realisation. We choose for each user the initialisation b(i), which is sparse and has a few positive entries. We identify in the matrix A, those lines who have at least one positive entry on the columns that coincide with the non-zero elements of b(i). We further add as extra lines those that have positive entry in b(i) (due to addition) and have not been considered. In this way we reduce the number of lines and columns to be dealt with per iteration. The new vector p(i,1) will probably have more positive entries than the previous one.\n",
    "\n",
    "Hence the Sparse method v2 improves on the speed due to extra sparsity on bi_sparse_v2, and on the column/line multiplication.\n",
    "\n",
    "$it = 1000$ is an upper limit on the number of allowed iterations,\n",
    "\n",
    "$eps = 0.001$ is the threshold criterion for convergence of the algorithm, based on the 1-norm or the $\\infty$-norm."
   ]
  },
  {
   "cell_type": "code",
   "execution_count": 20,
   "metadata": {},
   "outputs": [],
   "source": [
    "def pi_method_sparse_v2(N,useri,A,A_trans,Lvec,Lead,Follow,Som,it = 1000, eps = .001):\n",
    "    # v2: This method resolves the fixed-point exploiting vector sparsity.\n",
    "    #\n",
    "    bi = fill_bi_sparse_v2(useri,Lvec,Som,Follow)\n",
    "    #\n",
    "    # Initialisation (the result should be independent of initialisation vector)\n",
    "    #\n",
    "    p_new = bi\n",
    "    p_old = {}\n",
    "    #\n",
    "    normdiff = 2*eps\n",
    "    #\n",
    "    t = 0\n",
    "    while (t<it) & (normdiff>eps):\n",
    "        normdiff = 0\n",
    "        p_old = p_new.copy()\n",
    "        p_new = {}\n",
    "        # We search the lines of A which contain non-zero entries coinciding with the non-zero\n",
    "        # entries of p_old.\n",
    "        mlines = set()\n",
    "        for key in p_old:\n",
    "            for tutu in A_trans[key]:\n",
    "                mlines.add(tutu)\n",
    "            #mlines = mlines.union(set(A_trans[key].keys()))\n",
    "        #print(\"p_old\",p_old)\n",
    "        for tutu in bi:\n",
    "            mlines.add(tutu)\n",
    "        #mlines = mlines.union(set(bi.keys()))\n",
    "        #print(\"mlines\",mlines)\n",
    "        for user in mlines:\n",
    "            p_new[user] = 0\n",
    "            for leader in Lead[user]:\n",
    "                if leader in p_old:\n",
    "                    p_new[user] += A[user][leader]*p_old[leader]\n",
    "            if user in bi.keys():\n",
    "                p_new[user]+=bi[user]\n",
    "            # Norm 1 criterion:\n",
    "            #normdiff += abs(p_old[user]-p_new[user])\n",
    "            # Norm INF criterion:\n",
    "            if user in p_old.keys():\n",
    "                if abs(p_old[user]-p_new[user])>normdiff:\n",
    "                    normdiff = abs(p_old[user]-p_new[user])\n",
    "            else:\n",
    "                if abs(0-p_new[user])>normdiff:\n",
    "                    normdiff = abs(0-p_new[user])\n",
    "        t += 1\n",
    "        #Tracer()()\n",
    "        #print(\"p_new\",p_new)\n",
    "    #\n",
    "    # print(\"t=\",t,\"\\n\")\n",
    "    # print(\"diff_last=\",normdiff,\"\\n\")\n",
    "    return p_new"
   ]
  },
  {
   "cell_type": "code",
   "execution_count": 21,
   "metadata": {},
   "outputs": [],
   "source": [
    "def solution_sparse_v2(N,A,A_trans,C,Lvec,Mvec,Lead,Follow,Som,it = 1000, eps = .001):\n",
    "    # The fixed point solution is slow because the fixed point needs to be \n",
    "    # calculated for each label i separately.\n",
    "    #\n",
    "    # Newsfeed & Wall\n",
    "    pNews = {}\n",
    "    qWall = {}\n",
    "    # Influence metric\n",
    "    Psi = {}\n",
    "    l=0  #just a counter (could be used for parallelization)\n",
    "    for user in Lvec:\n",
    "        pNews[user] = pi_method_sparse_v2(N,user,A,A_trans,Lvec,Lead,Follow,Som)\n",
    "        #\n",
    "        di = fill_di_sparse_v2(user,Lvec,Mvec)\n",
    "        qWall[user]={}\n",
    "        Psi[user] =0\n",
    "        for userj in pNews[user]:\n",
    "            qWall[user][userj] = C[userj]*pNews[user][userj]\n",
    "            if userj==user:\n",
    "                qWall[user][userj]+=di\n",
    "            Psi[user] += qWall[user][userj]\n",
    "        if user not in pNews[user]:\n",
    "            qWall[user][user] = di\n",
    "            Psi[user] += qWall[user][user]\n",
    "        Psi[user] = (Psi[user]-qWall[user][user])/(N-1)\n",
    "        l+=1\n",
    "        #if command can be used to break the routine at l==1000 or some other number.\n",
    "        #if l == 3000:\n",
    "        #    return (pNews,qWall,Psi)\n",
    "    #\n",
    "    return (pNews,qWall,Psi)"
   ]
  },
  {
   "cell_type": "code",
   "execution_count": 22,
   "metadata": {},
   "outputs": [
    {
     "name": "stdout",
     "output_type": "stream",
     "text": [
      "{0: 0.07148116771838935, 1: 0.010703872010440915, 2: 0.011470620928050665, 3: 0.013067312937452932, 4: 0.06997428547594564, 5: 0.07783071678866332, 6: 0.10465538055358264, 7: 0.04076078301771455, 8: 0.07003747305375876}\n"
     ]
    }
   ],
   "source": [
    "(pNewsS,qWallS,PsiS) = solution_sparse_v2(NS,AS,A_transS,CS,RtweetS,RrtweetS,LeadGraphS,FollowGraphS,SomS)\n",
    "print(PsiS)"
   ]
  },
  {
   "cell_type": "markdown",
   "metadata": {},
   "source": [
    "### Cost Function\n",
    "\n",
    "We define a cost function in our context of social media platform as a family of non-negative functions $\\{ C_n \\}_{n \\in \\mathcal{N}}$ of the form:\n",
    "\n",
    "$$C_n:\\mathcal{G} \\times [\\lambda_1 \\times ... \\times \\lambda_N] \\times [\\mu_1 \\times ... \\times \\mu_N] \\rightarrow R^{+}\\cup \\{ 0\\}.$$\n",
    "\n",
    "The function $C_n$ will represent the cost per post agreed by user $i$ and user $n$ of a monetary unit.\n",
    "\n",
    "Let's consider two of the most relevant parameters when we consider a cost function of a user $n \\in \\mathcal{N}$  in an online social platform: the number of followers and the average engagments of user $n$. \n",
    "\n",
    "Observe that, once fixed $\\mathcal{G}, [\\lambda_1 \\times ... \\times \\lambda_N], [\\mu_1 \\times ... \\times \\mu_N]$, the average engagments is equivalent in our model to the average number of sharings of label of the user $n$ in our social platform, which is the average of the set composed by the steady-state probabilities that a post found on the Wall of a user $l \\not=n$ is of label $n$ times the number of followers of user $n$. So, we have that $\\text{Average Engagments}_n=\\Psi_n \\ \\text{Number of followers}_n$ and a cost function is a function of the form $c:\\mathbb{Z}^{+}_{0} \\times [0,1] \\rightarrow R^{+}\\cup \\{ 0\\}.$ where the first variable corresponds to the number of followers and the second to the influence from a specific user $n$ on a network and also this cost function should be invariant between users fixed the two parameters (so we consider one function for all the users).\n",
    "\n",
    "Certain natural properties we ask of a cost function are $c (k,\\psi)=0 \\iff k=\\psi=0, c (0,\\psi)=0, \\forall \\psi \\in [0,1]$, $c (k,0)>0, \\forall k \\in \\mathbb{Z}^{+}$, increasing monotony in the number of followers $k$ and the average engagments $\\psi*k$ and we also ask that a cost function has concavity and the positively linearly homogeneous property. So, our cost function satisfies $c (k,0)>0, \\forall k \\in \\mathbb{Z}^{+}$ and therefore this can be expressed in the form:\n",
    "\n",
    "$$c(k,\\psi)=f(k)+g(k,\\psi),$$\n",
    "\n",
    "Where $f(k)>0, \\forall k \\in \\mathbb{Z}^{+}$, $g(z,\\psi) \\geq 0,\\forall k \\in \\mathbb{Z}^{+}_0, \\psi \\in [0,1]$ (taking for example $g=c-f$) and $f(k)=0 \\iff k=0$,$ g(k,\\psi)=0 \\iff k=\\psi=0$, increasing monotony in $k$ and $\\psi*k$ of $f+g$ and where concavity and positively linearly homogeneous property remains in $f+g$. Therefore for simplicity we will consider a linear combination of the functions $f$ and $g$, namely: \n",
    "\n",
    "$$f(k)=K_1 \\text{Number of followers}=K_1 k, g=K_2 \\text{Average Engagments}=K_2 \\Psi_n \\ \\text{Number of followers}=K_2 \\psi \\ k.$$\n",
    "\n",
    "On the other hand, following the recommendations of the web pages https://buffer.com/resources/influencer-marketing-cost, https://buffer.com/library/influencer-marketing-guide and the Instagram money calculator on the web-page https://influencermarketinghub.com/instagram-money-calculator/ allow us to assign a cost estimate of the form $k_1\\frac{\\text{Number of followers}_n}{1000}$ or $k_2\\frac{\\text{Average Engagments_n}}{1000}$ with $k_1,k_2$ constants depending on the online social platform and the monetary unit will be dollars or euros. So, we have that the cost per post is of the form $k_1\\frac{\\text{Number of followers}_n}{1000}$ or $k_2\\Psi_n \\frac{\\text{Number of followers}_n}{1000}$, in this way we can define our estimate of the cost function as a convex combination of $k_1\\frac{\\text{Number of followers}_n}{1000}$ and $k_2\\frac{\\text{Average Engagments_n}}{1000}$, namely in our case: \n",
    "\n",
    "$$\\gamma k_1\\frac{\\text{Number of followers}_n}{1000}+(1-\\gamma) k_2\\Psi_n \\frac{\\text{Number of followers}_n}{1000}, \\gamma \\in [0,1].$$\n",
    "\n",
    "Remember that a desirable property in a cost function is concavity which it is in our case as well as the positively linearly homogeneous property (which remains in the number of followers) and for this reason we consider in particular this kind of linear combination $K_1=\\gamma \\frac{k_1}{1000}, K_2=(1-\\gamma) \\frac{k_2}{1000}$ and note that the number $1000$ is associated with the public that is potentially influenced by the post from user $n$ and the latter should therefore be invariant through the online network platform regardless of the size of the network. \n",
    "\n",
    "Let's observe that the cost function of one user $n$ is by definition independent of the post rate $a_n$ of user $n$ directed to user $i$. However it may be dependent to the the maximun participation rate that the user $n$ can dispose in the advertising campaign.\n",
    "\n",
    "For the rest of the work we will consider being under a social network platform with structure and income potential like Instagram, namely $(k_1,k_2)=(5,250)$ and for simplicity we will consider $\\gamma=\\frac{1}{2}$. Therefore our cost function to consider is $\\frac{5}{2}\\frac{\\text{Number of followers}_n}{1000}+\\frac{250}{2}\\Psi_n \\frac{\\text{Number of followers}_n}{1000}$. In general we can define a cost function in severals ways like we have already said, however we prefer to utilize this function of cost because the estimated price per post is more realistic and with the minimal hypotheses required to make it a cost function."
   ]
  },
  {
   "cell_type": "code",
   "execution_count": 23,
   "metadata": {},
   "outputs": [],
   "source": [
    "#Cost function definition-------------------------------------------------------------------------------------------------------\n",
    "def Ct(N,Lead,Lvec,Mvec,P,Q,Psi,Follow,restriction,gamma=.5,k1=5,k2=250): #Psi and the Followers is not necessary pass them to the cost function (because it can calculate in). However, we grant it as a parameter for simplicity.\n",
    "    Cs={}\n",
    "    for user in Follow:\n",
    "        Cs[user]=gamma*k1*len(Follow[user])/1000+(1-gamma)*k2*Psi[user]*len(Follow[user])/1000 #Here we defined the cost of one user like the slide-show (a deterministic quantity): How Much Does Social Media Influencer Marketing Cost?\n",
    "    return Cs"
   ]
  },
  {
   "cell_type": "markdown",
   "metadata": {},
   "source": [
    "And we get the cost per post for each user"
   ]
  },
  {
   "cell_type": "code",
   "execution_count": 24,
   "metadata": {
    "scrolled": true
   },
   "outputs": [
    {
     "name": "stdout",
     "output_type": "stream",
     "text": [
      "The cost per post of user are respectively {8: 0.05627342065859922, 3: 0.008266828234363234, 4: 0.03374035705347961, 5: 0.036686518795748746, 7: 0.02278529363164295, 0: 0.011435145964798669, 6: 0.04674576770759349, 1: 0.0038379840013051145, 2: 0.003933827616006334}\n"
     ]
    }
   ],
   "source": [
    "gamma_aux=.5\n",
    "k1_aux=5\n",
    "k2_aux=250\n",
    "#restric=[1 for x in range(N)]\n",
    "#restric=[1/2*(x % 2) for x in range(N)]\n",
    "restric={}\n",
    "for user in FollowGraphS:\n",
    "    restric[user]=np.random.uniform(0,1)\n",
    "#restric=np.random.beta(2,10,size=N)\n",
    "Cs=Ct(NS,LeadGraphS,RtweetS,RrtweetS,pNewsS,qWallS,PsiS,FollowGraphS,restric,gamma=gamma_aux,k1=k1_aux,k2=k2_aux)\n",
    "print(\"The cost per post of user are respectively\",Cs)"
   ]
  },
  {
   "cell_type": "markdown",
   "metadata": {},
   "source": [
    "### Sparse solution to the OSP portfolio optimization problem"
   ]
  },
  {
   "cell_type": "markdown",
   "metadata": {},
   "source": [
    "### Greedy algorithm\n",
    "\n",
    "Let's define $a^{*}_n \\in [0,c_n \\lambda ^ {(n)} r_n]$ as $a^{*}_n=c_n \\lambda ^ {(n)} a_n, \\forall n \\not =i$. Therefore, our optimization problem is equivalent to:\n",
    "\n",
    "$$\\max_{ \\{a^{*}_n \\}_{n \\not=i} } (\\sum_{n \\in \\mathcal{N}\\setminus \\{i \\} } a^{*}_n \\frac{\\Psi_{n} }{c_n \\lambda ^ {(n)}} +r_i \\Psi_i ), \\textbf{subject to} \\sum_{n \\in \\mathcal{N}\\setminus \\{i \\} }  a^{*}_n \\leq B.$$\n",
    "\n",
    "Let $\\{i_{k} \\}$ the $k$-th maximal index of the set  $\\{\\frac{\\Psi_{n} }{c_n \\lambda ^ {(n)}} \\}_{n\\not= i}$. Observe if we select in a sequential order for $l=1,...,N-1$: $$a_{i_l}=r_{i_l} I_{ c_{i_l} r_{i_l} \\lambda ^ {(i_l)} \\leq B_{l} }+ \\frac{B_{l}}{c_{i_l} \\lambda ^ {(i_l)}} I_{ c_{i_l} r_{i_l} \\lambda ^ {(i_l)} > B_{l} }$$\n",
    "With $B_{l}=B-\\sum_{k<l} a_{i_k} c_{i_k} \\lambda ^ {(i_k)},B_1=B$, then by construction we have that $\\sum_{l <N} a_{i_l} c_{i_l} \\lambda ^ {(i_l)} \\leq B$ and we have our solution vector for the OSP portfolio optimization problem as the following theorem says.\n",
    "\n",
    "\n",
    "$\\mathbf{Theorem.}$ The vector $\\{ a_{n} \\}_{n \\not=i}$ is an solution vector for our OSP portfolio optimization problem and it is the unique solution if $\\frac{\\Psi_{n_1} }{c_{n_1} \\lambda ^ {(n_1)} } \\not= \\frac{\\Psi_{n_2} }{c_{n_2} \\lambda ^ {(n_2)} },  \\forall n_{1} , n_{2} \\not= i$.\n",
    "\n",
    "The trivial case $\\sum_{n \\in \\mathcal{N}\\setminus \\{i \\} }  c_n r_n \\lambda ^ {(n)} > B$ is clear because we are forced to take as a solution $a_{n}=r_{n}, n \\not=i$ to get the maximum joint influence. Therefore we will work with the non-trivial case, that is, as we said above without loss of generality with the restriction $\\sum_{n \\in \\mathcal{N}\\setminus \\{i \\} }  a^{*}_n = B$.\n",
    "\n",
    "Suppose there is a vector ${ \\{b_n \\}_{n \\not=i} },b_n \\in [0,r_n], \\forall n \\not=i $ with\n",
    "$$\\sum_{n \\in \\mathcal{N}\\setminus \\{i \\} } b_n \\Psi_{n}  +r_i \\Psi_i \\geq \\sum_{n \\in \\mathcal{N}\\setminus \\{i \\} } a_n \\Psi_{n}  +r_i \\Psi_i, \\sum_{n \\in \\mathcal{N}\\setminus \\{i \\} }  c_n b_n \\lambda ^ {(n)} = B.$$ We will proceed by contradiction to prove that $a_n=b_n, \\forall n \\not=i$.\n",
    "\n",
    "Let $r$ be the smallest positive integer such that $a_{i_r} \\not =0$, then by construction $a_{i_r}= \\frac{B-\\sum_{k<r} c_{i_k} r_{i_k} \\lambda ^ {(i_k)}}{c_{i_r} \\lambda ^ {(i_r)}}$ and $a_{i_l}=r_{i_l}, \\forall l<r$.\n",
    "\n",
    "Let's define as above $b^{*}_n=c_n \\lambda ^ {(n)} b_n, \\forall n \\not =i$. Suppose that exists a integer $l$ such that it is the smallest positive integer such that $b_{i_l}<a_{i_l}$. We are going to proceed by contradiction, we have $b^{*}_{i_l}< a^{*}_{i_l}$ and by hypothesis $$\\sum_{k=1,...,N-1} b^{*}_{i_{k}} \\frac{\\Psi_{{i_{k}}} }{c_{i_{k}} \\lambda ^ {({i_{k}})}} \\geq \\sum_{k=1,...,N-1 } a^{*}_{i_{k}} \\frac{\\Psi_{{i_{k}}} }{c_{i_{k}} \\lambda ^ {({i_{k}})}} \\iff \\sum_{k=l,...,N-1} b^{*}_{i_{k}} \\frac{\\Psi_{{i_{k}}} }{c_{i_{k}} \\lambda ^ {({i_{k}})}} \\geq \\sum_{k=l,...,N-1 } a^{*}_{i_{k}} \\frac{\\Psi_{{i_{k}}} }{c_{i_{k}} \\lambda ^ {({i_{k}})}}.$$\n",
    "\n",
    "Notice that defining $b^{*}_{i_{j}}=a^{*}_{i_{j}}+d_{j}, j=l+1,...,N-1$, then the equality $\\sum_{n=l,...,N-1  }  b^{*}_n =B=\\sum_{n=l,...,N-1  }  a^{*}_n$ must be satisfied, then $\\sum_{s=l+1,...,N-1} d_{s}=a_{i_l}-b_{i_l}$.\n",
    "\n",
    "Therefore, $$\\sum_{k=l,...,N-1} b^{*}_{i_{k}} \\frac{\\Psi_{{i_{k}}} }{c_{i_{k}} \\lambda ^ {({i_{k}})}} \\geq \\sum_{k=l,...,N-1 } a^{*}_{i_{k}} \\frac{\\Psi_{{i_{k}}} }{c_{i_{k}} \\lambda ^ {({i_{k}})}} \\iff  b^{*}_{i_{l}} \\frac{\\Psi_{{i_{l}}} }{c_{i_{l}} \\lambda ^ {({i_{k}})}}+\\sum_{k=l+1,...,N-1} b^{*}_{i_{k}} \\frac{\\Psi_{{i_{k}}} }{c_{i_{k}} \\lambda ^ {({i_{k}})}} \\geq  a^{*}_{i_{l}} \\frac{\\Psi_{{i_{l}}} }{c_{i_{l}} \\lambda ^ {({i_{k}})}}+\\sum_{k=l+1,...,N-1} a^{*}_{i_{k}} \\frac{\\Psi_{{i_{k}}} }{c_{i_{k}} \\lambda ^ {({i_{k}})}} \\iff$$\n",
    "\n",
    "$$\\iff b^{*}_{i_{l}} \\frac{\\Psi_{{i_{l}}} }{c_{i_{l}} \\lambda ^ {({i_{k}})}}+\\sum_{k=l+1,...,N-1} d_{k} \\frac{\\Psi_{{i_{k}}} }{c_{i_{k}} \\lambda ^ {({i_{k}})}} \\geq  a^{*}_{i_{l}} \\frac{\\Psi_{{i_{l}}} }{c_{i_{l}} \\lambda ^ {({i_{k}})}} \\iff \\sum_{k=l+1,...,N-1} d_{k} \\frac{\\Psi_{{i_{k}}} }{c_{i_{k}} \\lambda ^ {({i_{k}})}} \\geq  (a^{*}_{i_{l}}-b^{*}_{i_{l}}) \\frac{\\Psi_{{i_{l}}} }{c_{i_{l}} \\lambda ^ {({i_{k}})}}.$$\n",
    "\n",
    "Observe that $\\sum_{k=l+1,...,N-1} d_{k} \\frac{\\Psi_{{i_{k}}} }{c_{i_{k}} \\lambda ^ {({i_{k}})}} \\leq \\sum_{k=l+1,...,N-1} d_{k} \\frac{\\Psi_{{i_{l+1}}} }{c_{i_{l+1}} \\lambda ^ {({i_{l+1}})}} = (a^{*}_{i_{l}}-b^{*}_{i_{l}}) \\frac{\\Psi_{{i_{l+1}}} }{c_{i_{l+1}} \\lambda ^ {({i_{l+1}})}}$, then $$(a^{*}_{i_{l}}-b^{*}_{i_{l}}) \\frac{\\Psi_{{i_{l+1}}} }{c_{i_{l+1}} \\lambda ^ {({i_{l+1}})}} \\geq (a^{*}_{i_{l}}-b^{*}_{i_{l}}) \\frac{\\Psi_{{i_{l}}} }{c_{i_{l}} \\lambda ^ {({i_{k}})}} \\iff \\frac{\\Psi_{{i_{l+1}}} }{c_{i_{l+1}} \\lambda ^ {({i_{l+1}})}} \\geq \\frac{\\Psi_{{i_{l}}} }{c_{i_{l}} \\lambda ^ {({i_{k}})}}.$$\n",
    "\n",
    "However, we have a contradiction because $\\{i_{l} \\}$ is the $l$-th maximal index of the set  $\\{\\frac{\\Psi_{n} }{c_n \\lambda ^ {(n)}} \\}_{n\\not= i}$ and all the elements in this set are differents by hypothesis, then such $l$ does not exist. \n",
    "\n",
    "So  $b_{i_l} \\geq a_{i_l}, \\forall l$. Suppose that exists a integer $l$ such that $b_{i_l}>a_{i_l}$, then we have $$\\sum_{n \\in \\mathcal{N}\\setminus \\{i \\} }  c_n b_n \\lambda ^ {(n)} > \\sum_{n \\in \\mathcal{N}\\setminus \\{i \\} }  c_n a_n \\lambda ^ {(n)} = B$$ And it is a contradiction. Therefore $b_{i_l}=a_{i_l}, \\forall l$. \n",
    " \n",
    "Note that $\\{ a_{n} \\}_{n \\not=i}$ is a solution because when we exchange all the symbols $\\geq$ for $>$, we get contradictions even without the hypothesis $\\frac{\\Psi_{n_1} }{c_{n_1} \\lambda ^ {(n_1)} } \\not= \\frac{\\Psi_{n_2} }{c_{n_2} \\lambda ^ {(n_2)} },  \\forall n_{1} , n_{2} \\not= i$.\n",
    "\n",
    "\n",
    "Finally, $a_{n}, \\forall n \\not=i$ is an solution vector and it is the unique solution vector for our OSP portfolio optimization problem and we have the desired."
   ]
  },
  {
   "cell_type": "markdown",
   "metadata": {},
   "source": [
    "It is important to note that if $ \\exists n_{1} , n_{2} \\not= i$ with $\\frac{\\Psi_{n_1} }{c_{n_1} \\lambda ^ {(n_1)} }= \\frac{\\Psi_{n_2} }{c_{n_2} \\lambda ^ {(n_2)} }$, then our solution may not be the only solution, but it is unique module \n",
    "the permutations where the elements $\\frac{\\Psi_{n} }{c_{n} \\lambda ^ {(n)}}$ are equal.\n",
    "\n",
    "Notice that our greedy algorithm has a computational complexity of order $\\mathcal{O}(N \\ log N)$ (using merge sort to order the set $\\{ \\frac{\\Psi_{n} }{c_{n} \\lambda ^ {(n)}} \\}_{n \\not=i}$) and it can be improved to $\\mathcal{O}(N)$ in the average case for some distributions of $\\frac{\\Psi_{n} }{c_{n} \\lambda ^ {(n)}}$. So, it is a good algorithm to use in large data sets"
   ]
  },
  {
   "cell_type": "markdown",
   "metadata": {},
   "source": [
    "We program our greedy algorithm below"
   ]
  },
  {
   "cell_type": "code",
   "execution_count": 25,
   "metadata": {},
   "outputs": [],
   "source": [
    "#OSP portfolio optimization solutions-------------------------------------------------------------------------------------------\n",
    "def OSP(N,Lead,Lvec,Mvec,Budget,i,Follow,restriction,gamma=gamma_aux,k1=k1_aux,k2=k2_aux,NMax=-1,O=1):\n",
    "    #This function solves our OSP portfolio optimization problem, it receives: the number of users N, dictionary of leader, \n",
    "    #dictionary of user activity corresponding to post and re-post rates, a Budget>=0, an user i where our advertising campaign is applied between\n",
    "    #dictionary of Followers, dictionary composed by user restrictions, gamma, k_1, k_2 representing respectively the form of the cost function\n",
    "    #an integer NMax which is the maximun number of selected users of our OSP portfolio optimization problem and the tolerable possible loss O of our problem to reduce number of selected user and it returns between other things, the values of the decision variables \n",
    "    #that maximizes the objective function while satisfying the constraints\n",
    "    SomS = som_sparse(Lvec,Mvec,Lead)\n",
    "    AS = fill_A_sparse(Lvec,Mvec,Lead,SomS)\n",
    "    A_transS = fill_A_trans_sparse(Lvec,Mvec,Lead,SomS)    \n",
    "    CS = fill_C_sparse(Lvec,Mvec)\n",
    "    (pNewsS,qWallS,PsiS) = solution_sparse_v2(N,AS,A_transS,CS,Lvec,Mvec,Lead,Follow,SomS)\n",
    "    Cs=Ct(N,Lead,Lvec,Mvec,pNewsS,qWallS,PsiS,Follow,restriction,gamma=gamma_aux,k1=k1_aux,k2=k2_aux)\n",
    "    Costs={}\n",
    "    rates={}\n",
    "    for user in Cs:\n",
    "        Costs[user]=Lvec[user]*Cs[user]\n",
    "    for user in Cs:\n",
    "        rates[user]=PsiS[user]/Costs[user]\n",
    "    alps={}\n",
    "    Baux=Budget\n",
    "    NMax_aux=1\n",
    "    if NMax==-1:\n",
    "        NMax_O=N\n",
    "    else:\n",
    "        NMax_O=NMax\n",
    "    iList=collections.OrderedDict(sorted(rates.items(), key=lambda x:x[1],reverse=True)) #It uses timsort O(N log N)\n",
    "    for iaux in iList.keys():\n",
    "        if Baux>0:\n",
    "            if iaux!=i:\n",
    "                if NMax_aux<=NMax_O:\n",
    "                    NMax_aux=NMax_aux+1\n",
    "                    if Baux>Costs[iaux]*restriction[iaux]:\n",
    "                        if restriction[iaux]!=0:\n",
    "                            alps[iaux]=restriction[iaux]\n",
    "                            Baux=Baux-Costs[iaux]*restriction[iaux]\n",
    "                    else:\n",
    "                        alps[iaux]=Baux/Costs[iaux]\n",
    "                        Baux=0\n",
    "                else:\n",
    "                    break\n",
    "        else:\n",
    "            break\n",
    "    alps[i]=restriction[i]  \n",
    "    alps_aux={}\n",
    "    S_aux=0\n",
    "    for user in alps:\n",
    "        S_aux=alps[user]*PsiS[user]+S_aux\n",
    "    S_aux=S_aux-alps[i]*PsiS[i]\n",
    "    O_aux=0\n",
    "    for user in alps:\n",
    "        O_aux=O_aux+(alps[user]*PsiS[user])/S_aux\n",
    "        if O_aux<=O and user!=i:\n",
    "            alps_aux[user]=alps[user]\n",
    "        else:\n",
    "            break\n",
    "    alps_aux[i]=restriction[i]\n",
    "    alps=alps_aux\n",
    "    return [alps,pNewsS,qWallS,PsiS]"
   ]
  },
  {
   "cell_type": "markdown",
   "metadata": {},
   "source": [
    "We fix the budget and the user $i$ who orchestrates the advertising campaign"
   ]
  },
  {
   "cell_type": "code",
   "execution_count": 26,
   "metadata": {},
   "outputs": [
    {
     "name": "stdout",
     "output_type": "stream",
     "text": [
      "The maximun participation rates per user in the advertising campaign are: {8: 0.02992551043356151, 3: 0.8275543051548562, 4: 0.6164218921077471, 5: 0.43154234363587785, 7: 0.6470798949994743, 0: 0.49013956135252135, 6: 0.4073100490969441, 1: 1, 2: 0.8038381508546978}\n"
     ]
    }
   ],
   "source": [
    "B=5 #Budget\n",
    "i=1 #User who orchestrates the advertising campaign\n",
    "restric[i]=1\n",
    "print(\"The maximun participation rates per user in the advertising campaign are:\",restric)"
   ]
  },
  {
   "cell_type": "code",
   "execution_count": 27,
   "metadata": {},
   "outputs": [],
   "source": [
    "S=OSP(NS,LeadGraphS,RtweetS,RrtweetS,B,i,FollowGraphS,restric,gamma=gamma_aux,k1=k1_aux,k2=k2_aux)\n",
    "solutions=S[0]"
   ]
  },
  {
   "cell_type": "code",
   "execution_count": 28,
   "metadata": {},
   "outputs": [
    {
     "name": "stdout",
     "output_type": "stream",
     "text": [
      "The advertising campaign is over the user: 1 \n",
      "\n",
      "The users between  [0, 8] to include are: [2, 6, 5, 4, 7, 3, 8, 0, 1] \n",
      "\n",
      "Their rates are: {2: 0.8038381508546978, 6: 0.4073100490969441, 5: 0.43154234363587785, 4: 0.6164218921077471, 7: 0.6470798949994743, 3: 0.8275543051548562, 8: 0.02992551043356151, 0: 0.49013956135252135, 1: 1} \n",
      "\n",
      "The joint influence is: 0.21359356389421152 \n",
      "\n",
      "The budget required is: 0.13814960250789646\n"
     ]
    }
   ],
   "source": [
    "US=list()\n",
    "RA=list()\n",
    "summulti=0\n",
    "bud=0\n",
    "for x in solutions.keys():\n",
    "    if solutions[x]!=0:\n",
    "        US.append(x)\n",
    "    summulti+=S[3][x]*solutions[x]\n",
    "for x in Cs:\n",
    "    if x in solutions:\n",
    "        bud+=RtweetS[x]*Cs[x]*solutions[x]\n",
    "if i in Cs and i in solutions:\n",
    "    bud-=RtweetS[i]*Cs[i]*solutions[i]\n",
    "print(\"The advertising campaign is over the user:\", i,\"\\n\")\n",
    "print(\"The users between \", [0,NS-1], \"to include are:\", US,\"\\n\")\n",
    "print(\"Their rates are:\", solutions,\"\\n\")\n",
    "print(\"The joint influence is:\",summulti,\"\\n\")\n",
    "print(\"The budget required is:\",bud)"
   ]
  },
  {
   "cell_type": "markdown",
   "metadata": {},
   "source": [
    "## 3. Evaluation for Twitter input dataset with Millions of users"
   ]
  },
  {
   "cell_type": "code",
   "execution_count": 29,
   "metadata": {},
   "outputs": [],
   "source": [
    "directory = \"/Users/Ricardo López/Desktop/Python/\"\n",
    "f = open(directory+\"OSP portfolio optimization problem folder/russian_rtid.txt\")\n",
    "Author = {}\n",
    "for lign in f:\n",
    "    lign = lign.split()\n",
    "    tweetid = int(lign[0])\n",
    "    userid = int(lign[2])\n",
    "    Author[tweetid] = userid\n",
    "f.close()"
   ]
  },
  {
   "cell_type": "code",
   "execution_count": 30,
   "metadata": {},
   "outputs": [],
   "source": [
    "Ntweet = {}\n",
    "Nrtweet = {}\n",
    "LeadGraph = {}\n",
    "FollowGraph = {}\n",
    "FirstT = None\n",
    "LastT = None\n",
    "f = open(directory+\"OSP portfolio optimization problem folder/russian_rtid.txt\")\n",
    "for lign in f:\n",
    "    lign = lign.split()\n",
    "    tstamp = int(lign[1])\n",
    "    userid = int(lign[2])\n",
    "    rtid = int(lign[3])\n",
    "    if FirstT == None:\n",
    "        FirstT = tstamp\n",
    "    if userid not in Ntweet:\n",
    "        Ntweet[userid] = 0\n",
    "        Nrtweet[userid] = 0\n",
    "        LeadGraph[userid] = set()      \n",
    "    if rtid == -1:\n",
    "        Ntweet[userid] += 1\n",
    "    else: \n",
    "        if rtid in Author:\n",
    "            LeadGraph[userid].add(Author[rtid])\n",
    "            Nrtweet[userid] += 1\n",
    "            if Author[rtid] not in FollowGraph:\n",
    "                FollowGraph[Author[rtid]] = set()\n",
    "            FollowGraph[Author[rtid]].add(userid)\n",
    "        else:\n",
    "            Ntweet[userid] += 1\n",
    "LastT = tstamp\n",
    "f.close()"
   ]
  },
  {
   "cell_type": "code",
   "execution_count": 31,
   "metadata": {},
   "outputs": [],
   "source": [
    "Rtweet = {}\n",
    "Rrtweet = {}\n",
    "for user in Ntweet:\n",
    "    Rtweet[user] = Ntweet[user]/(LastT-FirstT)\n",
    "    Rrtweet[user] = Nrtweet[user]/(LastT-FirstT)"
   ]
  },
  {
   "cell_type": "code",
   "execution_count": 32,
   "metadata": {},
   "outputs": [
    {
     "data": {
      "text/plain": [
       "34479"
      ]
     },
     "execution_count": 32,
     "metadata": {},
     "output_type": "execute_result"
    }
   ],
   "source": [
    "len([0 for u in Rtweet if Rtweet[u]==0])"
   ]
  },
  {
   "cell_type": "code",
   "execution_count": 33,
   "metadata": {},
   "outputs": [
    {
     "data": {
      "text/plain": [
       "13975"
      ]
     },
     "execution_count": 33,
     "metadata": {},
     "output_type": "execute_result"
    }
   ],
   "source": [
    "len(FollowGraph)"
   ]
  },
  {
   "cell_type": "code",
   "execution_count": 34,
   "metadata": {},
   "outputs": [],
   "source": [
    "Userlist = {}\n",
    "k=0\n",
    "for user in Rtweet:\n",
    "    Userlist[k] = user\n",
    "    k+=1"
   ]
  },
  {
   "cell_type": "code",
   "execution_count": 35,
   "metadata": {},
   "outputs": [
    {
     "name": "stdout",
     "output_type": "stream",
     "text": [
      "181621\n"
     ]
    }
   ],
   "source": [
    "N = len(Userlist)\n",
    "print(N)"
   ]
  },
  {
   "cell_type": "markdown",
   "metadata": {},
   "source": [
    "We set the budget, the restrictions on the users id and the user who carries out the advertising campaign for our problem"
   ]
  },
  {
   "cell_type": "code",
   "execution_count": 36,
   "metadata": {},
   "outputs": [],
   "source": [
    "B=.00000001 #The time unit is small (less than seconds), then we selected a low B to make sense with the total budget in time unit\n",
    "i=602098368 #User id who orchestrates the advertising campaign\n",
    "gamma_aux=.5\n",
    "k1_aux=5\n",
    "k2_aux=250\n",
    "restricts={}\n",
    "for user in LeadGraph:\n",
    "    restricts[user]=np.random.uniform(0,1)\n",
    "restricts[i]=1"
   ]
  },
  {
   "cell_type": "markdown",
   "metadata": {},
   "source": [
    "RESULT: Main command line for running the solution process for all users (can apply parallelization if we obtain all the Psi as a pre-process)"
   ]
  },
  {
   "cell_type": "code",
   "execution_count": 37,
   "metadata": {},
   "outputs": [],
   "source": [
    "[an,pNews,qWall,Psi]=OSP(N,LeadGraph,Rtweet,Rrtweet,B,i,FollowGraph,restricts,gamma=gamma_aux,k1=k1_aux,k2=k2_aux)"
   ]
  },
  {
   "cell_type": "markdown",
   "metadata": {},
   "source": [
    "We plot the optimality graph of percentage of optimality in relation to number of selected users:"
   ]
  },
  {
   "cell_type": "code",
   "execution_count": 38,
   "metadata": {},
   "outputs": [
    {
     "name": "stdout",
     "output_type": "stream",
     "text": [
      "                  Influence gain graph\n"
     ]
    },
    {
     "data": {
      "image/png": "[encoded data removed]",
      "text/plain": [
       "<Figure size 432x288 with 1 Axes>"
      ]
     },
     "metadata": {},
     "output_type": "display_data"
    }
   ],
   "source": [
    "alps_aux={}\n",
    "S_aux=0\n",
    "for user in an:\n",
    "    S_aux=an[user]*Psi[user]+S_aux\n",
    "S_aux=S_aux-an[i]*Psi[i]\n",
    "O_aux=0\n",
    "Oa=list()\n",
    "cont=1\n",
    "for user in an:\n",
    "    if user!=i:\n",
    "        O_aux=O_aux+(an[user]*Psi[user])/S_aux\n",
    "        Oa.append(100*O_aux)\n",
    "L=[j for j in range(len(Oa)+1)]\n",
    "del L[0]\n",
    "datas={'Percentage of optimality':Oa,'Number of users':L}\n",
    "df = pd.DataFrame(datas)\n",
    "print(\"                  Influence gain graph\")\n",
    "df.plot(x='Number of users',y='Percentage of optimality')\n",
    "plt.show()"
   ]
  },
  {
   "cell_type": "markdown",
   "metadata": {},
   "source": [
    "Print the results to output files."
   ]
  },
  {
   "cell_type": "code",
   "execution_count": 39,
   "metadata": {},
   "outputs": [],
   "source": [
    "import gzip\n",
    "f = open('OSP_solution_s','w')\n",
    "for u in an:\n",
    "    f.write(\"%d %g\\n\"%(u, an[u]))\n",
    "f.close()"
   ]
  },
  {
   "cell_type": "markdown",
   "metadata": {},
   "source": [
    "## Reference\n",
    "\n",
    "[1]. Giovanidis, A., Baynat, B., & Vendeville, A. (2019, April). Performance analysis of online social platforms. In IEEE INFOCOM 2019-IEEE Conference on Computer Communications (pp. 2413-2421). IEEE."
   ]
  }
 ],
 "metadata": {
  "kernelspec": {
   "display_name": "Python 3",
   "language": "python",
   "name": "python3"
  },
  "language_info": {
   "codemirror_mode": {
    "name": "ipython",
    "version": 3
   },
   "file_extension": ".py",
   "mimetype": "text/x-python",
   "name": "python",
   "nbconvert_exporter": "python",
   "pygments_lexer": "ipython3",
   "version": "3.6.5"
  }
 },
 "nbformat": 4,
 "nbformat_minor": 2
}
