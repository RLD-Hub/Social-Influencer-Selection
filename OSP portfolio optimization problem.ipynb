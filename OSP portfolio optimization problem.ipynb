{
 "cells": [
  {
   "cell_type": "markdown",
   "metadata": {},
   "source": [
    "# OSP portfolio optimization problem"
   ]
  },
  {
   "cell_type": "markdown",
   "metadata": {},
   "source": [
    "5 May 2020\n",
    "\n",
    "We present here the numerical solution for the portfolio optimization problem on social platforms of small number of nodes, for which the matrix-inversion and the vector-matrix multiplication do not pose calculation difficulties, so we use a direct approach to program the solution.\n",
    "\n",
    "$\\textbf{Model}$: We analyze the budget allocation problem where a user has a budget and decides to assign it to some users in order to maximize his/her influence on the network through the participation of the selected users.\n",
    "\n",
    "In such a platform, there are $N > 2$ users in total. Each user $n$ is considered as a virtual node and has a Newsfeed and a Wall. Suppose the Newsfeed of size $M > 0$ and the Wall of size $K >0$. Furthermore, each user has a set of leaders, $L^{(n)}$, and she/he can be the leader of others. The Newsfeed of $n$ is refreshed instantaneously by insertion of posts published on the Walls of his Leaders. The user visits his Newsfeed and chooses among the currently available posts to re-post on his own Wall with rate $\\mu^{(n)}\\geq 0$ [posts/unit-time]. Additionally, he produces own posts on his Wall with rate $\\lambda^{(n)}\\geq 0$. These posts are marked on their generation by the user-author index $(n)$.\n",
    "\n",
    "$\\textbf{Assumptions}$: The choice of which post to share on one's Wall and which post to evict when a new post arrives is uniformly random, among the present posts on the Wall and the Newsfeed. Also, both post-feed processes per user are assumed Poisson.\n",
    "\n",
    "Consider a particular user $i$. The steady-state probability to find posts from user $i$ on the Newsfeed and Wall of user $n$ is the tuple $(p_i^{(n)},q_i^{(n)})$. With this, we form the steady state column-vectors\n",
    "\n",
    "$P_{vec}(i):=(P_{vec}(1,i),\\ldots,P_{vec}(N,i))=(p_i^{(1)},\\ldots,p_i^{(n)})$, and\n",
    "\n",
    "$Q_{vec}(i):=(Q_{vec}(1,i),\\ldots,Q_{vec}(N,i))=(q_i^{(1)},\\ldots,q_i^{(n)})$.\n",
    "\n",
    "These are the steady-state vectors for posts of origin $(i)$ on all the Newsfeeds and Walls of users.\n",
    "\n",
    "We define the influence of user $i$ on user $n$, $q^{(n)}_i$, as the steady-state probability that a post found on the Wall of user $n$ is of label $i$, i.e., has been originally created by user $i$. Note that these probabilities are performance parameters that will be the output of the developed models. We propose the following metric of influence, $\\Psi_i =\\frac{1}{N-1} \\sum_{n \\not=i} q^{(n)}_i$."
   ]
  },
  {
   "cell_type": "markdown",
   "metadata": {},
   "source": [
    "### Linear System solution (Theorem 2 from paper)\n",
    "\n",
    "Linear System solution (Theorem 2 from paper)\n",
    "To find the values of the steady-state vectors $P_{vec}(i)$ and $Q_{vec}(i)$, one needs to solve the following linear system (formulas $(12)-(13)$):\n",
    "\n",
    "$(12) \\space P_{vec}(i) = AP_{vec}(i) + b(i)$\n",
    "\n",
    "$(13) \\space Q_{vec}(i) = C_{vec}(i) + d(i).$\n",
    "\n",
    "In the above $A$, $C$ are $N\\times N$ matrices and $b(i)$, $d(i)$ are $N\\times 1$ column vectors.\n",
    "\n",
    "$A(j,k) = \\frac{\\mu^{(k)}}{\\sum_{\\ell\\in L^{(j)}}\\lambda^{(\\ell)}+\\mu^{(\\ell)}}\\mathbf{1}(k\\in L^{(j)})$,\n",
    "\n",
    "$b(j,i) = \\frac{\\lambda^{(i)}}{\\sum_{\\ell\\in L^{(j)}}\\lambda^{(\\ell)}+\\mu^{(\\ell)}}\\mathbf{1}(i\\in L^{(j)})$,\n",
    "\n",
    "$C(j,i) = \\frac{\\mu^{(j)}}{\\lambda^{(j)}+\\mu^{(j)}}\\mathbf{1}(j==i)$,\n",
    "\n",
    "$d(j,i) = \\frac{\\lambda^{(i)}}{\\lambda^{(i)}+\\mu^{(i)}}\\mathbf{1}(j==i)$."
   ]
  },
  {
   "cell_type": "markdown",
   "metadata": {},
   "source": [
    "### Portfolio Optimization Problem on Online Social Platforms\n",
    "Let's select one element in the user set $ i\\in \\mathcal{N}=\\{ 1,...,N \\}$, and let it be the set $ S = \\{i \\}$ (this set represents the set where we want to analyze how a joint advertising campaign of the other users is directed to the user i). In turn, suppose that for each post rate of user $n$ different from user $i$, we have $\\lambda^{(n)}=a_n \\lambda^{(n)}+(1-a_n) \\lambda^{(n)}, a_n \\in [0,1]$, where $a_n$ represents the post rate of user $n$ directed to user $ i $ (that is, directed to advertising) and $1-a_n$ represents the post rate of user $n$ directed to personal use of user $n$.\n",
    "\n",
    "In our problem framework we have a budget that must not be exceeded $P$, this budget represents the budget limit that the advertising campaign directed to the user $ i $ can cost but don't exceed. Also for each user $ n $, there is a $ c_n $ that represents the cost (in the same scale of $P$) of post over time unit of the user $n$ directed to the advertising campaign. Then the user's individualized budget $ n $ is given by $ P_n = c_n a_n \\lambda ^ {(n)}.$\n",
    "\n",
    "On the other hand, note that if we define the influence of the user $ n \\not = i $ directed at advertising towards the set $S $ (denoted by $\\Psi_{n,S} (a_n)$), then the only difference between $\\Psi_{n, S} (a_n) $ and $ \\Psi_n $ is to consider the system as:\n",
    "\n",
    "$$(\\lambda^{(1)},\\mu^{(1)}),...,(a_n \\lambda^{(n)},\\mu^{(n)}) ,...,(\\lambda^{(N)},\\mu^{(N)}),$$ Instead of: $$(\\lambda^{(1)},\\mu^{(1)}),...,( \\lambda^{(n)},\\mu^{(n)}) ,...,(\\lambda^{(N)},\\mu^{(N)}).$$\n",
    "\n",
    "In this way, sequentially we can add all the users differents from the user $i$ and so we are interested in maximizing over the set $\\{a_n \\}_{n \\not=i}$ the sum of each influence through the user $ n \\not = i $ directed to advertising towards the user $ i $ and the direct influence of the user $ i $, subject to the budget constraint $ P $ not being exceeded by the sum of the individual budgeting of each user $ n \\not = i $, namely: \n",
    "\n",
    "$$\\max_{ \\{a_n \\}_{n \\not=i} } (\\sum_{n \\in \\mathcal{N}\\setminus \\{i \\} } \\Psi_{n,S} (a_n) +\\Psi_i ), \\textbf{subject} \\sum_{n \\in \\mathcal{N}\\setminus \\{i \\} }  c_n a_n \\lambda ^ {(n)} \\leq P .$$\n",
    "\n",
    "Through our results we saw that $ \\Psi_{n,S} (a_n)=a_n \\Psi_{n}, \\forall n \\in \\mathcal{N}\\setminus \\{i \\}$, in this way, our problem turns out to be the following optimization problem:\n",
    "\n",
    "$$\\max_{ \\{a_n \\}_{n \\not=i} } (\\sum_{n \\in \\mathcal{N}\\setminus \\{i \\} } a_n \\Psi_{n}  +\\Psi_i ), \\textbf{subject} \\sum_{n \\in \\mathcal{N}\\setminus \\{i \\} }  c_n a_n \\lambda ^ {(n)} \\leq P.$$\n",
    "\n",
    "which can be solved by linear programming, specifically by the simplex algorithm. Let's note that the restriction $\\sum_{n \\in \\mathcal{N}\\setminus \\{i \\} }  c_n a_n \\lambda ^ {(n)} \\leq P$ can be considered as $\\sum_{n \\in \\mathcal{N}\\setminus \\{i \\} }  c_n a_n \\lambda ^ {(n)}=P$ cause if we have the strict inequality, we can always increase an $a_l$ such the influence is strictly increased and we continue to maintain the inequality as the restriction."
   ]
  },
  {
   "cell_type": "markdown",
   "metadata": {},
   "source": [
    "### Implementation\n",
    "$\\textbf{Notes}$: For the implementation, we first generate an input from graphs of specific form. We choose here to generate a Erdos-Renyi graph, Albert-Barabasi granp, Ring graph and a Grid graph. Furthermore, we allow the choice of self-posting and re-posting rates.\n",
    "\n",
    "The implementation will fill in the matrices A,C and the vectors b,d for any user and perform the matrix calculations presented in the paper. The methods to solve can be found as Theorem 3 and Theorem 4. The time of convergence of (M1) and (M2) depends on the number of user as well as the maximum number of iterations and the epsilon in the convergence criterion $||p_{neq}-p_{old}||_{\\infty}<eps$. We set: $it =1000$ and $eps = 0.0001$ by default. Note that the implementation of (M2) is not sparse and the simple version outperforms (M1) in examples where the graph structure is non-symmetric.\n",
    "\n",
    "Consequently, we define a cost function in which for each user we estimate the cost per post following the recommendations of the wep-pages https://buffer.com/resources/influencer-marketing-cost, https://buffer.com/library/influencer-marketing-guide and the Instagram money calculator on the web-page https://influencermarketinghub.com/instagram-money-calculator/. That is, the minimum cost that can be paid to an influencer following the recommendations of the estimated of the Instagram money calculator like the cost per post of user $n$ is $\\$5\\frac{\\text{Number of followers}_n}{1000}+\\$250\\frac{\\text{Average Engagments_n}}{1000}$. The average engagments is equivalent in our model to the average number of sharings of label of the user $n$ in our social platform, which is the average of the set composed by the steady-state probabilities that a post found on the Wall of a user $l \\not=n$ is of label $n$ times the number of followers of user $n$. So, we have that the cost per post is equal to $\\$5\\frac{\\text{Number of followers}_n}{1000}+\\$250\\Psi_n \\frac{\\text{Number of followers}_n}{1000}$. \n",
    "\n",
    "Finally, we found the OSP portfolio optimization numerical solutions through the well-known simplex algorithm and through the method desired by the user (M1) or (M2). Let's observe that the python implementation of simplex algorithm gives the basic feasible solution to serve as an optimal solution."
   ]
  },
  {
   "cell_type": "code",
   "execution_count": 1,
   "metadata": {},
   "outputs": [
    {
     "name": "stdout",
     "output_type": "stream",
     "text": [
      "Populating the interactive namespace from numpy and matplotlib\n"
     ]
    }
   ],
   "source": [
    "%pylab inline\n",
    "import math\n",
    "import numpy as np\n",
    "import pandas as pd\n",
    "import time\n",
    "import matplotlib.pyplot as plt\n",
    "import scipy.optimize as opt\n",
    "import networkx as nx\n",
    "from numpy import inf"
   ]
  },
  {
   "cell_type": "markdown",
   "metadata": {},
   "source": [
    "## 1. Input Graphs\n",
    "We first would like to generate the input graphs for our Social platform.\n",
    "\n",
    "We propose four graph categories: (I) Erdos-Renyi Graph, (II) Albert-Barabasi Graph, (III) Ring Graph, (IV) Grid Graph.\n",
    "\n",
    "For each graph, we need to define: (1) number of users $N$, (2) self- and re-post activity rate N-vectors, $L_{vec}$ and $M_{vec}$ (3) Leader graph (either NxN or list), (4) the cost per post for each user and (5) the user $i$ who orchestrates the advertising campaign.\n",
    "\n",
    "For the special cases Erdos-Renyi, Albert-Barabasi and Ring Graph, a probability $pr$ in Erdos-Renyi graph $G(N,p)$, the number of edges $m$ to attach from a new node to existing nodes in the Barabasi-Albert model and a radius $R$ should also be defined, which determines the number of leaders per user."
   ]
  },
  {
   "cell_type": "code",
   "execution_count": 2,
   "metadata": {},
   "outputs": [],
   "source": [
    "# Number of users in Social graph, pr probability in Erdos-Renyi graph G(N,pr) and m is the number of edges to attach from a new node to existing nodes in the Barabasi-Albert model\n",
    "N=25\n",
    "m=3\n",
    "pr=.2"
   ]
  },
  {
   "cell_type": "markdown",
   "metadata": {},
   "source": [
    "### I. Erdos-Renyi Graph\n",
    "\n",
    "We fix the probability $pr$ and a Erdos-Renyi graph $G(N,pr)$ is constructed. Namely by connecting nodes randomly with directed edges where each edge is included in the graph with probability $pr$ independent from every other directed edge. \n",
    "\n",
    "Note: In this implementation we assume users indexed from $n=0,...N-1$, and we use lists, so that the entry e.g. $R_{vec}[0]$ refers to the number of leaders for user \"0\", and similarly $R_{vec}[n]$ for user \"n\"."
   ]
  },
  {
   "cell_type": "code",
   "execution_count": 3,
   "metadata": {},
   "outputs": [],
   "source": [
    "#Graphs------------------------------------------------------------------------------------------------------------------------\n",
    "#Erdos-Renyi Graph-------------------------------------------------------------------------------------------------------------\n",
    "def erdosL_graph(N,p):\n",
    "    Lead = [list() for j in range(N)]\n",
    "    for n in range(0,N):\n",
    "        for m in range(0,N):\n",
    "            if n!=m:\n",
    "                aux=np.random.binomial(1,p)\n",
    "                if aux==1:\n",
    "                    Lead[n].append(m)\n",
    "    return Lead\n",
    "#Erdos Renyi graph with our hypotheses (each user has at least one leader)\n",
    "def erdos_graph(N,p): \n",
    "    Lead = erdosL_graph(N,p)\n",
    "    for n in range(0,N):\n",
    "        if len(Lead[n])==0:\n",
    "            return erdos_graph(N,p)\n",
    "    return Lead"
   ]
  },
  {
   "cell_type": "code",
   "execution_count": 4,
   "metadata": {},
   "outputs": [
    {
     "name": "stdout",
     "output_type": "stream",
     "text": [
      "Lead of Erdos-Renyi graph= [[3, 5, 7, 9, 10, 15, 21, 22, 24], [4, 19, 22], [1, 6, 10, 14, 15, 16, 19], [6, 18, 20, 24], [10, 24], [13, 14], [4, 7, 9, 12, 14, 23], [1, 4, 9, 10, 22, 23], [1, 9, 10, 11, 15], [8, 10, 14, 22], [20], [13, 14, 15, 24], [1, 22, 23], [3, 17, 22], [21], [0, 4, 7, 14, 17, 18, 20], [11, 20, 23], [0, 1, 4, 9, 14, 18, 22], [5, 7, 11, 13, 15, 16, 17, 23], [1, 10, 15, 18], [2, 15, 19, 23], [4, 9, 13, 17], [8, 9, 11, 12, 18, 23], [3, 6, 15], [1, 3, 8, 11, 13, 18, 20]]\n"
     ]
    }
   ],
   "source": [
    "Lead=erdos_graph(N,pr) #We select graph structure\n",
    "print(\"Lead of Erdos-Renyi graph=\",Lead)"
   ]
  },
  {
   "cell_type": "markdown",
   "metadata": {},
   "source": [
    "We will now draw the produced directed Leader Graph."
   ]
  },
  {
   "cell_type": "code",
   "execution_count": 5,
   "metadata": {},
   "outputs": [
    {
     "data": {
      "image/png": "[encoded data removed]",
      "text/plain": [
       "<Figure size 432x288 with 1 Axes>"
      ]
     },
     "metadata": {},
     "output_type": "display_data"
    }
   ],
   "source": [
    "Gring=nx.DiGraph()\n",
    "for n in range(N):\n",
    "    ln = list()\n",
    "    ln = Lead[n]\n",
    "    for j in range(len(ln)):\n",
    "        Gring.add_edge(ln[j],n)\n",
    "pos=nx.spring_layout(Gring,iterations=100)\n",
    "nx.draw_networkx(Gring,pos,arrows=True,with_labels=True,node_size=600,node_color='r')"
   ]
  },
  {
   "cell_type": "markdown",
   "metadata": {},
   "source": [
    "### II. Albert-Barabasi Graph\n",
    "\n",
    "In the Albert-Barabasi graph, we begin with an initial complete network of $m$ nodes and $N-m$ new nodes are added to the network one at a time. Each new node is connected to $m$ existing nodes with a bi-directed edge and a probability that is proportional to the number of links that the existing nodes already have, namely $\\frac{\\text{degree}_i}{\\sum_{j \\not=i} \\text{degree}_j}$ with $\\text{degree}_i$ the degree of user $i$. Then, heavily linked nodes tend to quickly accumulate even more links, while nodes with only a few links are unlikely to be chosen as the destination for a new link. "
   ]
  },
  {
   "cell_type": "code",
   "execution_count": 6,
   "metadata": {},
   "outputs": [],
   "source": [
    "#Albert-Barabasi graph---------------------------------------------------------------------------------------------------------\n",
    "def barabasi_albert(n, m):\n",
    "    # initialise with a complete graph on m vertices\n",
    "    Lead=[list() for j in range(N)]\n",
    "    neighbours=[set(range(m)) - {i} for i in range(m)]\n",
    "    degrees=[m-1 for i in range(m)]\n",
    "    for i in range(m, n):\n",
    "        #Set of new neighbours of user i\n",
    "        n_neighbours={i for _, i in sorted([(np.random.exponential(w), i) for i, w in enumerate(degrees)])[:m]}\n",
    "        # add node with back-edges\n",
    "        neighbours.append(n_neighbours)\n",
    "        degrees.append(m)\n",
    "        # add forward-edges\n",
    "        for j in n_neighbours:\n",
    "            neighbours[j].add(i)\n",
    "            degrees[j] += 1\n",
    "    for i in range(N):\n",
    "        for j in range(N):\n",
    "            if j in neighbours[i]:\n",
    "                Lead[i].append(j)\n",
    "    return Lead"
   ]
  },
  {
   "cell_type": "code",
   "execution_count": 7,
   "metadata": {},
   "outputs": [
    {
     "name": "stdout",
     "output_type": "stream",
     "text": [
      "Lead of Albert-Barabasi graph= [[1, 2, 3, 4, 5, 13, 17], [0, 2, 3, 5, 6, 8, 10, 13, 15, 17], [0, 1, 3, 4, 6, 9, 22], [0, 1, 2, 4, 6, 7, 8, 15], [0, 2, 3, 5, 7, 9, 11, 12], [0, 1, 4, 8, 10, 11], [1, 2, 3, 7, 14, 16], [3, 4, 6, 9, 14, 15, 23], [1, 3, 5, 11, 20, 21], [2, 4, 7, 10, 16, 17, 18], [1, 5, 9, 12, 19, 20], [4, 5, 8, 12, 13, 21], [4, 10, 11, 14, 16], [0, 1, 11, 18, 23], [6, 7, 12, 19, 20, 21], [1, 3, 7, 23], [6, 9, 12, 18, 19], [0, 1, 9, 24], [9, 13, 16], [10, 14, 16, 22], [8, 10, 14], [8, 11, 14, 22, 24], [2, 19, 21], [7, 13, 15, 24], [17, 21, 23]]\n"
     ]
    }
   ],
   "source": [
    "Lead=barabasi_albert(N, m) #We select graph structure\n",
    "print(\"Lead of Albert-Barabasi graph=\",Lead)"
   ]
  },
  {
   "cell_type": "code",
   "execution_count": 8,
   "metadata": {},
   "outputs": [
    {
     "data": {
      "image/png": "[encoded data removed]",
      "text/plain": [
       "<Figure size 432x288 with 1 Axes>"
      ]
     },
     "metadata": {},
     "output_type": "display_data"
    }
   ],
   "source": [
    "Gring=nx.DiGraph()\n",
    "for n in range(N):\n",
    "    ln = list()\n",
    "    ln = Lead[n]\n",
    "    for j in range(len(ln)):\n",
    "        Gring.add_edge(ln[j],n)\n",
    "pos=nx.spring_layout(Gring,iterations=100)\n",
    "nx.draw_networkx(Gring,pos,arrows=True,with_labels=True,node_size=600,node_color='r')"
   ]
  },
  {
   "cell_type": "markdown",
   "metadata": {},
   "source": [
    "### III. Ring Graph\n",
    "we set the symmetric ring graph. Each node follows $R$ users at his right and left, so that in total she/he has $2R$ leaders. Obviously, $2R<N$."
   ]
  },
  {
   "cell_type": "code",
   "execution_count": 9,
   "metadata": {},
   "outputs": [
    {
     "name": "stdout",
     "output_type": "stream",
     "text": [
      "Rvec1= [ 6  2 11  1  6  3  4  3  0  1  0  9  5  0  7  6  4  2  6  1  4 11  6  2\n",
      "  6] \n",
      "\n",
      "Rvec2= [2 2 2 2 2 2 2 2 2 2 2 2 2 2 2 2 2 2 2 2 2 2 2 2 2] \n",
      "\n",
      "Rvec3= [2 2 2 2 2 2 2 2 2 2 2 2 2 2 2 2 2 2 2 2 2 2 2 2 2] \n",
      "\n"
     ]
    }
   ],
   "source": [
    "#Ring graph-------------------------------------------------------------------------------------------------------------------\n",
    "# Inout Radius\n",
    "# Defines radius in ring for each user\n",
    "# Radius scenario 1: random with maximum 2R < N\n",
    "Rhigh = int(N/2)\n",
    "Rvec1 = np.random.randint(0,Rhigh+1,N)\n",
    "#\n",
    "# Radius scenario 2: all users same radius R\n",
    "R = 2\n",
    "Rvec2 = R*np.ones(N)\n",
    "Rvec2 = Rvec2.astype(int)\n",
    "#\n",
    "# Radius scenario 3: all users same radius R except user \"0\"\n",
    "Rvec3 = list(Rvec2)\n",
    "Rvec3[0] = 2\n",
    "Rvec3 = np.asarray(Rvec3)\n",
    "Rvec3 = Rvec3.astype(int)\n",
    "print(\"Rvec1=\",Rvec1,\"\\n\")\n",
    "print(\"Rvec2=\",Rvec2,\"\\n\")\n",
    "print(\"Rvec3=\",Rvec3,\"\\n\")"
   ]
  },
  {
   "cell_type": "code",
   "execution_count": 10,
   "metadata": {},
   "outputs": [],
   "source": [
    "def ring_graph(N, Rvec, lead=1, sym=1):\n",
    "    # Produces a list of Leaders, i.e. Lead[j] is the list of leaders for node j.\n",
    "    #\n",
    "    # The function allows for some variations:\n",
    "    # Option lead =1: Vector Rvec is for leaders (Rvec[n] is the list of leaders for node n)\n",
    "    # Option lead =0: Vector Rvec is for followers (Rvec[n]) is the list of followers for node n)\n",
    "    #\n",
    "    # Option sym =1: case of symmetric leaders R right and R left of a user\n",
    "    # Option sym =0: non-symmetric leaders 2R at the right only.\n",
    "    #\n",
    "    Lead = list()\n",
    "    #\n",
    "    if lead==1 and sym==1:\n",
    "        for j in range(0,N):\n",
    "            f = list()\n",
    "            f.extend((j+(np.arange(Rvec[j])+1))%N)\n",
    "            f.extend((j-(np.arange(Rvec[j])+1))%N)\n",
    "            Lead.append(f)\n",
    "    elif lead==1 and sym==0:\n",
    "        for j in range(0,N):\n",
    "            f = list()\n",
    "            f.extend((j+(np.arange(Rvec[j])+1))%N)\n",
    "            Lead.append(f)\n",
    "    elif lead==0 and sym==1:\n",
    "        for j in range(0,N):\n",
    "            f = list()\n",
    "            Lead.append(f)\n",
    "        for j in range(0,N):\n",
    "            f = list()\n",
    "            f.extend((j+(np.arange(Rvec[j])+1))%N)\n",
    "            f.extend((j-(np.arange(Rvec[j])+1))%N)\n",
    "            for n in range(len(f)):\n",
    "                Lead[f[n]].append(j)\n",
    "    elif lead==0 and sym==0:\n",
    "        for j in range(0,N):\n",
    "            f = list()\n",
    "            Lead.append(f)\n",
    "        for j in range(0,N):\n",
    "            f = list()\n",
    "            f.extend((j+(np.arange(Rvec[j])+1))%N)\n",
    "            for n in range(len(f)):\n",
    "                Lead[f[n]].append(j)\n",
    "    return Lead"
   ]
  },
  {
   "cell_type": "code",
   "execution_count": 11,
   "metadata": {},
   "outputs": [
    {
     "name": "stdout",
     "output_type": "stream",
     "text": [
      "Rvec= [ 6  2 11  1  6  3  4  3  0  1  0  9  5  0  7  6  4  2  6  1  4 11  6  2\n",
      "  6]\n",
      "LeadRing= [[1, 2, 3, 4, 5, 6, 24, 23, 22, 21, 20, 19], [2, 3, 0, 24], [3, 4, 5, 6, 7, 8, 9, 10, 11, 12, 13, 1, 0, 24, 23, 22, 21, 20, 19, 18, 17, 16], [4, 2], [5, 6, 7, 8, 9, 10, 3, 2, 1, 0, 24, 23], [6, 7, 8, 4, 3, 2], [7, 8, 9, 10, 5, 4, 3, 2], [8, 9, 10, 6, 5, 4], [], [10, 8], [], [12, 13, 14, 15, 16, 17, 18, 19, 20, 10, 9, 8, 7, 6, 5, 4, 3, 2], [13, 14, 15, 16, 17, 11, 10, 9, 8, 7], [], [15, 16, 17, 18, 19, 20, 21, 13, 12, 11, 10, 9, 8, 7], [16, 17, 18, 19, 20, 21, 14, 13, 12, 11, 10, 9], [17, 18, 19, 20, 15, 14, 13, 12], [18, 19, 16, 15], [19, 20, 21, 22, 23, 24, 17, 16, 15, 14, 13, 12], [20, 18], [21, 22, 23, 24, 19, 18, 17, 16], [22, 23, 24, 0, 1, 2, 3, 4, 5, 6, 7, 20, 19, 18, 17, 16, 15, 14, 13, 12, 11, 10], [23, 24, 0, 1, 2, 3, 21, 20, 19, 18, 17, 16], [24, 0, 22, 21], [0, 1, 2, 3, 4, 5, 23, 22, 21, 20, 19, 18]]\n"
     ]
    }
   ],
   "source": [
    "LeadRing = ring_graph(N,Rvec1,lead=1,sym=1)\n",
    "print(\"Rvec=\",Rvec1)\n",
    "print(\"LeadRing=\",LeadRing)"
   ]
  },
  {
   "cell_type": "code",
   "execution_count": 12,
   "metadata": {},
   "outputs": [
    {
     "data": {
      "image/png": "[encoded data removed]",
      "text/plain": [
       "<Figure size 432x288 with 1 Axes>"
      ]
     },
     "metadata": {},
     "output_type": "display_data"
    }
   ],
   "source": [
    "Gring=nx.DiGraph()\n",
    "for n in range(N):\n",
    "    ln = list()\n",
    "    ln = LeadRing[n]\n",
    "    for j in range(len(ln)):\n",
    "        Gring.add_edge(ln[j],n)\n",
    "\n",
    "# Uncomment below to Draw\n",
    "pos=nx.spring_layout(Gring,iterations=100)\n",
    "nx.draw_networkx(Gring,pos,arrows=True,with_labels=True,node_size=600,node_color='r')"
   ]
  },
  {
   "cell_type": "markdown",
   "metadata": {},
   "source": [
    "### IV. Grid graph\n",
    "In the Grid graph, every node has 4 leaders, except the nodes on the 4 vertices of the Grid who have 2 leaders and the nodes on the edges who have 3.\n",
    "\n",
    "The size of the grid graph should be such that $\\sqrt{N}$ is a postive integer."
   ]
  },
  {
   "cell_type": "code",
   "execution_count": 13,
   "metadata": {},
   "outputs": [],
   "source": [
    "#Grid graph---------------------------------------------------------------------------------------------------------------------\n",
    "def grid_graph(N):\n",
    "    #\n",
    "    dim1 = math.sqrt(N)\n",
    "    #\n",
    "    # Check validity of Grid size\n",
    "    if np.abs(dim1-int(dim1))>0:\n",
    "        return print(\"not valid graph size N\\n\")\n",
    "    #\n",
    "    dim1 = int(dim1)\n",
    "    #\n",
    "    # If size is correct, then produce a list of Leaders.\n",
    "    # Nodes are indexed from top-left (\"0\") to bottom-right (\"N-1\")\n",
    "    # and in each row the indexing increased from left to right.\n",
    "    #\n",
    "    Lead = [list() for j in range(N)]\n",
    "    #\n",
    "    # Internal nodes with 4 leaders each.\n",
    "    for n in range(1,dim1-1):\n",
    "        for m in range(1,dim1-1):\n",
    "            indx = dim1*n+m\n",
    "            Lead[indx].extend([dim1*(n+1)+m, dim1*(n-1)+m, dim1*n+m+1, dim1*n+m-1 ])\n",
    "    # Four vertices with 2 leaders each.\n",
    "    Lead[0].extend([1, dim1])\n",
    "    Lead[dim1-1].extend([dim1-2,dim1*2-1])\n",
    "    Lead[dim1*(dim1-1)].extend([dim1*(dim1-1)+1,dim1*(dim1-2)])\n",
    "    Lead[N-1].extend([N-2,dim1*(dim1-1)-1])\n",
    "    # Remaining nodes on the four edges, not vertices.\n",
    "    # Top\n",
    "    for m in range(1,dim1-1):\n",
    "        Lead[m].extend([m-1,m+1,dim1+m])\n",
    "    # Bottom\n",
    "    for m in range(1,dim1-1):\n",
    "        Lead[dim1*(dim1-1)+m].extend([dim1*(dim1-1)+m-1,dim1*(dim1-1)+m+1,dim1*(dim1-2)+m])\n",
    "    # Left\n",
    "    for n in range(1,dim1-1):\n",
    "        Lead[dim1*n].extend([dim1*n+1,dim1*(n-1),dim1*(n+1)])\n",
    "    # Right\n",
    "    for n in range(1,dim1-1):\n",
    "        Lead[dim1*(n+1)-1].extend([dim1*(n+1)-2,dim1*(n)-1,dim1*(n+2)-1])\n",
    "    return Lead"
   ]
  },
  {
   "cell_type": "code",
   "execution_count": 14,
   "metadata": {},
   "outputs": [
    {
     "name": "stdout",
     "output_type": "stream",
     "text": [
      "LeadGrid= [[1, 5], [0, 2, 6], [1, 3, 7], [2, 4, 8], [3, 9], [6, 0, 10], [11, 1, 7, 5], [12, 2, 8, 6], [13, 3, 9, 7], [8, 4, 14], [11, 5, 15], [16, 6, 12, 10], [17, 7, 13, 11], [18, 8, 14, 12], [13, 9, 19], [16, 10, 20], [21, 11, 17, 15], [22, 12, 18, 16], [23, 13, 19, 17], [18, 14, 24], [21, 15], [20, 22, 16], [21, 23, 17], [22, 24, 18], [23, 19]]\n"
     ]
    }
   ],
   "source": [
    "Lead=grid_graph(N) #We select graph structure\n",
    "print(\"LeadGrid=\",Lead)"
   ]
  },
  {
   "cell_type": "code",
   "execution_count": 15,
   "metadata": {},
   "outputs": [
    {
     "data": {
      "image/png": "[encoded data removed]",
      "text/plain": [
       "<Figure size 432x288 with 1 Axes>"
      ]
     },
     "metadata": {},
     "output_type": "display_data"
    }
   ],
   "source": [
    "Gring=nx.DiGraph()\n",
    "for n in range(N):\n",
    "    ln = list()\n",
    "    ln = Lead[n]\n",
    "    for j in range(len(ln)):\n",
    "        Gring.add_edge(ln[j],n)\n",
    "pos=nx.spring_layout(Gring,iterations=100)\n",
    "nx.draw_networkx(Gring,pos,arrows=True,with_labels=True,node_size=600,node_color='r')"
   ]
  },
  {
   "cell_type": "markdown",
   "metadata": {},
   "source": [
    "## 2. General Input\n",
    "\n",
    "We first define the general input (1),(2) and (3) related to size and activity. So, we could calculate using (M1) or (M2) the influence metric for each user and then we could get the cost per post (4) for each user and get our basic feasible solution \n",
    "through the simplex method.\n",
    "\n",
    "We give three example options for the activity to post and re-post. These are just input examples, and can be chosen arbitrarily, depending on the scenario to be tested."
   ]
  },
  {
   "cell_type": "code",
   "execution_count": 16,
   "metadata": {},
   "outputs": [
    {
     "name": "stdout",
     "output_type": "stream",
     "text": [
      "N= 200 \n",
      "\n",
      "Lvec1= [59.89346 79.97366  6.26276 66.27293 43.91789 29.52525 98.29951 84.32096\n",
      " 25.62441 68.75093 79.2589  85.95042  4.27782 59.35468 94.34195 74.97489\n",
      " 83.98431 83.81878 84.06881 58.66543 17.03988 69.65579  4.98787 82.48594\n",
      " 97.39533 73.49523 62.35181 63.90104 34.39492 87.31499 93.00616 99.00387\n",
      " 70.98971 94.05938 17.28608 94.41063 88.81446 63.60035 52.86788 18.6236\n",
      " 36.70015  1.35643 29.56326 73.51877 68.31238 60.56527 72.00827 28.37032\n",
      " 91.99517 58.83752 62.15633 35.77428 46.18266 72.30908 77.03625  6.76189\n",
      "  2.01443 59.55105 78.13283 53.63516 87.49208 60.03586 19.86152  3.0381\n",
      " 39.69616 61.27477 29.20237 87.01445 43.39084  2.34396 96.48449 70.21249\n",
      " 16.69053 72.90389 21.22096 70.31355 21.63049  5.68388 23.37844 64.35616\n",
      " 37.80252 58.58464 23.55073 56.2145  81.7681  17.86147 47.87724 21.91586\n",
      " 28.6251  35.95452 88.20703 69.6685  47.90662  2.31977 87.80797 40.20975\n",
      " 87.01183 99.66596 94.3571  27.72255 83.07087 61.70507 73.65105 46.77374\n",
      " 56.02674 36.0205  20.25777 40.73779 55.37755 47.62159 26.36349 50.19736\n",
      " 29.55357 92.80795 11.73782 29.64071  0.34234 65.88975 62.27204 45.13852\n",
      " 75.16301 96.6017  44.40948 42.72421 97.39998  7.42039  4.38022 42.26284\n",
      " 22.7006  73.17683 11.49152 61.9113  99.11036 85.49751  0.43602 60.66806\n",
      "  1.51962  2.00552 67.73716 62.09571 87.65038 38.55622 75.82608 16.25504\n",
      " 89.47924 13.34388 66.02528 38.6717  91.17345 44.03376 52.4341  98.71505\n",
      " 30.45808 78.17703 11.09068  8.02374 69.56087 82.41507 61.59647 60.94366\n",
      " 43.74533 20.99096 94.07339 66.13021  4.40401  4.90388 47.3572  50.61564\n",
      " 81.25786 73.23669 80.75127 48.98988 40.97348 98.21312 51.89112 54.57302\n",
      " 79.48666 28.68387 40.42393 26.6694   8.19973 36.96276 40.11808 83.14145\n",
      " 53.23371 12.74325 39.31084 16.09176 76.53727  7.56322 66.78288 79.76239\n",
      " 22.55495 71.45756  0.75135 68.10831 58.25449 15.8679  99.80329 17.05188] \n",
      " Mvec1= [71.13969 78.26153 80.32861 91.31214 61.35171 11.02709 99.06419 84.34946\n",
      " 89.75181 57.66221 34.49206 57.86401 96.31477 73.19935 21.06129 40.13136\n",
      " 88.25252 32.85883 62.98153 14.59369 65.45804 38.34531 54.48095 59.36619\n",
      " 54.9684  50.51103 80.06225 74.89947 41.71183 19.8734  20.53393 32.38878\n",
      " 12.94007 41.07437 32.37327 36.28886 79.55026 51.37087 16.73103 50.07692\n",
      " 58.90787  8.95889  6.63136 12.97301 96.01577 70.72483 65.35257 90.08608\n",
      " 80.43506 53.30722 23.60763 81.11572 42.57164 15.78458 71.24215 36.27032\n",
      "  7.23114 13.24884 99.08656 84.35454  7.43809 88.96258 63.60462 38.17371\n",
      " 77.56813 40.00113 19.09781 14.23891 40.62964 71.3795  86.44174 96.18271\n",
      " 80.69588 72.00938 87.15852 59.40687 25.84449 47.53853 88.11982 92.59454\n",
      " 36.46839 29.13674  1.12002 58.42911 29.11518 13.07528 66.5806  58.71538\n",
      " 25.47963 12.0798  81.5469  52.84447 65.51053 83.08711 87.9155  43.55129\n",
      " 61.09328  8.02747 11.36215  5.03856 58.90002 72.75215 21.25443 16.72617\n",
      "  7.56499 10.20185 85.46626 23.85003  6.82203 34.2669   3.60793 66.30494\n",
      " 49.80046 58.46158 36.3055  42.15076 52.90843 61.46077 55.54087 46.61208\n",
      " 27.7866  46.44087 28.65067 47.01658 34.72683 86.46099 66.02056 20.06416\n",
      " 87.54631 78.2119  40.10721 92.32143 55.51984 42.47412 94.54362 64.61789\n",
      " 41.30881 59.91251 63.85173  0.65871 58.68588 28.16868 80.30918  0.3593\n",
      "  8.67422 48.05189 50.17368 38.3762  79.6058  97.6372  69.083   57.98259\n",
      " 20.47099 86.08249 76.20121 52.54602 19.54968 50.1346   2.32562 94.12349\n",
      " 85.46165 69.61941 13.40748 89.97526 82.35564 61.4431  58.34736 91.29054\n",
      " 32.94415  6.52243 67.19945 77.98833 47.90548 11.72237 99.69833 77.74208\n",
      " 78.34257 99.6757  85.73917 94.49042 91.3334  14.17569 47.67601 18.58147\n",
      " 69.67581 35.94221  6.73773 47.03872 77.8634  19.50058 27.03807 92.1652\n",
      "  8.34281 85.7605  95.532   72.86171 46.43021 11.78039 18.28443 38.48212] \n",
      "\n",
      "Lvec2= [1. 1. 1. 1. 1. 1. 1. 1. 1. 1. 1. 1. 1. 1. 1. 1. 1. 1. 1. 1. 1. 1. 1. 1.\n",
      " 1. 1. 1. 1. 1. 1. 1. 1. 1. 1. 1. 1. 1. 1. 1. 1. 1. 1. 1. 1. 1. 1. 1. 1.\n",
      " 1. 1. 1. 1. 1. 1. 1. 1. 1. 1. 1. 1. 1. 1. 1. 1. 1. 1. 1. 1. 1. 1. 1. 1.\n",
      " 1. 1. 1. 1. 1. 1. 1. 1. 1. 1. 1. 1. 1. 1. 1. 1. 1. 1. 1. 1. 1. 1. 1. 1.\n",
      " 1. 1. 1. 1. 1. 1. 1. 1. 1. 1. 1. 1. 1. 1. 1. 1. 1. 1. 1. 1. 1. 1. 1. 1.\n",
      " 1. 1. 1. 1. 1. 1. 1. 1. 1. 1. 1. 1. 1. 1. 1. 1. 1. 1. 1. 1. 1. 1. 1. 1.\n",
      " 1. 1. 1. 1. 1. 1. 1. 1. 1. 1. 1. 1. 1. 1. 1. 1. 1. 1. 1. 1. 1. 1. 1. 1.\n",
      " 1. 1. 1. 1. 1. 1. 1. 1. 1. 1. 1. 1. 1. 1. 1. 1. 1. 1. 1. 1. 1. 1. 1. 1.\n",
      " 1. 1. 1. 1. 1. 1. 1. 1.] \n",
      " Mvec2= [1. 1. 1. 1. 1. 1. 1. 1. 1. 1. 1. 1. 1. 1. 1. 1. 1. 1. 1. 1. 1. 1. 1. 1.\n",
      " 1. 1. 1. 1. 1. 1. 1. 1. 1. 1. 1. 1. 1. 1. 1. 1. 1. 1. 1. 1. 1. 1. 1. 1.\n",
      " 1. 1. 1. 1. 1. 1. 1. 1. 1. 1. 1. 1. 1. 1. 1. 1. 1. 1. 1. 1. 1. 1. 1. 1.\n",
      " 1. 1. 1. 1. 1. 1. 1. 1. 1. 1. 1. 1. 1. 1. 1. 1. 1. 1. 1. 1. 1. 1. 1. 1.\n",
      " 1. 1. 1. 1. 1. 1. 1. 1. 1. 1. 1. 1. 1. 1. 1. 1. 1. 1. 1. 1. 1. 1. 1. 1.\n",
      " 1. 1. 1. 1. 1. 1. 1. 1. 1. 1. 1. 1. 1. 1. 1. 1. 1. 1. 1. 1. 1. 1. 1. 1.\n",
      " 1. 1. 1. 1. 1. 1. 1. 1. 1. 1. 1. 1. 1. 1. 1. 1. 1. 1. 1. 1. 1. 1. 1. 1.\n",
      " 1. 1. 1. 1. 1. 1. 1. 1. 1. 1. 1. 1. 1. 1. 1. 1. 1. 1. 1. 1. 1. 1. 1. 1.\n",
      " 1. 1. 1. 1. 1. 1. 1. 1.] \n",
      "\n",
      "Lvec3= [10.  1.  1.  1.  1.  1.  1.  1.  1.  1.  1.  1.  1.  1.  1.  1.  1.  1.\n",
      "  1.  1.  1.  1.  1.  1.  1.  1.  1.  1.  1.  1.  1.  1.  1.  1.  1.  1.\n",
      "  1.  1.  1.  1.  1.  1.  1.  1.  1.  1.  1.  1.  1.  1.  1.  1.  1.  1.\n",
      "  1.  1.  1.  1.  1.  1.  1.  1.  1.  1.  1.  1.  1.  1.  1.  1.  1.  1.\n",
      "  1.  1.  1.  1.  1.  1.  1.  1.  1.  1.  1.  1.  1.  1.  1.  1.  1.  1.\n",
      "  1.  1.  1.  1.  1.  1.  1.  1.  1.  1.  1.  1.  1.  1.  1.  1.  1.  1.\n",
      "  1.  1.  1.  1.  1.  1.  1.  1.  1.  1.  1.  1.  1.  1.  1.  1.  1.  1.\n",
      "  1.  1.  1.  1.  1.  1.  1.  1.  1.  1.  1.  1.  1.  1.  1.  1.  1.  1.\n",
      "  1.  1.  1.  1.  1.  1.  1.  1.  1.  1.  1.  1.  1.  1.  1.  1.  1.  1.\n",
      "  1.  1.  1.  1.  1.  1.  1.  1.  1.  1.  1.  1.  1.  1.  1.  1.  1.  1.\n",
      "  1.  1.  1.  1.  1.  1.  1.  1.  1.  1.  1.  1.  1.  1.  1.  1.  1.  1.\n",
      "  1.  1.] \n",
      " Mvec3= [0.5 1.  1.  1.  1.  1.  1.  1.  1.  1.  1.  1.  1.  1.  1.  1.  1.  1.\n",
      " 1.  1.  1.  1.  1.  1.  1.  1.  1.  1.  1.  1.  1.  1.  1.  1.  1.  1.\n",
      " 1.  1.  1.  1.  1.  1.  1.  1.  1.  1.  1.  1.  1.  1.  1.  1.  1.  1.\n",
      " 1.  1.  1.  1.  1.  1.  1.  1.  1.  1.  1.  1.  1.  1.  1.  1.  1.  1.\n",
      " 1.  1.  1.  1.  1.  1.  1.  1.  1.  1.  1.  1.  1.  1.  1.  1.  1.  1.\n",
      " 1.  1.  1.  1.  1.  1.  1.  1.  1.  1.  1.  1.  1.  1.  1.  1.  1.  1.\n",
      " 1.  1.  1.  1.  1.  1.  1.  1.  1.  1.  1.  1.  1.  1.  1.  1.  1.  1.\n",
      " 1.  1.  1.  1.  1.  1.  1.  1.  1.  1.  1.  1.  1.  1.  1.  1.  1.  1.\n",
      " 1.  1.  1.  1.  1.  1.  1.  1.  1.  1.  1.  1.  1.  1.  1.  1.  1.  1.\n",
      " 1.  1.  1.  1.  1.  1.  1.  1.  1.  1.  1.  1.  1.  1.  1.  1.  1.  1.\n",
      " 1.  1.  1.  1.  1.  1.  1.  1.  1.  1.  1.  1.  1.  1.  1.  1.  1.  1.\n",
      " 1.  1. ] \n",
      "\n"
     ]
    }
   ],
   "source": [
    "#General Input (N, Lvec, Mvec)--------------------------------------------------------------------------------------------------\n",
    "N=200\n",
    "print(\"N=\",N,'\\n') # network size\n",
    "# Activity\n",
    "# Activity Scenario case 1: random activity\n",
    "Amax = 100 #maximum activity rate in the random choice (case 1)\n",
    "Lvec1 = np.random.uniform(0,Amax, N)\n",
    "Mvec1 = np.random.uniform(0,Amax, N)\n",
    "#\n",
    "Lvec1 = np.round(Lvec1, 5)\n",
    "Mvec1 = np.round(Mvec1, 5)\n",
    "# Activity Scenario case 2: symmetric activity\n",
    "lam = 1.\n",
    "mu = 1\n",
    "Lvec2 = lam*np.ones(N, np.float64)\n",
    "Mvec2 = mu*np.ones(N, np.float64)\n",
    "#\n",
    "# Activity Scenario case 3: asymmetric activity for 1 user\n",
    "lam1 = 10\n",
    "mu1 = 0.5\n",
    "Lvec3 = list(Lvec2)\n",
    "Mvec3 = list(Mvec2)\n",
    "Lvec3[0] = lam1\n",
    "Mvec3[0] = mu1\n",
    "Lvec3 = np.asarray(Lvec3)\n",
    "Mvec3 = np.asarray(Mvec3)\n",
    "#\n",
    "print(\"Lvec1=\",Lvec1,\"\\n\",\"Mvec1=\",Mvec1,\"\\n\")\n",
    "print(\"Lvec2=\",Lvec2,\"\\n\",\"Mvec2=\",Mvec2,\"\\n\")\n",
    "print(\"Lvec3=\",Lvec3,\"\\n\",\"Mvec3=\",Mvec3,\"\\n\")"
   ]
  },
  {
   "cell_type": "markdown",
   "metadata": {},
   "source": [
    "#### Input parameter\n",
    "\n",
    "The input chosen:"
   ]
  },
  {
   "cell_type": "code",
   "execution_count": 17,
   "metadata": {},
   "outputs": [
    {
     "name": "stdout",
     "output_type": "stream",
     "text": [
      "N= 200 \n",
      "\n",
      "Lvec= [59.89346 79.97366  6.26276 66.27293 43.91789 29.52525 98.29951 84.32096\n",
      " 25.62441 68.75093 79.2589  85.95042  4.27782 59.35468 94.34195 74.97489\n",
      " 83.98431 83.81878 84.06881 58.66543 17.03988 69.65579  4.98787 82.48594\n",
      " 97.39533 73.49523 62.35181 63.90104 34.39492 87.31499 93.00616 99.00387\n",
      " 70.98971 94.05938 17.28608 94.41063 88.81446 63.60035 52.86788 18.6236\n",
      " 36.70015  1.35643 29.56326 73.51877 68.31238 60.56527 72.00827 28.37032\n",
      " 91.99517 58.83752 62.15633 35.77428 46.18266 72.30908 77.03625  6.76189\n",
      "  2.01443 59.55105 78.13283 53.63516 87.49208 60.03586 19.86152  3.0381\n",
      " 39.69616 61.27477 29.20237 87.01445 43.39084  2.34396 96.48449 70.21249\n",
      " 16.69053 72.90389 21.22096 70.31355 21.63049  5.68388 23.37844 64.35616\n",
      " 37.80252 58.58464 23.55073 56.2145  81.7681  17.86147 47.87724 21.91586\n",
      " 28.6251  35.95452 88.20703 69.6685  47.90662  2.31977 87.80797 40.20975\n",
      " 87.01183 99.66596 94.3571  27.72255 83.07087 61.70507 73.65105 46.77374\n",
      " 56.02674 36.0205  20.25777 40.73779 55.37755 47.62159 26.36349 50.19736\n",
      " 29.55357 92.80795 11.73782 29.64071  0.34234 65.88975 62.27204 45.13852\n",
      " 75.16301 96.6017  44.40948 42.72421 97.39998  7.42039  4.38022 42.26284\n",
      " 22.7006  73.17683 11.49152 61.9113  99.11036 85.49751  0.43602 60.66806\n",
      "  1.51962  2.00552 67.73716 62.09571 87.65038 38.55622 75.82608 16.25504\n",
      " 89.47924 13.34388 66.02528 38.6717  91.17345 44.03376 52.4341  98.71505\n",
      " 30.45808 78.17703 11.09068  8.02374 69.56087 82.41507 61.59647 60.94366\n",
      " 43.74533 20.99096 94.07339 66.13021  4.40401  4.90388 47.3572  50.61564\n",
      " 81.25786 73.23669 80.75127 48.98988 40.97348 98.21312 51.89112 54.57302\n",
      " 79.48666 28.68387 40.42393 26.6694   8.19973 36.96276 40.11808 83.14145\n",
      " 53.23371 12.74325 39.31084 16.09176 76.53727  7.56322 66.78288 79.76239\n",
      " 22.55495 71.45756  0.75135 68.10831 58.25449 15.8679  99.80329 17.05188] \n",
      "\n",
      "Mvec= [71.13969 78.26153 80.32861 91.31214 61.35171 11.02709 99.06419 84.34946\n",
      " 89.75181 57.66221 34.49206 57.86401 96.31477 73.19935 21.06129 40.13136\n",
      " 88.25252 32.85883 62.98153 14.59369 65.45804 38.34531 54.48095 59.36619\n",
      " 54.9684  50.51103 80.06225 74.89947 41.71183 19.8734  20.53393 32.38878\n",
      " 12.94007 41.07437 32.37327 36.28886 79.55026 51.37087 16.73103 50.07692\n",
      " 58.90787  8.95889  6.63136 12.97301 96.01577 70.72483 65.35257 90.08608\n",
      " 80.43506 53.30722 23.60763 81.11572 42.57164 15.78458 71.24215 36.27032\n",
      "  7.23114 13.24884 99.08656 84.35454  7.43809 88.96258 63.60462 38.17371\n",
      " 77.56813 40.00113 19.09781 14.23891 40.62964 71.3795  86.44174 96.18271\n",
      " 80.69588 72.00938 87.15852 59.40687 25.84449 47.53853 88.11982 92.59454\n",
      " 36.46839 29.13674  1.12002 58.42911 29.11518 13.07528 66.5806  58.71538\n",
      " 25.47963 12.0798  81.5469  52.84447 65.51053 83.08711 87.9155  43.55129\n",
      " 61.09328  8.02747 11.36215  5.03856 58.90002 72.75215 21.25443 16.72617\n",
      "  7.56499 10.20185 85.46626 23.85003  6.82203 34.2669   3.60793 66.30494\n",
      " 49.80046 58.46158 36.3055  42.15076 52.90843 61.46077 55.54087 46.61208\n",
      " 27.7866  46.44087 28.65067 47.01658 34.72683 86.46099 66.02056 20.06416\n",
      " 87.54631 78.2119  40.10721 92.32143 55.51984 42.47412 94.54362 64.61789\n",
      " 41.30881 59.91251 63.85173  0.65871 58.68588 28.16868 80.30918  0.3593\n",
      "  8.67422 48.05189 50.17368 38.3762  79.6058  97.6372  69.083   57.98259\n",
      " 20.47099 86.08249 76.20121 52.54602 19.54968 50.1346   2.32562 94.12349\n",
      " 85.46165 69.61941 13.40748 89.97526 82.35564 61.4431  58.34736 91.29054\n",
      " 32.94415  6.52243 67.19945 77.98833 47.90548 11.72237 99.69833 77.74208\n",
      " 78.34257 99.6757  85.73917 94.49042 91.3334  14.17569 47.67601 18.58147\n",
      " 69.67581 35.94221  6.73773 47.03872 77.8634  19.50058 27.03807 92.1652\n",
      "  8.34281 85.7605  95.532   72.86171 46.43021 11.78039 18.28443 38.48212] \n",
      "\n"
     ]
    }
   ],
   "source": [
    "print(\"N=\",N,'\\n')\n",
    "Lvec = Lvec1\n",
    "print(\"Lvec=\",Lvec,'\\n')\n",
    "Mvec = Mvec1\n",
    "print(\"Mvec=\",Mvec,'\\n')"
   ]
  },
  {
   "cell_type": "markdown",
   "metadata": {},
   "source": [
    "Choose between our graphs:"
   ]
  },
  {
   "cell_type": "code",
   "execution_count": 18,
   "metadata": {},
   "outputs": [
    {
     "name": "stdout",
     "output_type": "stream",
     "text": [
      "Lead= [[5, 14, 24, 38, 45, 46, 55, 56, 58, 60, 63, 70, 77, 81, 85, 96, 110, 118, 119, 120, 122, 129, 136, 137, 141, 144, 146, 148, 151, 158, 161, 162, 166, 169, 172, 182, 184, 185, 189, 191, 198], [9, 15, 17, 18, 20, 31, 35, 38, 39, 42, 55, 58, 66, 68, 69, 75, 78, 80, 91, 99, 108, 122, 138, 140, 147, 155, 157, 165, 170, 179, 188, 189, 198], [0, 1, 8, 11, 18, 22, 30, 38, 54, 57, 65, 68, 72, 77, 81, 83, 84, 85, 93, 95, 103, 107, 109, 119, 124, 131, 132, 133, 151, 152, 153, 168, 169, 181, 182, 188, 189, 192, 195], [6, 11, 20, 25, 27, 33, 34, 39, 40, 43, 44, 53, 54, 69, 72, 79, 82, 86, 96, 100, 104, 105, 110, 114, 119, 121, 125, 130, 132, 144, 155, 156, 158, 161, 168, 171, 173, 176, 182, 183, 185, 186, 195, 196, 199], [2, 8, 14, 16, 19, 30, 48, 51, 57, 82, 85, 92, 109, 113, 114, 123, 125, 131, 136, 141, 144, 149, 156, 159, 163, 168, 169, 177, 189, 195, 196, 198], [14, 16, 17, 18, 31, 37, 45, 52, 57, 60, 70, 73, 77, 87, 89, 94, 96, 98, 112, 117, 120, 133, 134, 143, 146, 147, 149, 155, 157, 162, 164, 165, 170, 175, 176, 180, 187, 190, 193, 195, 196], [1, 2, 14, 18, 21, 23, 27, 28, 34, 36, 39, 45, 46, 49, 51, 53, 64, 70, 73, 81, 92, 107, 113, 115, 123, 150, 160, 163, 166, 174, 177, 180, 185, 187, 190, 192, 195], [3, 6, 10, 12, 18, 20, 22, 24, 28, 30, 38, 39, 42, 43, 44, 55, 60, 61, 62, 73, 74, 75, 77, 89, 91, 93, 102, 112, 119, 135, 136, 138, 143, 144, 154, 156, 162, 166, 170, 177, 179, 182, 186], [3, 4, 6, 14, 15, 18, 19, 21, 23, 24, 26, 28, 33, 36, 41, 46, 53, 56, 66, 67, 70, 73, 75, 80, 82, 84, 85, 91, 106, 121, 138, 142, 144, 157, 163, 168, 171, 191], [7, 14, 23, 30, 38, 54, 55, 59, 63, 67, 68, 71, 84, 87, 89, 91, 98, 101, 110, 115, 117, 123, 129, 131, 133, 139, 147, 151, 155, 162, 163, 171, 180, 181, 182, 186, 188, 189, 197], [9, 13, 25, 30, 31, 45, 59, 64, 81, 86, 90, 99, 103, 105, 107, 112, 119, 124, 128, 130, 131, 132, 135, 139, 141, 168, 173, 181, 186, 187, 199], [5, 7, 10, 28, 32, 35, 38, 39, 40, 41, 44, 47, 61, 63, 65, 66, 67, 69, 70, 77, 79, 82, 83, 88, 89, 96, 99, 103, 105, 106, 108, 110, 111, 114, 115, 116, 117, 120, 121, 122, 125, 128, 140, 142, 158, 159, 162, 163, 165, 180, 183, 186, 189, 196], [4, 5, 9, 11, 13, 21, 26, 33, 51, 53, 56, 64, 68, 76, 82, 86, 93, 94, 95, 101, 107, 109, 111, 118, 121, 124, 128, 144, 149, 153, 157, 160, 167, 171, 176, 190, 193, 198], [4, 11, 12, 23, 24, 26, 29, 30, 34, 36, 39, 41, 45, 54, 59, 61, 64, 77, 80, 81, 85, 91, 99, 104, 122, 124, 131, 132, 136, 139, 157, 164, 165, 166, 179, 181, 186, 195, 197], [3, 5, 7, 23, 28, 40, 46, 48, 53, 56, 61, 67, 74, 82, 92, 94, 102, 109, 123, 126, 127, 133, 135, 145, 147, 149, 153, 159, 177, 181, 187], [0, 4, 7, 25, 26, 33, 44, 45, 49, 50, 55, 57, 67, 70, 75, 78, 80, 83, 84, 90, 92, 95, 97, 101, 102, 103, 106, 114, 116, 117, 120, 121, 125, 129, 132, 150, 151, 153, 155, 160, 162, 165, 167, 168, 171, 175, 176, 177, 180, 182, 184, 189, 191, 194, 195], [17, 18, 25, 27, 34, 35, 42, 54, 58, 67, 81, 82, 87, 88, 90, 92, 94, 98, 99, 100, 103, 111, 122, 127, 128, 129, 135, 139, 140, 144, 145, 147, 149, 168, 171, 179, 185, 187, 193, 194], [3, 6, 11, 15, 20, 22, 32, 34, 39, 40, 48, 49, 51, 52, 55, 64, 65, 66, 72, 74, 77, 78, 83, 92, 108, 112, 114, 121, 131, 136, 138, 141, 149, 161, 162, 172, 173, 182, 187], [0, 4, 10, 17, 20, 23, 24, 31, 33, 34, 59, 70, 71, 81, 90, 91, 104, 113, 114, 116, 122, 140, 141, 150, 153, 171, 175, 176, 180, 182, 189, 198], [0, 1, 7, 11, 16, 17, 18, 21, 27, 28, 33, 34, 42, 48, 52, 58, 65, 67, 69, 71, 73, 81, 84, 86, 87, 92, 97, 98, 103, 105, 106, 113, 118, 120, 121, 124, 125, 129, 135, 143, 154, 156, 184, 188, 191, 196], [0, 3, 5, 12, 22, 25, 36, 48, 62, 67, 79, 94, 96, 101, 106, 108, 111, 114, 127, 128, 129, 146, 147, 153, 157, 163, 164, 169, 171, 172, 176, 178, 179, 183, 185], [6, 7, 11, 18, 25, 26, 32, 34, 41, 49, 62, 65, 70, 72, 77, 90, 91, 99, 108, 109, 111, 129, 137, 139, 140, 145, 149, 152, 158, 163, 164, 166, 169, 181, 182, 184, 189], [4, 7, 13, 14, 16, 23, 28, 32, 33, 53, 57, 64, 70, 71, 72, 73, 75, 76, 79, 80, 91, 99, 101, 102, 108, 110, 119, 121, 123, 124, 127, 130, 132, 136, 149, 153, 157, 159, 160, 170, 171, 172, 173, 175, 181, 183, 184, 185, 192], [12, 13, 14, 29, 31, 32, 35, 40, 47, 49, 50, 54, 58, 59, 62, 63, 65, 76, 77, 78, 79, 86, 87, 88, 90, 102, 117, 122, 124, 127, 129, 142, 144, 147, 150, 151, 155, 156, 157, 161, 171, 180, 190, 191, 195, 198], [1, 4, 5, 7, 38, 46, 47, 50, 51, 53, 58, 79, 81, 91, 104, 105, 106, 110, 118, 123, 125, 126, 128, 132, 143, 146, 152, 158, 160, 161, 167, 168, 172, 173, 174, 187, 191, 192, 193, 195, 196, 197], [4, 7, 12, 13, 16, 21, 23, 26, 27, 29, 32, 34, 35, 40, 45, 47, 49, 54, 62, 65, 66, 73, 74, 75, 76, 80, 81, 82, 83, 86, 89, 91, 97, 98, 99, 101, 104, 105, 106, 112, 120, 122, 123, 124, 129, 137, 142, 148, 154, 155, 162, 166, 168, 171, 177, 180, 184, 186, 189, 190, 198], [0, 4, 15, 17, 22, 42, 45, 47, 60, 75, 90, 93, 96, 107, 112, 119, 121, 122, 141, 143, 151, 155, 166, 173, 174, 175, 180, 182, 184, 186, 190, 191], [1, 19, 22, 23, 24, 29, 35, 41, 43, 44, 46, 48, 50, 51, 62, 64, 81, 89, 90, 92, 97, 99, 103, 107, 113, 117, 119, 121, 122, 128, 134, 137, 144, 146, 147, 159, 165, 168, 179, 182, 187, 188, 191, 195, 199], [1, 2, 4, 5, 12, 13, 16, 19, 20, 25, 30, 39, 42, 54, 59, 64, 66, 72, 85, 86, 87, 103, 106, 107, 109, 110, 118, 121, 134, 140, 144, 150, 160, 168, 179, 189, 190, 191, 199], [0, 4, 7, 13, 14, 17, 23, 30, 34, 41, 44, 45, 47, 51, 53, 55, 65, 69, 71, 73, 74, 77, 81, 82, 87, 91, 99, 102, 105, 107, 110, 114, 116, 117, 121, 137, 141, 146, 156, 159, 173, 179, 180, 184, 192, 199], [1, 11, 15, 18, 24, 26, 33, 38, 40, 43, 44, 49, 59, 63, 68, 71, 75, 78, 88, 92, 94, 96, 114, 121, 129, 135, 138, 139, 145, 148, 152, 154, 156, 157, 158, 163, 164, 168, 187, 192, 193, 199], [3, 5, 8, 11, 12, 17, 20, 25, 27, 35, 41, 42, 47, 55, 57, 62, 66, 73, 77, 85, 94, 97, 104, 105, 106, 110, 111, 114, 118, 125, 128, 135, 140, 147, 149, 155, 167, 169, 173, 174, 176, 180, 188, 189, 190, 197], [0, 5, 9, 10, 14, 22, 24, 30, 50, 51, 62, 64, 67, 72, 83, 87, 88, 89, 96, 106, 107, 108, 113, 120, 124, 125, 126, 129, 140, 145, 151, 154, 157, 164, 171, 172, 183, 186, 187, 191, 198, 199], [17, 21, 24, 30, 43, 44, 50, 52, 54, 58, 60, 63, 86, 91, 95, 100, 101, 111, 118, 127, 138, 139, 146, 151, 159, 166, 168, 171, 173, 179, 184, 192], [0, 4, 6, 8, 10, 15, 26, 32, 37, 39, 40, 43, 46, 52, 67, 68, 82, 83, 91, 99, 103, 114, 122, 123, 124, 130, 136, 138, 139, 144, 149, 153, 158, 162, 167, 173, 175, 178, 188, 189, 190, 193], [15, 25, 34, 48, 50, 51, 58, 61, 64, 75, 76, 78, 79, 80, 83, 84, 102, 108, 109, 111, 114, 130, 133, 139, 141, 144, 151, 155, 170, 177, 181, 184, 193, 197], [2, 7, 9, 14, 18, 23, 24, 39, 42, 43, 45, 46, 49, 56, 58, 62, 63, 66, 67, 72, 79, 95, 96, 101, 105, 106, 109, 122, 126, 127, 131, 133, 136, 138, 144, 148, 151, 161, 167, 169, 176, 179, 183, 186], [2, 3, 6, 10, 14, 16, 18, 23, 33, 35, 38, 55, 62, 67, 68, 72, 77, 86, 92, 93, 99, 111, 112, 113, 120, 141, 151, 153, 154, 166, 171, 174, 185, 197, 198], [0, 6, 16, 17, 18, 20, 21, 24, 30, 34, 40, 43, 46, 47, 55, 64, 66, 71, 72, 75, 78, 82, 83, 87, 93, 100, 124, 126, 127, 140, 142, 147, 150, 153, 154, 158, 159, 160, 161, 168, 174, 177, 179, 182, 187, 192, 193], [1, 4, 9, 10, 19, 20, 24, 32, 33, 41, 44, 46, 64, 66, 77, 87, 95, 99, 107, 109, 121, 123, 125, 133, 141, 143, 155, 166, 171, 175, 180, 183], [0, 1, 3, 8, 14, 16, 17, 21, 24, 28, 31, 41, 43, 44, 47, 55, 56, 61, 63, 68, 69, 72, 74, 87, 91, 92, 102, 103, 107, 115, 120, 123, 127, 128, 139, 145, 146, 157, 160, 161, 168, 190, 195], [4, 6, 10, 16, 18, 24, 26, 33, 39, 43, 44, 46, 54, 55, 60, 61, 82, 89, 91, 92, 96, 100, 107, 112, 116, 124, 126, 130, 138, 139, 140, 150, 153, 155, 156, 159, 161, 169, 177, 182, 184, 187, 189, 192, 195], [2, 5, 19, 20, 24, 28, 32, 37, 40, 48, 51, 53, 54, 65, 79, 80, 83, 89, 106, 112, 118, 125, 127, 129, 130, 137, 144, 149, 165, 170, 179, 183, 194], [2, 3, 4, 8, 11, 16, 19, 33, 40, 48, 50, 54, 58, 61, 63, 69, 75, 96, 103, 105, 116, 118, 130, 132, 135, 140, 148, 162, 178, 186, 193, 194, 195, 197, 199], [0, 2, 3, 8, 10, 21, 23, 27, 28, 34, 38, 43, 47, 48, 72, 77, 98, 105, 106, 109, 116, 125, 130, 131, 132, 133, 138, 161, 164, 165, 170, 171, 175, 176, 183, 184, 186, 188, 189, 197], [4, 10, 16, 30, 31, 34, 35, 38, 47, 55, 65, 74, 82, 85, 86, 97, 102, 104, 105, 109, 111, 117, 118, 121, 132, 137, 161, 172, 176, 177, 185, 196, 197], [5, 6, 13, 16, 18, 21, 22, 24, 25, 38, 40, 59, 61, 67, 68, 70, 71, 80, 86, 88, 95, 97, 102, 107, 108, 110, 111, 127, 131, 141, 151, 164, 165, 168, 173, 183], [5, 19, 21, 33, 48, 51, 53, 60, 63, 75, 78, 88, 89, 93, 94, 101, 104, 105, 112, 114, 119, 128, 130, 146, 148, 150, 151, 159, 162, 166, 168, 172, 175, 176, 177, 182, 184, 186, 190, 191, 195], [1, 3, 4, 5, 11, 19, 21, 22, 27, 34, 35, 42, 43, 46, 52, 57, 68, 73, 81, 88, 89, 90, 94, 98, 105, 106, 110, 119, 126, 130, 147, 148, 155, 156, 159, 164, 168, 169, 180, 181, 183, 190, 191], [5, 7, 8, 9, 14, 17, 26, 31, 38, 44, 56, 60, 63, 84, 95, 100, 106, 109, 110, 111, 115, 116, 117, 126, 127, 128, 130, 132, 134, 139, 148, 152, 155, 156, 172, 173, 176, 177, 180, 191, 195, 197], [0, 4, 6, 10, 13, 21, 26, 28, 29, 30, 34, 38, 40, 41, 42, 49, 53, 54, 63, 65, 66, 67, 76, 77, 78, 81, 91, 102, 112, 115, 116, 119, 124, 125, 128, 132, 136, 137, 138, 144, 148, 150, 154, 161, 175, 182, 183, 188, 194, 197], [8, 11, 12, 15, 17, 18, 19, 23, 24, 27, 28, 31, 43, 44, 52, 54, 57, 58, 60, 62, 64, 69, 74, 86, 88, 98, 101, 103, 113, 132, 135, 136, 153, 166, 168, 170, 176, 179, 182, 187, 197, 199], [8, 14, 15, 28, 29, 33, 46, 48, 54, 57, 63, 73, 79, 84, 87, 90, 96, 101, 105, 106, 107, 113, 118, 132, 137, 151, 168, 173, 179, 184, 185, 188, 190, 191], [2, 11, 17, 19, 21, 24, 37, 49, 51, 60, 61, 65, 70, 71, 73, 76, 77, 81, 82, 83, 94, 96, 102, 103, 104, 109, 114, 115, 124, 127, 134, 135, 142, 147, 149, 156, 164, 169, 183, 185, 199], [5, 8, 25, 40, 51, 59, 61, 77, 80, 87, 91, 99, 102, 111, 112, 114, 131, 133, 136, 146, 147, 149, 152, 159, 164, 171, 175, 178, 179, 185, 192, 193], [2, 5, 8, 16, 21, 27, 32, 45, 46, 49, 52, 60, 80, 88, 90, 93, 100, 106, 108, 111, 115, 122, 128, 129, 161, 162, 171, 176, 184, 192, 196, 197, 199], [0, 10, 14, 15, 16, 19, 22, 24, 34, 37, 44, 64, 67, 74, 78, 91, 93, 95, 103, 105, 109, 110, 113, 114, 116, 124, 126, 131, 142, 143, 150, 159, 164, 165, 169, 173, 175, 176, 183, 188, 189, 191, 193, 195], [0, 12, 16, 17, 25, 26, 29, 30, 35, 36, 37, 38, 39, 46, 52, 60, 64, 72, 76, 83, 84, 95, 102, 113, 115, 117, 118, 121, 123, 125, 126, 142, 144, 145, 156, 161, 172, 178, 188, 192, 198], [4, 9, 16, 17, 19, 21, 22, 24, 37, 39, 42, 63, 85, 87, 90, 91, 93, 98, 106, 111, 118, 120, 126, 127, 140, 141, 142, 155, 159, 166, 170, 171, 182, 183, 185, 196], [5, 10, 11, 13, 25, 27, 29, 30, 35, 41, 46, 47, 57, 63, 71, 72, 86, 99, 103, 121, 123, 126, 127, 128, 137, 141, 144, 146, 150, 158, 159, 161, 174, 177, 185, 186, 190, 192, 196], [2, 4, 5, 9, 24, 29, 33, 35, 39, 47, 48, 51, 53, 57, 61, 63, 65, 82, 92, 96, 99, 106, 107, 114, 115, 118, 119, 121, 127, 132, 133, 134, 136, 140, 146, 165, 174, 178, 179, 188, 198], [6, 10, 17, 20, 25, 28, 29, 32, 39, 49, 62, 64, 70, 80, 88, 93, 94, 99, 105, 107, 118, 121, 123, 129, 138, 140, 151, 155, 156, 162, 163, 166, 172, 184, 191, 192, 194, 196], [2, 8, 18, 25, 35, 51, 52, 53, 63, 82, 83, 87, 92, 104, 106, 118, 119, 125, 127, 132, 137, 138, 149, 153, 158, 168, 170, 182, 187, 190, 192, 193, 196, 198], [1, 2, 5, 7, 11, 12, 13, 17, 18, 19, 23, 25, 35, 36, 37, 44, 47, 50, 53, 57, 60, 66, 73, 76, 83, 86, 94, 95, 104, 105, 110, 116, 124, 130, 148, 150, 166, 174, 192, 199], [15, 27, 28, 29, 33, 34, 35, 52, 55, 60, 82, 84, 85, 86, 88, 93, 96, 97, 105, 106, 113, 122, 125, 126, 131, 134, 138, 141, 143, 151, 154, 156, 157, 161, 167, 173, 180, 185, 188, 190, 191, 196, 198], [0, 7, 16, 28, 29, 30, 34, 40, 41, 44, 49, 55, 58, 62, 82, 90, 91, 93, 95, 96, 106, 113, 117, 120, 121, 122, 138, 160, 162, 168, 186], [5, 8, 9, 21, 27, 35, 41, 43, 45, 48, 73, 75, 76, 78, 79, 82, 84, 87, 88, 89, 90, 93, 99, 102, 106, 107, 108, 122, 123, 129, 130, 131, 133, 135, 142, 145, 148, 150, 163, 169, 180, 181, 182, 184, 192, 195], [0, 1, 2, 4, 11, 13, 16, 18, 21, 23, 28, 30, 32, 36, 37, 44, 62, 82, 90, 93, 95, 97, 99, 106, 107, 134, 139, 150, 154, 158, 163, 167, 176, 179, 182, 193, 198], [4, 8, 9, 10, 12, 14, 17, 21, 31, 33, 42, 47, 56, 67, 69, 72, 78, 92, 94, 103, 110, 112, 124, 125, 132, 136, 145, 153, 154, 159, 161, 162, 166, 167, 170, 175, 178, 182, 184, 185, 188, 198], [1, 11, 12, 22, 23, 32, 34, 43, 46, 49, 52, 60, 62, 63, 71, 72, 81, 89, 90, 91, 92, 97, 99, 104, 107, 118, 135, 136, 140, 143, 147, 148, 150, 154, 155, 168, 170, 173, 174, 178, 180, 181, 189, 198, 199], [7, 12, 14, 21, 23, 43, 50, 54, 55, 59, 66, 75, 91, 92, 96, 109, 122, 125, 129, 139, 143, 144, 147, 148, 154, 163, 166, 169, 172, 183, 194, 195, 196, 198], [12, 36, 37, 48, 49, 55, 59, 61, 62, 63, 67, 72, 81, 89, 92, 95, 96, 102, 105, 106, 108, 115, 117, 128, 130, 135, 137, 157, 158, 160, 166, 167, 177, 178, 192], [5, 16, 19, 21, 28, 29, 32, 36, 42, 49, 50, 59, 60, 68, 75, 79, 81, 83, 100, 105, 107, 115, 116, 118, 121, 127, 130, 131, 132, 135, 137, 138, 139, 152, 154, 158, 164, 170, 171, 181, 183, 184, 188], [1, 7, 19, 20, 23, 26, 34, 37, 38, 40, 48, 59, 64, 66, 79, 86, 99, 104, 106, 120, 121, 134, 137, 142, 143, 145, 149, 152, 157, 160, 169, 181, 186, 194, 198], [0, 1, 3, 7, 19, 33, 39, 47, 49, 59, 72, 73, 81, 84, 88, 105, 113, 114, 119, 121, 125, 134, 137, 141, 152, 156, 162, 173, 179, 188, 192, 196], [6, 8, 12, 14, 15, 17, 18, 22, 24, 29, 33, 34, 37, 42, 47, 50, 54, 55, 57, 58, 64, 79, 87, 92, 94, 99, 100, 102, 104, 105, 108, 109, 117, 125, 127, 137, 138, 139, 163, 167, 171, 179], [5, 6, 11, 15, 20, 21, 29, 32, 33, 48, 49, 50, 56, 57, 64, 66, 80, 88, 92, 94, 98, 104, 113, 115, 117, 124, 129, 130, 138, 139, 142, 147, 155, 157, 162, 163, 168, 170, 174, 179, 187], [3, 5, 6, 7, 8, 21, 30, 32, 33, 35, 38, 40, 45, 54, 56, 79, 83, 86, 89, 90, 91, 98, 102, 105, 108, 116, 132, 133, 143, 144, 145, 150, 163, 166, 168, 170, 173, 174, 176, 180, 183, 184, 186, 191, 192, 193, 195, 196], [0, 6, 7, 10, 16, 24, 26, 27, 32, 42, 43, 45, 59, 63, 70, 72, 74, 92, 96, 100, 104, 109, 118, 122, 123, 126, 129, 131, 133, 135, 139, 141, 149, 151, 152, 163, 171, 173, 177, 179, 181, 183, 187, 188, 190, 198], [0, 5, 6, 19, 25, 31, 36, 37, 42, 46, 59, 62, 72, 76, 82, 93, 101, 109, 114, 119, 123, 125, 126, 139, 147, 148, 152, 168, 173, 175, 176, 180, 182, 187, 188, 191, 195, 196], [1, 3, 16, 27, 32, 33, 34, 41, 45, 46, 50, 56, 59, 61, 62, 63, 65, 72, 76, 78, 88, 94, 95, 97, 104, 110, 115, 118, 120, 122, 123, 133, 137, 143, 148, 151, 152, 162, 166, 176, 179, 186, 192, 194], [4, 5, 19, 22, 29, 41, 43, 46, 47, 48, 58, 61, 67, 80, 84, 90, 96, 97, 99, 101, 110, 114, 116, 117, 124, 127, 128, 129, 134, 135, 144, 145, 149, 177, 181, 183, 186, 199], [0, 8, 29, 33, 57, 62, 64, 70, 74, 78, 79, 83, 87, 99, 100, 101, 106, 109, 110, 113, 116, 118, 132, 134, 145, 151, 156, 157, 162, 163, 166, 172, 177, 180, 183, 186, 189, 190, 199], [2, 9, 12, 18, 21, 26, 30, 32, 38, 40, 43, 47, 50, 53, 55, 61, 64, 65, 67, 81, 82, 87, 89, 91, 101, 103, 112, 114, 121, 139, 142, 146, 147, 148, 156, 157, 158, 159, 166, 170, 174, 176, 177, 181, 182, 186, 187, 197], [1, 6, 11, 13, 17, 22, 32, 34, 35, 39, 51, 67, 70, 72, 74, 83, 87, 97, 99, 102, 105, 106, 107, 111, 117, 119, 120, 128, 130, 133, 145, 152, 154, 161, 167, 173, 183, 189], [2, 7, 17, 18, 22, 23, 34, 35, 36, 51, 56, 58, 63, 87, 89, 101, 103, 107, 110, 120, 124, 128, 135, 143, 150, 154, 161, 163, 164, 166, 168, 170, 171, 172, 181, 187, 192], [0, 10, 14, 15, 32, 33, 34, 47, 48, 57, 65, 67, 70, 73, 79, 97, 105, 115, 116, 118, 120, 123, 124, 126, 127, 129, 131, 132, 139, 140, 149, 154, 155, 163, 168, 181, 188, 198], [5, 14, 16, 21, 34, 35, 55, 56, 65, 69, 71, 74, 77, 79, 91, 92, 95, 96, 105, 111, 113, 114, 118, 119, 122, 127, 133, 134, 141, 158, 159, 161, 164, 165, 173, 179, 180, 185, 186, 188, 190, 194, 196], [2, 8, 12, 19, 21, 30, 37, 41, 44, 49, 55, 57, 59, 65, 67, 73, 76, 80, 82, 85, 87, 105, 109, 112, 118, 120, 131, 132, 137, 138, 144, 147, 153, 160, 163, 165, 176, 177, 189, 190], [9, 11, 15, 17, 20, 23, 26, 27, 29, 31, 32, 33, 35, 45, 50, 51, 59, 67, 72, 79, 85, 91, 105, 116, 126, 128, 129, 133, 138, 143, 144, 150, 151, 155, 159, 161, 176, 177, 181, 182, 186, 191, 196], [1, 3, 8, 13, 16, 23, 38, 39, 41, 49, 57, 66, 67, 68, 71, 76, 79, 80, 88, 92, 94, 105, 110, 114, 116, 117, 119, 122, 138, 140, 152, 160, 164, 169, 174, 177, 189, 195], [0, 1, 4, 6, 11, 15, 17, 18, 27, 52, 55, 61, 68, 71, 73, 74, 80, 85, 86, 90, 97, 106, 108, 118, 120, 126, 139, 147, 149, 150, 151, 154, 158, 160, 170, 172, 177, 181, 182, 189, 190, 192, 195], [0, 8, 13, 21, 24, 31, 35, 37, 41, 42, 43, 45, 52, 58, 62, 65, 67, 82, 83, 84, 87, 88, 98, 110, 112, 113, 114, 119, 120, 135, 137, 146, 148, 153, 156, 160, 164, 165, 170, 171, 172, 177, 179, 180, 185], [1, 6, 15, 16, 20, 25, 26, 29, 37, 50, 52, 54, 58, 62, 63, 66, 71, 74, 78, 92, 100, 116, 122, 138, 139, 145, 146, 147, 148, 156, 167, 169, 171, 173, 178, 182, 188, 192, 195, 197], [0, 1, 2, 7, 12, 18, 24, 32, 33, 35, 50, 64, 66, 69, 74, 75, 77, 95, 105, 108, 109, 113, 116, 121, 136, 140, 147, 148, 149, 151, 153, 156, 158, 168, 172, 174, 177, 180, 185, 190, 192], [4, 6, 8, 9, 14, 21, 24, 27, 34, 41, 42, 56, 61, 63, 68, 70, 76, 80, 81, 87, 101, 102, 115, 123, 124, 126, 132, 133, 134, 135, 136, 137, 142, 144, 145, 151, 155, 162, 168, 173, 178, 181, 186, 187, 188, 189, 190, 192], [5, 11, 28, 29, 30, 32, 40, 43, 45, 57, 60, 67, 71, 73, 75, 77, 81, 89, 98, 101, 102, 105, 109, 112, 114, 125, 127, 138, 143, 145, 150, 155, 158, 159, 164, 173, 178, 184, 186, 189, 194, 196], [1, 4, 11, 19, 24, 26, 29, 30, 31, 32, 38, 45, 50, 57, 60, 61, 63, 66, 72, 81, 90, 99, 102, 104, 110, 114, 115, 117, 123, 129, 133, 152, 154, 155, 156, 157, 162, 171, 173, 176, 178, 182, 185, 186, 194, 196], [1, 5, 10, 11, 15, 17, 19, 29, 37, 38, 40, 46, 53, 57, 59, 67, 73, 81, 89, 99, 102, 103, 105, 110, 118, 123, 127, 134, 141, 142, 145, 148, 157, 159, 165, 168, 169, 170, 171, 174, 182, 195, 196, 199], [11, 14, 21, 23, 24, 27, 37, 38, 42, 45, 51, 58, 59, 61, 66, 67, 71, 73, 75, 80, 84, 88, 96, 104, 105, 107, 121, 127, 139, 142, 143, 158, 162, 170, 171, 173, 178, 182, 184, 189, 194, 198], [1, 5, 6, 9, 11, 12, 16, 17, 21, 22, 27, 28, 29, 34, 35, 40, 42, 46, 48, 52, 54, 57, 58, 59, 61, 65, 77, 87, 93, 94, 97, 98, 101, 102, 116, 118, 122, 135, 139, 141, 145, 149, 150, 153, 156, 162, 167, 179, 181, 182, 187, 189, 198], [2, 9, 45, 57, 63, 67, 73, 87, 93, 94, 98, 99, 102, 103, 106, 113, 116, 118, 123, 130, 133, 135, 142, 148, 154, 157, 159, 162, 170, 171, 179, 182, 189, 191], [0, 7, 11, 16, 19, 22, 23, 30, 31, 32, 35, 36, 43, 44, 56, 61, 63, 74, 75, 82, 96, 100, 104, 106, 109, 114, 115, 116, 122, 124, 131, 135, 136, 138, 139, 140, 145, 159, 174, 175, 180, 183, 184, 189, 191, 196, 197], [1, 6, 10, 14, 21, 25, 32, 33, 36, 37, 40, 43, 45, 53, 57, 58, 60, 61, 62, 64, 65, 69, 83, 92, 93, 96, 104, 112, 126, 127, 131, 135, 139, 140, 142, 155, 159, 162, 164, 168, 170, 175, 177, 178, 180, 183, 186, 189, 191, 195], [3, 5, 8, 10, 18, 20, 23, 29, 37, 42, 49, 50, 54, 55, 57, 61, 65, 68, 69, 73, 75, 77, 81, 82, 94, 98, 101, 118, 123, 126, 142, 147, 150, 157, 163, 165, 169, 184, 185, 188, 190, 191, 198], [3, 5, 10, 19, 21, 22, 23, 27, 34, 35, 42, 47, 71, 72, 78, 79, 80, 81, 83, 89, 93, 99, 103, 104, 108, 109, 112, 115, 116, 120, 125, 126, 127, 128, 131, 132, 136, 148, 163, 164, 166, 171, 185, 186, 187, 192], [1, 2, 9, 11, 12, 14, 16, 46, 47, 48, 52, 63, 65, 68, 71, 102, 104, 107, 110, 117, 124, 127, 130, 132, 137, 143, 147, 148, 154, 168, 169, 171, 173, 179, 181, 185, 189, 191, 193, 195, 196], [0, 7, 15, 43, 44, 51, 53, 58, 61, 64, 71, 76, 87, 91, 95, 104, 109, 114, 115, 116, 123, 126, 131, 132, 135, 142, 143, 151, 160, 161, 169, 178, 179, 189], [0, 2, 4, 6, 11, 16, 18, 32, 36, 56, 66, 68, 71, 75, 89, 92, 100, 102, 112, 118, 121, 125, 132, 138, 140, 143, 158, 163, 165, 167, 172, 174, 187, 188], [12, 13, 17, 19, 27, 28, 36, 39, 47, 49, 53, 64, 65, 67, 70, 71, 81, 84, 93, 98, 101, 103, 105, 110, 113, 114, 116, 124, 125, 129, 135, 161, 162, 167, 169, 173, 174, 175, 177, 178, 180, 183, 188, 191], [1, 16, 18, 24, 25, 26, 49, 51, 57, 58, 69, 71, 74, 79, 81, 86, 89, 90, 93, 94, 95, 104, 105, 108, 109, 113, 116, 118, 122, 127, 141, 143, 147, 150, 152, 155, 158, 160, 161, 163, 167, 171, 174, 177, 187, 192], [4, 13, 15, 16, 18, 23, 28, 30, 49, 55, 56, 70, 71, 72, 79, 81, 87, 88, 89, 92, 93, 97, 100, 104, 106, 110, 119, 120, 125, 138, 141, 151, 152, 154, 155, 157, 167, 170, 172, 175, 176, 188, 196, 197, 199], [2, 8, 9, 13, 25, 27, 29, 30, 45, 48, 49, 53, 58, 60, 66, 70, 74, 90, 93, 94, 103, 106, 109, 114, 128, 131, 135, 145, 147, 148, 151, 152, 165, 169, 170, 171, 172, 173, 178, 182, 185, 187], [11, 26, 36, 43, 48, 56, 61, 65, 72, 81, 83, 89, 94, 106, 115, 120, 126, 142, 144, 149, 155, 156, 157, 160, 172, 173, 174, 178, 189, 197], [1, 4, 9, 12, 20, 29, 31, 35, 37, 39, 47, 48, 61, 64, 74, 77, 79, 82, 88, 93, 98, 106, 117, 119, 124, 132, 138, 140, 143, 149, 156, 157, 173, 174, 177, 188, 192, 198], [8, 9, 10, 17, 23, 24, 25, 27, 35, 36, 37, 47, 64, 73, 76, 82, 86, 87, 88, 92, 94, 101, 102, 133, 140, 146, 147, 151, 156, 158, 163, 166, 168, 169, 194, 197], [1, 3, 5, 14, 17, 19, 25, 26, 33, 42, 58, 62, 64, 65, 69, 70, 81, 87, 91, 92, 93, 94, 96, 106, 124, 129, 134, 137, 142, 150, 155, 156, 158, 160, 174, 177, 183, 187, 188, 191, 192, 197], [1, 4, 5, 7, 20, 23, 34, 35, 46, 48, 54, 55, 57, 64, 66, 75, 78, 79, 80, 97, 99, 100, 101, 105, 111, 122, 123, 124, 127, 132, 151, 176, 178, 183, 188, 191, 194, 195, 198, 199], [3, 10, 11, 17, 18, 29, 32, 34, 37, 42, 43, 46, 60, 71, 72, 80, 81, 91, 92, 98, 100, 114, 120, 122, 126, 137, 138, 143, 145, 146, 150, 156, 162, 165, 166, 169, 171, 175, 177, 180, 182, 190, 191], [3, 5, 12, 18, 38, 39, 40, 43, 48, 56, 57, 63, 71, 72, 77, 80, 83, 87, 92, 95, 98, 107, 122, 138, 139, 155, 160, 163, 177, 178, 179, 186, 197], [5, 7, 17, 18, 21, 22, 25, 40, 49, 50, 52, 54, 63, 71, 77, 87, 88, 92, 93, 96, 97, 103, 105, 108, 111, 112, 122, 136, 146, 150, 158, 161, 169, 170, 171, 172, 174, 182, 183, 188, 189, 194], [0, 8, 13, 29, 35, 41, 43, 44, 47, 56, 69, 76, 80, 87, 90, 92, 112, 115, 116, 117, 128, 148, 151, 157, 164, 165, 174, 185, 191, 192, 198], [3, 6, 14, 27, 28, 31, 35, 42, 44, 47, 54, 65, 73, 87, 89, 94, 96, 97, 100, 101, 111, 116, 117, 118, 127, 134, 141, 145, 148, 149, 153, 158, 165, 170, 172, 179, 190, 193, 195], [0, 2, 7, 11, 17, 23, 25, 26, 28, 32, 36, 38, 40, 45, 54, 59, 69, 70, 75, 76, 78, 81, 86, 91, 110, 117, 118, 120, 121, 124, 134, 151, 163, 173, 181, 186, 188, 189], [0, 5, 7, 8, 22, 24, 34, 48, 49, 50, 54, 60, 68, 79, 89, 93, 94, 95, 98, 100, 104, 110, 111, 113, 114, 117, 137, 143, 144, 149, 150, 154, 159, 160, 161, 163, 164, 180, 188, 190], [2, 4, 6, 10, 11, 15, 19, 29, 31, 40, 41, 48, 60, 62, 68, 70, 81, 97, 104, 107, 109, 111, 116, 132, 135, 143, 150, 162, 168, 169, 174, 175, 178, 181], [0, 2, 8, 12, 14, 25, 28, 31, 37, 41, 42, 51, 56, 65, 73, 94, 96, 101, 115, 124, 127, 129, 131, 132, 133, 136, 138, 147, 150, 151, 155, 160, 161, 162, 164, 167, 169, 182, 187, 194, 197], [1, 4, 5, 6, 7, 8, 10, 15, 18, 23, 24, 28, 35, 37, 40, 47, 55, 59, 66, 67, 72, 79, 84, 87, 93, 99, 100, 105, 124, 138, 147, 148, 149, 150, 151, 155, 166, 176, 187], [2, 5, 6, 8, 12, 15, 16, 17, 26, 43, 45, 52, 55, 56, 58, 59, 61, 67, 70, 73, 89, 91, 95, 98, 103, 106, 113, 114, 116, 117, 132, 136, 138, 140, 149, 153, 154, 158, 163, 164, 170, 171, 175, 179, 193, 194, 196, 197], [4, 8, 11, 12, 16, 20, 23, 24, 36, 37, 38, 48, 55, 61, 65, 67, 72, 73, 76, 80, 84, 89, 93, 96, 106, 110, 112, 131, 133, 135, 137, 140, 143, 162, 168, 170, 178, 183, 190, 199], [3, 4, 5, 13, 16, 20, 28, 39, 45, 48, 49, 52, 56, 61, 73, 76, 77, 79, 100, 102, 109, 112, 115, 124, 133, 142, 145, 149, 154, 160, 173, 176, 192, 193, 198, 199], [16, 25, 28, 29, 33, 35, 39, 43, 44, 46, 60, 69, 75, 80, 82, 89, 90, 91, 103, 114, 115, 119, 120, 125, 127, 133, 135, 136, 140, 141, 159, 171, 174, 181, 188, 190, 192, 194], [0, 3, 11, 12, 13, 15, 18, 19, 22, 24, 26, 27, 32, 46, 50, 53, 61, 62, 67, 80, 82, 87, 95, 96, 98, 104, 105, 112, 113, 115, 118, 125, 127, 131, 133, 134, 149, 153, 155, 159, 169, 170, 179, 182, 192], [3, 5, 15, 19, 21, 22, 26, 31, 39, 41, 44, 46, 48, 51, 54, 65, 69, 73, 82, 83, 84, 91, 93, 95, 96, 97, 98, 101, 105, 107, 112, 116, 117, 127, 130, 141, 145, 148, 159, 166, 170, 175, 183, 191, 197], [1, 2, 4, 9, 29, 42, 43, 44, 48, 49, 51, 53, 57, 67, 72, 76, 77, 79, 83, 97, 111, 114, 119, 127, 128, 129, 130, 133, 137, 139, 141, 142, 144, 145, 146, 147, 150, 152, 154, 161, 165, 166, 167, 175, 176, 183, 193], [3, 4, 6, 9, 10, 12, 13, 16, 22, 24, 49, 51, 57, 58, 63, 71, 83, 85, 99, 104, 113, 114, 119, 123, 126, 137, 152, 156, 160, 166, 167, 168, 174, 175, 182, 186, 191, 193, 195, 199], [4, 11, 12, 13, 17, 25, 26, 33, 36, 49, 53, 57, 64, 66, 74, 80, 82, 83, 105, 107, 110, 111, 113, 115, 123, 128, 131, 132, 137, 138, 145, 147, 152, 155, 160, 164, 168, 177, 186, 190, 194], [1, 14, 16, 23, 30, 32, 34, 36, 44, 50, 56, 57, 59, 60, 61, 62, 64, 70, 75, 78, 81, 86, 88, 92, 93, 96, 97, 98, 101, 115, 120, 121, 123, 124, 127, 129, 130, 131, 138, 141, 148, 150, 155, 161, 181, 197, 198], [4, 10, 28, 36, 37, 41, 44, 45, 50, 64, 68, 69, 72, 75, 76, 78, 83, 84, 89, 96, 100, 101, 103, 107, 112, 116, 133, 140, 153, 154, 163, 175, 180, 192], [10, 24, 28, 35, 37, 39, 43, 49, 52, 53, 63, 66, 67, 73, 86, 87, 96, 97, 103, 107, 111, 113, 119, 122, 124, 130, 134, 135, 136, 137, 138, 141, 146, 148, 150, 162, 164, 169, 183, 187, 191, 192, 194, 196, 197, 198], [0, 1, 4, 7, 8, 14, 16, 18, 19, 21, 23, 24, 25, 28, 31, 37, 41, 53, 55, 57, 60, 61, 63, 64, 69, 70, 77, 78, 84, 86, 88, 99, 100, 110, 111, 113, 118, 130, 131, 133, 136, 142, 150, 151, 153, 155, 159, 160, 162, 170, 174, 184, 186, 190, 192, 195], [0, 7, 8, 9, 22, 23, 24, 25, 27, 30, 32, 35, 42, 43, 47, 49, 50, 57, 59, 62, 65, 67, 70, 76, 79, 82, 89, 93, 95, 100, 104, 113, 119, 120, 129, 130, 132, 138, 139, 142, 145, 148, 151, 153, 157, 172, 175, 183, 188, 189, 193, 195], [1, 5, 15, 17, 20, 25, 30, 31, 34, 39, 55, 58, 59, 63, 69, 70, 72, 81, 82, 91, 94, 97, 102, 103, 112, 116, 129, 133, 134, 138, 149, 156, 159, 161, 167, 174, 175, 177, 180, 181, 187, 188, 193], [6, 7, 8, 12, 18, 22, 23, 27, 29, 34, 36, 42, 43, 54, 57, 64, 72, 80, 81, 82, 87, 98, 110, 119, 125, 132, 152, 156, 161, 162, 178, 179, 182, 190, 197], [0, 12, 18, 24, 26, 29, 36, 37, 41, 43, 45, 46, 49, 52, 53, 58, 61, 68, 69, 79, 81, 85, 88, 96, 107, 119, 123, 137, 138, 149, 151, 153, 155, 164, 171, 172, 186, 191, 198], [0, 1, 3, 6, 7, 8, 12, 13, 21, 25, 60, 63, 76, 91, 94, 95, 102, 103, 105, 108, 118, 120, 121, 126, 127, 129, 155, 157, 161, 170, 171, 178, 181, 182, 192], [0, 7, 11, 12, 14, 27, 32, 35, 41, 43, 45, 46, 53, 71, 77, 79, 88, 94, 100, 105, 119, 127, 133, 148, 149, 150, 157, 158, 164, 174, 175, 176, 179, 190, 196, 197, 198], [1, 4, 10, 12, 14, 16, 41, 46, 47, 48, 49, 53, 63, 66, 68, 79, 100, 102, 103, 115, 120, 121, 122, 129, 149, 150, 153, 154, 155, 156, 157, 159, 163, 164, 165, 167, 177, 178, 179, 181, 185, 190, 197], [0, 1, 14, 16, 19, 28, 30, 36, 46, 51, 52, 54, 58, 59, 64, 70, 74, 75, 84, 90, 95, 101, 102, 103, 104, 115, 117, 119, 120, 125, 129, 141, 147, 149, 153, 156, 158, 160, 162, 164, 171, 172, 173, 179, 184, 188, 192, 194, 198], [2, 4, 5, 10, 14, 19, 21, 25, 28, 29, 38, 45, 48, 49, 50, 57, 66, 78, 88, 90, 93, 105, 106, 112, 122, 128, 132, 146, 147, 154, 158, 163, 167, 174, 179, 180, 181, 188, 195], [1, 4, 6, 7, 22, 28, 30, 33, 36, 43, 46, 55, 58, 59, 66, 69, 77, 79, 90, 92, 105, 109, 121, 126, 127, 132, 138, 141, 147, 152, 154, 166, 183, 185, 186, 187, 188, 189, 190, 193, 196], [6, 9, 14, 17, 19, 25, 36, 45, 51, 53, 57, 63, 64, 71, 74, 79, 81, 82, 83, 105, 107, 109, 113, 114, 115, 126, 153, 155, 157, 171, 176, 180, 182, 189, 199], [0, 1, 3, 5, 6, 9, 10, 11, 14, 19, 27, 36, 39, 42, 44, 53, 59, 63, 69, 74, 77, 80, 82, 94, 97, 99, 108, 112, 114, 117, 124, 125, 126, 138, 140, 142, 146, 150, 155, 157, 165, 168, 171, 172, 173, 195, 199], [5, 6, 7, 11, 15, 18, 23, 28, 33, 38, 42, 43, 48, 56, 58, 59, 64, 66, 73, 74, 75, 81, 83, 84, 85, 87, 88, 92, 96, 110, 121, 122, 125, 130, 131, 140, 142, 146, 147, 149, 154, 163, 164, 169, 170, 171, 173, 176, 177, 182, 184, 185, 193, 195], [0, 2, 4, 15, 16, 20, 21, 25, 27, 35, 38, 40, 41, 42, 43, 46, 51, 52, 54, 55, 56, 63, 68, 71, 73, 76, 77, 83, 87, 90, 92, 108, 109, 110, 112, 113, 122, 125, 141, 144, 146, 147, 150, 152, 159, 162, 168, 175, 177, 180, 182, 183, 184, 185, 196], [0, 2, 5, 7, 9, 15, 16, 20, 22, 38, 47, 59, 65, 87, 88, 91, 95, 97, 98, 101, 102, 110, 113, 116, 120, 124, 126, 128, 132, 136, 139, 157, 163, 164, 172, 186, 191, 193, 194, 195], [3, 11, 16, 20, 23, 32, 34, 38, 42, 53, 56, 57, 58, 64, 68, 71, 75, 80, 87, 90, 91, 92, 102, 104, 106, 107, 109, 112, 117, 121, 131, 132, 136, 143, 144, 154, 159, 161, 163, 167, 170, 174, 179, 180, 185, 191], [0, 2, 9, 10, 14, 15, 20, 35, 38, 40, 47, 49, 55, 56, 57, 63, 71, 74, 105, 112, 118, 120, 125, 126, 127, 130, 138, 140, 142, 143, 147, 154, 172, 177, 186, 188, 192], [0, 7, 13, 16, 17, 20, 22, 27, 33, 34, 36, 41, 51, 52, 63, 77, 86, 89, 91, 93, 94, 98, 100, 104, 107, 112, 115, 124, 126, 127, 131, 133, 139, 146, 151, 155, 162, 170, 173, 178, 179, 180, 182], [11, 22, 24, 26, 32, 33, 34, 39, 49, 52, 57, 59, 67, 68, 71, 74, 77, 97, 112, 116, 123, 124, 126, 129, 132, 136, 146, 148, 156, 186, 188, 199], [6, 7, 8, 13, 14, 16, 22, 26, 29, 31, 32, 39, 42, 45, 48, 51, 53, 60, 62, 67, 74, 77, 78, 88, 93, 98, 102, 108, 112, 113, 126, 129, 135, 136, 139, 146, 147, 150, 152, 155, 159, 162, 166, 170, 171, 175, 176, 188, 189, 191, 192, 196], [0, 1, 5, 7, 17, 25, 27, 65, 75, 79, 86, 92, 94, 102, 113, 125, 128, 130, 148, 151, 153, 163, 165, 168, 173, 175, 177, 182, 187, 195, 198], [7, 8, 12, 18, 24, 32, 36, 37, 38, 42, 65, 68, 77, 82, 83, 84, 96, 105, 116, 132, 144, 148, 149, 153, 155, 163, 169, 174, 196], [0, 3, 8, 9, 12, 18, 20, 22, 23, 28, 38, 39, 40, 49, 51, 64, 70, 71, 76, 78, 79, 80, 97, 101, 104, 115, 120, 124, 125, 128, 134, 135, 137, 144, 146, 153, 158, 167, 183, 185, 187, 192, 197], [5, 7, 10, 11, 12, 13, 31, 35, 45, 54, 61, 62, 66, 72, 80, 85, 86, 89, 91, 95, 98, 102, 107, 109, 118, 120, 130, 131, 133, 144, 150, 155, 161, 168, 178, 181, 188], [1, 7, 8, 17, 18, 19, 20, 24, 47, 51, 55, 56, 64, 66, 68, 77, 80, 81, 82, 87, 88, 91, 97, 101, 102, 103, 106, 127, 142, 144, 146, 158, 160, 163, 164, 178, 180, 182, 188, 193], [10, 12, 13, 17, 23, 24, 25, 29, 30, 38, 42, 61, 70, 76, 79, 80, 83, 86, 91, 92, 96, 97, 99, 103, 108, 118, 120, 137, 139, 141, 149, 164, 177, 189], [0, 1, 4, 5, 12, 15, 24, 25, 26, 37, 46, 61, 62, 63, 67, 78, 83, 85, 89, 91, 94, 102, 104, 111, 115, 117, 121, 122, 127, 128, 131, 132, 135, 136, 144, 152, 162, 174, 177, 181, 184, 188], [2, 4, 7, 9, 10, 13, 16, 20, 21, 27, 47, 50, 53, 54, 58, 60, 67, 79, 80, 81, 82, 101, 115, 122, 125, 127, 130, 139, 142, 148, 152, 170, 176, 183, 185, 187, 192, 195, 199], [2, 9, 15, 18, 19, 21, 26, 27, 31, 35, 37, 38, 39, 48, 49, 51, 52, 57, 68, 71, 72, 106, 112, 113, 119, 120, 123, 124, 129, 130, 131, 132, 135, 138, 143, 145, 146, 151, 158, 161, 162, 163, 165, 167, 171, 173, 176, 177, 178, 183, 193, 196], [1, 7, 9, 11, 18, 23, 24, 26, 28, 29, 46, 52, 53, 62, 63, 71, 79, 83, 93, 94, 96, 104, 112, 118, 125, 126, 143, 149, 155, 156, 158, 161, 169, 173, 175, 195, 197], [1, 5, 7, 9, 11, 13, 14, 21, 22, 23, 28, 34, 37, 41, 42, 50, 52, 53, 54, 56, 62, 63, 65, 90, 95, 102, 106, 119, 120, 126, 133, 135, 137, 139, 142, 144, 150, 163, 164, 167, 173, 175, 176, 177, 187], [2, 10, 17, 24, 25, 29, 31, 34, 51, 57, 59, 60, 66, 78, 79, 86, 88, 90, 102, 110, 122, 123, 125, 134, 139, 153, 156, 159, 185, 186, 190, 192, 193, 195, 196, 197, 199], [2, 3, 6, 13, 25, 26, 32, 44, 46, 52, 54, 70, 79, 83, 86, 89, 91, 92, 99, 111, 114, 115, 125, 130, 133, 134, 135, 136, 142, 144, 148, 152, 170, 182, 187, 189, 193, 195], [0, 3, 22, 35, 37, 44, 45, 46, 47, 51, 58, 67, 68, 69, 77, 88, 95, 96, 97, 105, 112, 116, 119, 124, 125, 135, 139, 140, 145, 154, 158, 160, 173, 180, 183, 188, 189, 196], [0, 1, 13, 18, 25, 32, 36, 37, 39, 41, 44, 57, 59, 65, 67, 75, 81, 87, 99, 105, 108, 118, 122, 126, 136, 146, 147, 162, 165, 171, 178, 184, 187, 189, 194], [4, 7, 8, 9, 14, 16, 17, 20, 22, 23, 33, 35, 40, 41, 42, 47, 60, 63, 73, 76, 80, 84, 86, 97, 105, 107, 117, 118, 120, 121, 145, 149, 158, 163, 166, 168, 181, 186, 195, 197], [0, 4, 5, 12, 14, 30, 32, 34, 36, 37, 40, 41, 52, 58, 59, 70, 73, 75, 82, 94, 101, 103, 104, 111, 113, 117, 122, 123, 128, 129, 138, 142, 147, 155, 157, 158, 167, 182, 193, 197], [1, 20, 31, 33, 40, 43, 52, 53, 55, 67, 68, 81, 83, 86, 87, 89, 91, 93, 106, 118, 121, 126, 127, 130, 132, 139, 143, 156, 157, 171, 187, 195, 199], [2, 8, 14, 17, 27, 28, 35, 39, 41, 43, 61, 63, 72, 75, 79, 82, 83, 94, 97, 100, 101, 102, 117, 120, 132, 137, 138, 141, 150, 153, 162, 164, 168, 171, 188, 191, 193, 194, 197, 198], [2, 3, 9, 30, 36, 52, 53, 60, 61, 69, 74, 77, 81, 88, 89, 96, 106, 108, 113, 119, 120, 121, 126, 129, 131, 133, 135, 140, 145, 147, 151, 152, 158, 159, 161, 166, 172, 175, 179, 181, 187, 188, 192, 194, 195], [6, 13, 33, 37, 41, 42, 48, 50, 53, 54, 59, 64, 67, 87, 89, 100, 101, 103, 109, 111, 120, 122, 125, 128, 132, 147, 148, 165, 167, 171, 175, 186, 192, 197], [0, 4, 6, 10, 13, 14, 31, 35, 36, 43, 47, 48, 53, 55, 63, 64, 74, 79, 81, 88, 90, 92, 95, 99, 100, 113, 116, 119, 123, 129, 135, 143, 147, 150, 152, 154, 160, 161, 163, 168, 175, 185, 188, 191, 192, 196], [8, 10, 17, 20, 27, 30, 35, 43, 47, 49, 55, 64, 68, 77, 83, 84, 85, 94, 104, 106, 107, 108, 139, 141, 146, 153, 164, 176, 190, 192, 193, 195], [1, 7, 22, 24, 28, 29, 36, 40, 49, 50, 56, 59, 61, 70, 74, 89, 90, 95, 98, 111, 114, 128, 131, 134, 135, 137, 139, 141, 145, 150, 153, 156, 163, 164, 165, 170, 187, 192, 194, 196, 199], [4, 7, 12, 13, 20, 23, 29, 35, 36, 39, 41, 43, 52, 59, 60, 66, 73, 85, 97, 106, 109, 122, 123, 132, 136, 139, 143, 145, 151, 163, 169, 175, 178, 184, 189, 190, 192], [0, 5, 6, 10, 13, 14, 19, 26, 29, 31, 39, 41, 53, 62, 65, 66, 68, 72, 77, 81, 94, 95, 96, 122, 123, 126, 128, 132, 135, 149, 151, 160, 161, 169, 170, 176, 177, 179, 181, 183], [2, 3, 17, 22, 26, 30, 32, 34, 35, 41, 47, 48, 60, 61, 65, 67, 72, 76, 84, 90, 101, 108, 109, 112, 115, 121, 130, 134, 135, 137, 143, 145, 150, 157, 164, 167, 176], [9, 12, 22, 23, 50, 54, 55, 57, 73, 88, 90, 101, 106, 107, 115, 130, 144, 152, 158, 165, 171, 172, 175, 177, 181, 184, 190, 192, 197], [0, 5, 7, 27, 31, 40, 41, 42, 43, 54, 56, 57, 63, 65, 68, 70, 73, 78, 82, 84, 89, 90, 100, 103, 104, 110, 111, 122, 126, 133, 139, 140, 145, 148, 150, 157, 176, 178, 181, 183, 190, 199], [8, 11, 17, 19, 21, 33, 37, 39, 41, 43, 57, 58, 59, 60, 68, 71, 73, 78, 94, 95, 104, 107, 113, 114, 116, 121, 124, 130, 131, 141, 146, 148, 153, 154, 156, 158, 160, 166, 173, 187, 188, 191, 196, 197, 198, 199], [1, 11, 16, 26, 30, 31, 35, 37, 38, 41, 43, 51, 59, 70, 86, 97, 107, 117, 124, 149, 150, 155, 158, 159, 164, 166, 167, 173, 192, 198], [0, 1, 6, 7, 9, 11, 16, 18, 19, 31, 40, 41, 44, 67, 69, 70, 77, 80, 84, 89, 93, 104, 114, 116, 117, 127, 137, 139, 145, 152, 163, 170, 177, 180, 182, 191, 195, 199], [3, 5, 18, 19, 21, 22, 23, 26, 29, 35, 38, 46, 62, 65, 66, 70, 73, 76, 77, 92, 100, 107, 109, 113, 117, 121, 123, 127, 129, 130, 132, 134, 135, 137, 138, 148, 150, 151, 152, 156, 164, 168, 170, 176, 181], [6, 11, 18, 19, 20, 21, 25, 32, 43, 45, 57, 60, 63, 69, 71, 75, 77, 78, 83, 87, 90, 95, 97, 109, 115, 117, 135, 150, 153, 154, 160, 174, 176, 177, 183, 186, 198], [1, 7, 8, 9, 12, 13, 18, 19, 20, 24, 30, 33, 36, 42, 44, 49, 61, 64, 65, 66, 69, 77, 78, 79, 81, 84, 85, 90, 95, 98, 99, 100, 105, 112, 115, 116, 119, 129, 136, 137, 140, 145, 154, 155, 166, 172, 182, 187, 189, 194], [5, 15, 26, 30, 31, 32, 38, 40, 49, 51, 52, 53, 60, 61, 62, 67, 73, 75, 77, 85, 93, 94, 97, 98, 104, 110, 117, 118, 119, 130, 141, 152, 158, 162, 165, 177, 182, 193, 195, 197, 198], [0, 1, 10, 14, 18, 34, 40, 53, 57, 58, 59, 62, 71, 72, 73, 77, 78, 80, 82, 83, 89, 92, 99, 101, 108, 120, 125, 129, 140, 149, 152, 159, 164, 169, 175, 182, 183, 184, 187, 189, 190], [3, 9, 10, 12, 17, 32, 35, 36, 37, 39, 46, 47, 48, 56, 58, 62, 68, 71, 80, 86, 87, 88, 95, 100, 108, 111, 114, 118, 120, 122, 125, 126, 131, 133, 134, 150, 152, 156, 159, 183, 187, 189, 191, 194, 195], [1, 4, 7, 12, 13, 26, 30, 31, 38, 49, 51, 53, 54, 55, 59, 60, 75, 78, 80, 82, 96, 97, 100, 108, 111, 119, 128, 129, 139, 141, 144, 145, 152, 153, 154, 155, 161, 163, 164, 171, 175, 182, 184, 185, 191, 195]]\n"
     ]
    }
   ],
   "source": [
    "# In case we choose Albert-Barabasi:\n",
    "#Lead = barabasi_albert(N, m)\n",
    "# In case we choose Ring:\n",
    "#Lead = ring_graph(N,Rvec,lead=1,sym=1)\n",
    "# In case we choose Grid:\n",
    "#Lead = grid_graph(N)\n",
    "#\n",
    "# In case we choose Erdos-Renyi:\n",
    "Lead = erdos_graph(N,pr)\n",
    "print(\"Lead=\",Lead)"
   ]
  },
  {
   "cell_type": "markdown",
   "metadata": {},
   "source": [
    "From the Linear System solution, it is necessary to first populate the matrices $A$ and $C$, which are relevant for any solution process of the system."
   ]
  },
  {
   "cell_type": "code",
   "execution_count": 19,
   "metadata": {},
   "outputs": [],
   "source": [
    "def fill_A(N,Lvec,Mvec,Lead):\n",
    "    A = np.zeros((N,N))\n",
    "    # We consider that Lead[j] contains the set of leaders of node j.\n",
    "    #\n",
    "    Som = np.zeros(N)\n",
    "    for j in range(N):\n",
    "        Som[j] = sum(Lvec[Lead[j]]+Mvec[Lead[j]])\n",
    "        for n in range(len(Lead[j])):\n",
    "            k = Lead[j][n]\n",
    "            A[j,k] = Mvec[k]/Som[j]\n",
    "    return A"
   ]
  },
  {
   "cell_type": "code",
   "execution_count": 20,
   "metadata": {},
   "outputs": [
    {
     "name": "stdout",
     "output_type": "stream",
     "text": [
      "[[0.         0.         0.         ... 0.         0.0046785  0.        ]\n",
      " [0.         0.         0.         ... 0.         0.00564377 0.        ]\n",
      " [0.01806835 0.01987719 0.         ... 0.         0.         0.        ]\n",
      " ...\n",
      " [0.01699598 0.01869746 0.         ... 0.         0.         0.        ]\n",
      " [0.         0.         0.         ... 0.         0.         0.        ]\n",
      " [0.         0.01580792 0.         ... 0.         0.         0.        ]]\n"
     ]
    }
   ],
   "source": [
    "A= fill_A(N,Lvec,Mvec,Lead)\n",
    "print(A)"
   ]
  },
  {
   "cell_type": "code",
   "execution_count": 21,
   "metadata": {},
   "outputs": [],
   "source": [
    "def fill_C(N,Lvec,Mvec):\n",
    "    C = np.zeros((N,N))\n",
    "      # C is diagonal.\n",
    "        #\n",
    "    for j in range(N):\n",
    "        if Lvec[j]+Mvec[j]>0:\n",
    "            C[j][j] = Mvec[j]/(Lvec[j]+Mvec[j])\n",
    "    return C"
   ]
  },
  {
   "cell_type": "code",
   "execution_count": 22,
   "metadata": {},
   "outputs": [
    {
     "name": "stdout",
     "output_type": "stream",
     "text": [
      "[[0.54291368 0.         0.         ... 0.         0.         0.        ]\n",
      " [0.         0.49458992 0.         ... 0.         0.         0.        ]\n",
      " [0.         0.         0.92767455 ... 0.         0.         0.        ]\n",
      " ...\n",
      " [0.         0.         0.         ... 0.42608024 0.         0.        ]\n",
      " [0.         0.         0.         ... 0.         0.15483769 0.        ]\n",
      " [0.         0.         0.         ... 0.         0.         0.69294702]]\n"
     ]
    }
   ],
   "source": [
    "C = fill_C(N,Lvec,Mvec)\n",
    "print(C)"
   ]
  },
  {
   "cell_type": "code",
   "execution_count": 23,
   "metadata": {},
   "outputs": [],
   "source": [
    "def fill_bi(i,N,Lvec,Mvec,Lead):\n",
    "    bi = np.zeros(N)\n",
    "    for j in range(N):\n",
    "        if i in Lead[j]:\n",
    "            bi[j] = Lvec[i]/sum(Lvec[Lead[j]]+Mvec[Lead[j]])\n",
    "    return bi"
   ]
  },
  {
   "cell_type": "code",
   "execution_count": 24,
   "metadata": {},
   "outputs": [
    {
     "name": "stdout",
     "output_type": "stream",
     "text": [
      "[0.         0.         0.01521199 0.         0.         0.\n",
      " 0.         0.         0.         0.         0.         0.\n",
      " 0.         0.         0.         0.00944248 0.         0.\n",
      " 0.01634386 0.0112831  0.01499391 0.         0.         0.\n",
      " 0.         0.         0.01806527 0.         0.         0.01367544\n",
      " 0.         0.         0.01400055 0.         0.01396266 0.\n",
      " 0.         0.         0.01156275 0.         0.01380568 0.\n",
      " 0.         0.         0.01456682 0.         0.         0.\n",
      " 0.         0.         0.01237884 0.         0.         0.\n",
      " 0.         0.         0.01285779 0.01353062 0.         0.\n",
      " 0.         0.         0.         0.         0.         0.01776894\n",
      " 0.         0.01434138 0.         0.         0.         0.\n",
      " 0.         0.         0.01802582 0.         0.         0.\n",
      " 0.0113329  0.01520413 0.         0.         0.01473026 0.\n",
      " 0.         0.         0.01425306 0.         0.         0.\n",
      " 0.         0.01293308 0.01302582 0.         0.01379739 0.\n",
      " 0.         0.         0.         0.         0.         0.\n",
      " 0.01205162 0.         0.         0.         0.         0.01649441\n",
      " 0.01559236 0.         0.         0.         0.         0.\n",
      " 0.         0.         0.         0.         0.         0.\n",
      " 0.         0.01906661 0.         0.01397458 0.0141203  0.\n",
      " 0.01416627 0.         0.         0.         0.         0.\n",
      " 0.01249699 0.         0.         0.         0.         0.\n",
      " 0.         0.         0.00981099 0.01032807 0.         0.\n",
      " 0.01398833 0.01606398 0.01437167 0.         0.01067878 0.\n",
      " 0.         0.         0.01214228 0.         0.01118115 0.01432568\n",
      " 0.         0.01747941 0.01336329 0.         0.         0.01584313\n",
      " 0.         0.0135716  0.         0.         0.         0.01329506\n",
      " 0.         0.         0.         0.         0.         0.\n",
      " 0.01529726 0.01766889 0.         0.01390076 0.         0.\n",
      " 0.         0.         0.01200088 0.         0.         0.\n",
      " 0.01411093 0.         0.         0.0147627  0.         0.\n",
      " 0.01486494 0.         0.         0.         0.         0.01430914\n",
      " 0.         0.        ]\n"
     ]
    }
   ],
   "source": [
    "bi = fill_bi(0,N,Lvec,Mvec,Lead)\n",
    "print(bi)"
   ]
  },
  {
   "cell_type": "markdown",
   "metadata": {},
   "source": [
    "We continue by including the column vectors $b_i$ and $d_i$, for a specific label $i$."
   ]
  },
  {
   "cell_type": "code",
   "execution_count": 25,
   "metadata": {},
   "outputs": [],
   "source": [
    "def fill_di(i,N,Lvec,Mvec):\n",
    "    di = np.zeros(N)\n",
    "    di[i] = Lvec[i]/(Lvec[i]+Mvec[i])\n",
    "    return di"
   ]
  },
  {
   "cell_type": "code",
   "execution_count": 26,
   "metadata": {},
   "outputs": [
    {
     "name": "stdout",
     "output_type": "stream",
     "text": [
      "[0.45708632 0.         0.         0.         0.         0.\n",
      " 0.         0.         0.         0.         0.         0.\n",
      " 0.         0.         0.         0.         0.         0.\n",
      " 0.         0.         0.         0.         0.         0.\n",
      " 0.         0.         0.         0.         0.         0.\n",
      " 0.         0.         0.         0.         0.         0.\n",
      " 0.         0.         0.         0.         0.         0.\n",
      " 0.         0.         0.         0.         0.         0.\n",
      " 0.         0.         0.         0.         0.         0.\n",
      " 0.         0.         0.         0.         0.         0.\n",
      " 0.         0.         0.         0.         0.         0.\n",
      " 0.         0.         0.         0.         0.         0.\n",
      " 0.         0.         0.         0.         0.         0.\n",
      " 0.         0.         0.         0.         0.         0.\n",
      " 0.         0.         0.         0.         0.         0.\n",
      " 0.         0.         0.         0.         0.         0.\n",
      " 0.         0.         0.         0.         0.         0.\n",
      " 0.         0.         0.         0.         0.         0.\n",
      " 0.         0.         0.         0.         0.         0.\n",
      " 0.         0.         0.         0.         0.         0.\n",
      " 0.         0.         0.         0.         0.         0.\n",
      " 0.         0.         0.         0.         0.         0.\n",
      " 0.         0.         0.         0.         0.         0.\n",
      " 0.         0.         0.         0.         0.         0.\n",
      " 0.         0.         0.         0.         0.         0.\n",
      " 0.         0.         0.         0.         0.         0.\n",
      " 0.         0.         0.         0.         0.         0.\n",
      " 0.         0.         0.         0.         0.         0.\n",
      " 0.         0.         0.         0.         0.         0.\n",
      " 0.         0.         0.         0.         0.         0.\n",
      " 0.         0.         0.         0.         0.         0.\n",
      " 0.         0.         0.         0.         0.         0.\n",
      " 0.         0.         0.         0.         0.         0.\n",
      " 0.         0.        ]\n"
     ]
    }
   ],
   "source": [
    "di = fill_di(0,N,Lvec,Mvec)\n",
    "print(di)"
   ]
  },
  {
   "cell_type": "markdown",
   "metadata": {},
   "source": [
    "After defining all matrices $A$, $C$ and vectors $b_i$, $d_i$ per label $i$ we can write down the main routine to find the fixed point. There are two methods:"
   ]
  },
  {
   "cell_type": "markdown",
   "metadata": {},
   "source": [
    "#### (M1) the first method is based on matrix inversion (Theorem 3)\n",
    "\n",
    "$p_i = (I_N-A)^{-1}b_i$, and\n",
    "\n",
    "$q_i = Cp_i + d_i$.\n",
    "\n",
    "So, we first solve the system for a specific label $i$, for the solution of all labels $i=1,...,N$ one needs to calculate the matrix inverse only once and the vector $bi$ has very few non-zero entries, and finally we return two matrices with the elements $p_i$, $q_i$ and one vector with the elements $\\Psi_i$."
   ]
  },
  {
   "cell_type": "code",
   "execution_count": 27,
   "metadata": {},
   "outputs": [],
   "source": [
    "#Closed-form algorithm----------------------------------------------------------------------------------------------------------\n",
    "def InvM(N,Lvec,Mvec,Lead):    \n",
    "    # Newsfeed\n",
    "    P = np.zeros((N,N))\n",
    "    A = np.zeros((N,N))\n",
    "    A = fill_A(N,Lvec,Mvec,Lead)\n",
    "    IN = np.eye(N)\n",
    "    invIA = np.linalg.inv(IN-A) \n",
    "    for i in range(N):\n",
    "        #if i%100 ==1:\n",
    "            #print(i)\n",
    "        bi = fill_bi(i,N,Lvec,Mvec,Lead)\n",
    "        # 1) Very slow method that needs to calculate every time the inverse:\n",
    "        #P[:,i] = pi_method1(i,N,Lvec,Mvec,Lead) \n",
    "        # 2) Fast method that calculates the inverse just once:\n",
    "        # P[:,i] = (invIA).dot(bi)\n",
    "        # 3) Faster method that calculates the inverse once, AND adds only the non-zero elements of bi vector.\n",
    "        iN0 = np.nonzero(bi)[0]\n",
    "        P[:,i] = invIA[:,iN0].dot(bi[iN0])   \n",
    "    # Wall\n",
    "    D = zeros((N,N))\n",
    "    for i in range(N):\n",
    "        D[:][i] = fill_di(i,N,Lvec,Mvec)  \n",
    "    C = fill_C(N,Lvec,Mvec)\n",
    "    Q = C.dot(P) + D\n",
    "    # Influence metric\n",
    "    Psi = (sum(Q,0) - Q.diagonal())/(N-1)\n",
    "    return [P,Q,Psi]"
   ]
  },
  {
   "cell_type": "code",
   "execution_count": 28,
   "metadata": {},
   "outputs": [
    {
     "name": "stdout",
     "output_type": "stream",
     "text": [
      "P1= [[0.0025433  0.00440547 0.00018235 ... 0.0007319  0.03039925 0.00064115]\n",
      " [0.00374413 0.00504704 0.00026793 ... 0.00095873 0.0355272  0.00042055]\n",
      " [0.01801707 0.02385661 0.000166   ... 0.000712   0.00387575 0.00045039]\n",
      " ...\n",
      " [0.01782555 0.02356241 0.00031744 ... 0.00048517 0.00532714 0.00064127]\n",
      " [0.00241722 0.00507546 0.00032055 ... 0.00066807 0.00554984 0.00059048]\n",
      " [0.00380562 0.02126271 0.00024806 ... 0.00083938 0.00527798 0.00057107]] \n",
      "\n",
      "Q1= [[4.58467110e-01 2.39179169e-03 9.89987490e-05 ... 3.97357192e-04\n",
      "  1.65041670e-02 3.48087199e-04]\n",
      " [1.85181077e-03 5.07906296e-01 1.32517151e-04 ... 4.74180045e-04\n",
      "  1.75713928e-02 2.07997971e-04]\n",
      " [1.67139738e-02 2.21311700e-02 7.24794470e-02 ... 6.60504414e-04\n",
      "  3.59543483e-03 4.17811626e-04]\n",
      " ...\n",
      " [7.59511371e-03 1.00394767e-02 1.35255257e-04 ... 5.74126481e-01\n",
      "  2.26978792e-03 2.73233124e-04]\n",
      " [3.74277094e-04 7.85871925e-04 4.96326411e-05 ... 1.03442558e-04\n",
      "  8.46021632e-01 9.14288161e-05]\n",
      " [2.63709415e-03 1.47339307e-02 1.71892013e-04 ... 5.81647047e-04\n",
      "  3.65736004e-03 3.07448701e-01]] \n",
      "\n",
      "Psi1= [3.58823315e-03 5.32187194e-03 3.02266287e-04 2.73614190e-03\n",
      " 2.72275439e-03 1.97064352e-03 4.49975494e-03 4.87959241e-03\n",
      " 1.31446958e-03 3.25971038e-03 3.61235223e-03 4.70235855e-03\n",
      " 2.52092138e-04 2.69454706e-03 5.21498563e-03 2.96585674e-03\n",
      " 4.73040333e-03 4.31676160e-03 4.37723916e-03 2.90284934e-03\n",
      " 7.49189740e-04 3.48032424e-03 2.38836515e-04 4.43219882e-03\n",
      " 5.00105819e-03 4.13336216e-03 2.67093692e-03 2.47027590e-03\n",
      " 1.70800522e-03 4.01050684e-03 4.29712730e-03 4.02175132e-03\n",
      " 3.49235065e-03 4.38428242e-03 8.56693262e-04 5.62869050e-03\n",
      " 3.96267540e-03 2.76173657e-03 2.51790048e-03 8.43969153e-04\n",
      " 1.51209272e-03 7.07765357e-05 1.39486626e-03 4.14492454e-03\n",
      " 2.52272848e-03 2.53886760e-03 3.47715515e-03 1.30217971e-03\n",
      " 4.38508901e-03 2.91190696e-03 2.22575350e-03 1.49368789e-03\n",
      " 1.95308594e-03 3.27747458e-03 3.29306420e-03 3.30949083e-04\n",
      " 8.25255419e-05 3.20464953e-03 3.17653043e-03 2.96495950e-03\n",
      " 4.30878704e-03 2.86804876e-03 8.90207718e-04 1.79674930e-04\n",
      " 1.96550971e-03 2.71596173e-03 1.30001518e-03 4.70124900e-03\n",
      " 1.84237916e-03 7.87723291e-05 4.45619982e-03 3.07203204e-03\n",
      " 7.97278973e-04 3.51312131e-03 7.55320017e-04 3.13885556e-03\n",
      " 8.37367069e-04 3.07237743e-04 8.26424916e-04 3.26004496e-03\n",
      " 1.81845480e-03 3.29084418e-03 1.18913982e-03 2.53267113e-03\n",
      " 2.62659432e-03 5.37023380e-04 2.05467407e-03 1.12543130e-03\n",
      " 1.39954811e-03 1.60694294e-03 4.30073719e-03 3.94129590e-03\n",
      " 2.49612200e-03 1.10786667e-04 4.22051689e-03 1.89236004e-03\n",
      " 3.99129290e-03 4.97496312e-03 3.60718278e-03 1.20679791e-03\n",
      " 3.03840107e-03 3.04134785e-03 3.72163005e-03 1.95215135e-03\n",
      " 2.60240985e-03 2.27757861e-03 1.17628595e-03 2.05352448e-03\n",
      " 2.01210706e-03 2.41010364e-03 1.09718308e-03 2.09649518e-03\n",
      " 1.32644927e-03 4.38964623e-03 5.39358275e-04 1.40482620e-03\n",
      " 1.57852961e-05 2.86006243e-03 3.19169986e-03 2.17363215e-03\n",
      " 3.75222534e-03 5.00968851e-03 2.45173859e-03 1.86037958e-03\n",
      " 4.65428100e-03 3.44236600e-04 2.16772100e-04 2.34376617e-03\n",
      " 1.00407569e-03 3.51344546e-03 5.47345478e-04 2.76492859e-03\n",
      " 5.78752271e-03 3.84285499e-03 1.20802575e-05 3.02275901e-03\n",
      " 6.11400904e-05 1.01639335e-04 3.66617807e-03 3.26579526e-03\n",
      " 3.63420729e-03 1.80456656e-03 2.63213826e-03 6.47300834e-04\n",
      " 4.37149329e-03 5.40817945e-04 2.58464511e-03 2.16362377e-03\n",
      " 4.15394463e-03 2.09660681e-03 3.03684855e-03 4.58780409e-03\n",
      " 1.35802519e-03 3.54212671e-03 4.99202192e-04 4.62461533e-04\n",
      " 3.21953068e-03 3.69112496e-03 3.23989125e-03 2.64231163e-03\n",
      " 1.83402794e-03 9.09307767e-04 4.21550885e-03 3.36830873e-03\n",
      " 2.22797174e-04 1.64576400e-04 2.33784007e-03 1.94036333e-03\n",
      " 5.02830262e-03 3.01468368e-03 3.69041657e-03 3.16266610e-03\n",
      " 1.53801193e-03 5.32446763e-03 2.16742016e-03 2.79245730e-03\n",
      " 3.81523119e-03 1.63541002e-03 1.51474528e-03 1.25706291e-03\n",
      " 3.53624066e-04 1.97801445e-03 2.37068172e-03 3.91100485e-03\n",
      " 2.11457639e-03 5.57913668e-04 1.94346889e-03 7.61331088e-04\n",
      " 4.91106368e-03 4.02920102e-04 3.36583792e-03 3.74109335e-03\n",
      " 1.50102443e-03 2.82227181e-03 2.58904158e-05 3.91935547e-03\n",
      " 2.76256862e-03 7.75554632e-04 4.64520010e-03 5.61915154e-04] \n",
      "\n"
     ]
    }
   ],
   "source": [
    "[P1,Q1,Psi1] = InvM(N,Lvec,Mvec,Lead)\n",
    "print(\"P1=\",P1,\"\\n\")\n",
    "print(\"Q1=\",Q1,\"\\n\")\n",
    "print(\"Psi1=\",Psi1,\"\\n\")"
   ]
  },
  {
   "cell_type": "markdown",
   "metadata": {},
   "source": [
    "#### (M2) The second method is based on the fixed point convergence (Theorem 4)\n",
    "\n",
    "$p_i(t+1) = A.p_i(t) + b_i$, for $t\\rightarrow\\infty$.\n",
    "\n",
    "This should converge to $p_i$. Once it is found, the Wall steady-state can be calculated\n",
    "\n",
    "$q_i = C.p_i + d_i$.\n",
    "\n",
    "We first solve the fixed point for a specific label $i$, so we define the matrix composed by the fixed point covergence for each $i$ and return two matrices with the elements $p_i$, $q_i$ and one vector with the elements $\\Psi_i$."
   ]
  },
  {
   "cell_type": "code",
   "execution_count": 29,
   "metadata": {},
   "outputs": [],
   "source": [
    "#Fixed-point algorithm----------------------------------------------------------------------------------------------------------\n",
    "def PM(N,Lvec,Mvec,Lead,it = 1000, eps = .0001):\n",
    "    # The fixed point solution is slow because the fixed point needs to be \n",
    "    # calculated for each label i separately.\n",
    "    # Newsfeed\n",
    "    P_old = np.zeros((N,N))\n",
    "    B = np.zeros((N,N))\n",
    "    for i in range(N):\n",
    "        # Slow: repeat pi_method2 for all i\n",
    "        # P[:,i] = pi_method2(i,N,Lvec,Mvec,Lead,it = 1000, eps = .0001)\n",
    "        # Fast: Do one iteration for matrix P and B.\n",
    "        B[:,i] = fill_bi(i,N,Lvec,Mvec,Lead)\n",
    "    P0 = np.ones((N,N))/N\n",
    "    P_new = list(P0)\n",
    "    P_new = np.asarray(P_new)\n",
    "    t = 0\n",
    "    while (t<it) & (np.linalg.norm(P_old-P_new,ord=inf)>eps):\n",
    "        P_old = list(P_new)\n",
    "        P_old = np.asarray(P_old)\n",
    "        P_new = list(A.dot(P_old)+B)\n",
    "        P_new = np.asarray(P_new)\n",
    "        t += 1\n",
    "    P = list(P_new)\n",
    "    P = np.asarray(P)\n",
    "    # Wall\n",
    "    D = zeros((N,N))\n",
    "    for i in range(N):\n",
    "        D[:][i] = fill_di(i,N,Lvec,Mvec)  \n",
    "    C = fill_C(N,Lvec,Mvec)\n",
    "    Q = C.dot(P) + D\n",
    "    # Influence metric\n",
    "    Psi = (sum(Q,0) - Q.diagonal())/(N-1)\n",
    "    return [P,Q,Psi]"
   ]
  },
  {
   "cell_type": "code",
   "execution_count": 30,
   "metadata": {},
   "outputs": [
    {
     "name": "stdout",
     "output_type": "stream",
     "text": [
      "P2= [[0.00254312 0.004405   0.00018275 ... 0.00073221 0.03039883 0.00064151]\n",
      " [0.00374393 0.0050465  0.00026839 ... 0.00095909 0.03552672 0.00042095]\n",
      " [0.01801688 0.02385611 0.00016643 ... 0.00071233 0.00387531 0.00045077]\n",
      " ...\n",
      " [0.01782534 0.02356185 0.00031791 ... 0.00048553 0.00532665 0.00064169]\n",
      " [0.00241701 0.00507487 0.00032104 ... 0.00066845 0.00554933 0.00059092]\n",
      " [0.00380541 0.02126213 0.00024854 ... 0.00083976 0.00527747 0.00057151]] \n",
      "\n",
      "Q2= [[4.58467014e-01 2.39153258e-03 9.92169570e-05 ... 3.97525814e-04\n",
      "  1.65039396e-02 3.48282429e-04]\n",
      " [1.85171192e-03 5.07906029e-01 1.32742311e-04 ... 4.74354039e-04\n",
      "  1.75711583e-02 2.08199422e-04]\n",
      " [1.67138007e-02 2.21307017e-02 7.24798414e-02 ... 6.60809177e-04\n",
      "  3.59502397e-03 4.18164482e-04]\n",
      " ...\n",
      " [7.59502549e-03 1.00392380e-02 1.35456213e-04 ... 5.74126636e-01\n",
      "  2.26957858e-03 2.73412920e-04]\n",
      " [3.74243736e-04 7.85781705e-04 4.97086205e-05 ... 1.03501271e-04\n",
      "  8.46021553e-01 9.14967948e-05]\n",
      " [2.63694677e-03 1.47335321e-02 1.72227691e-04 ... 5.81906444e-04\n",
      "  3.65701034e-03 3.07449001e-01]] \n",
      "\n",
      "Psi2= [3.58813195e-03 5.32159827e-03 3.02495906e-04 2.73612151e-03\n",
      " 2.72273452e-03 1.97070060e-03 4.49956210e-03 4.87936205e-03\n",
      " 1.31459800e-03 3.25961409e-03 3.61224256e-03 4.70212104e-03\n",
      " 2.52325174e-04 2.69452862e-03 5.21468653e-03 2.96581080e-03\n",
      " 4.73018446e-03 4.31658049e-03 4.37703205e-03 2.90281394e-03\n",
      " 7.49372490e-04 3.48022177e-03 2.39070289e-04 4.43197341e-03\n",
      " 5.00078463e-03 4.13319827e-03 2.67092723e-03 2.47028331e-03\n",
      " 1.70807740e-03 4.01034848e-03 4.29692778e-03 4.02159690e-03\n",
      " 3.49226117e-03 4.38410262e-03 8.56862678e-04 5.62835249e-03\n",
      " 3.96251897e-03 2.76170308e-03 2.51787738e-03 8.44137628e-04\n",
      " 1.51219470e-03 7.10288137e-05 1.39497683e-03 4.14475824e-03\n",
      " 2.52273667e-03 2.53886459e-03 3.47703856e-03 1.30230493e-03\n",
      " 4.38489574e-03 2.91186934e-03 2.22576750e-03 1.49379208e-03\n",
      " 1.95314609e-03 3.27740692e-03 3.29297856e-03 3.31173051e-04\n",
      " 8.27773810e-05 3.20458011e-03 3.17643940e-03 2.96490261e-03\n",
      " 4.30863097e-03 2.86800765e-03 8.90372797e-04 1.79915502e-04\n",
      " 1.96557062e-03 2.71594704e-03 1.30014009e-03 4.70101049e-03\n",
      " 1.84244332e-03 7.90233876e-05 4.45598442e-03 3.07196304e-03\n",
      " 7.97457494e-04 3.51301924e-03 7.55502892e-04 3.13876813e-03\n",
      " 8.37542818e-04 3.07466014e-04 8.26601133e-04 3.25996478e-03\n",
      " 1.81852544e-03 3.29075476e-03 1.18928152e-03 2.53268044e-03\n",
      " 2.62658175e-03 5.37226010e-04 2.05471615e-03 1.12557899e-03\n",
      " 1.39966040e-03 1.60704250e-03 4.30053474e-03 3.94116018e-03\n",
      " 2.49612628e-03 1.11034756e-04 4.22033960e-03 1.89242672e-03\n",
      " 3.99113710e-03 4.97471460e-03 3.60705984e-03 1.20692658e-03\n",
      " 3.03836055e-03 3.04128942e-03 3.72150440e-03 1.95221704e-03\n",
      " 2.60239767e-03 2.27759525e-03 1.17642170e-03 2.05357209e-03\n",
      " 2.01216446e-03 2.41011890e-03 1.09733349e-03 2.09653815e-03\n",
      " 1.32656795e-03 4.38945345e-03 5.39561378e-04 1.40493957e-03\n",
      " 1.60429809e-05 2.86000657e-03 3.19162633e-03 2.17365907e-03\n",
      " 3.75209086e-03 5.00942460e-03 2.45173237e-03 1.86044432e-03\n",
      " 4.65410305e-03 3.44459392e-04 2.17008722e-04 2.34378310e-03\n",
      " 1.00423221e-03 3.51335043e-03 5.47550044e-04 2.76490955e-03\n",
      " 5.78720803e-03 3.84272852e-03 1.23384407e-05 3.02269929e-03\n",
      " 6.13929259e-05 1.01888303e-04 3.66606053e-03 3.26572791e-03\n",
      " 3.63407204e-03 1.80463413e-03 2.63213246e-03 6.47498822e-04\n",
      " 4.37127259e-03 5.41026775e-04 2.58463005e-03 2.16365107e-03\n",
      " 4.15376659e-03 2.09664172e-03 3.03681540e-03 4.58758267e-03\n",
      " 1.35814477e-03 3.54202810e-03 4.99409521e-04 4.62673270e-04\n",
      " 3.21944855e-03 3.69100425e-03 3.23978877e-03 2.64229098e-03\n",
      " 1.83410077e-03 9.09480250e-04 4.21532630e-03 3.36822710e-03\n",
      " 2.23034245e-04 1.64818739e-04 2.33784467e-03 1.94041308e-03\n",
      " 5.02804080e-03 3.01463755e-03 3.69029602e-03 3.16258874e-03\n",
      " 1.53810273e-03 5.32418512e-03 2.16745220e-03 2.79243482e-03\n",
      " 3.81511197e-03 1.63549511e-03 1.51486147e-03 1.25718697e-03\n",
      " 3.53845427e-04 1.97807091e-03 2.37069582e-03 3.91087423e-03\n",
      " 2.11462135e-03 5.58112162e-04 1.94352318e-03 7.61513559e-04\n",
      " 4.91082132e-03 4.03137806e-04 3.36574639e-03 3.74095717e-03\n",
      " 1.50113259e-03 2.82224562e-03 2.61471177e-05 3.91920553e-03\n",
      " 2.76252913e-03 7.75732822e-04 4.64495923e-03 5.62120858e-04] \n",
      "\n"
     ]
    }
   ],
   "source": [
    "[P2,Q2,Psi2] = PM(N,Lvec,Mvec,Lead)\n",
    "print(\"P2=\",P2,\"\\n\")\n",
    "print(\"Q2=\",Q2,\"\\n\")\n",
    "print(\"Psi2=\",Psi2,\"\\n\")"
   ]
  },
  {
   "cell_type": "markdown",
   "metadata": {},
   "source": [
    "### Cost Function\n",
    "\n",
    "As we defined previously, the cost function we consider is the estimated minimum cost that can be paid to an influencer following the recommendations of the estimate of the Instagram money calculator and of the links above as the cost per post of user $n$ as $\\$5\\frac{\\text{Number of followers}_n}{1000}+\\$250\\frac{\\text{Average Engagments_n}}{1000}$ or equivalently to $\\$5\\frac{\\text{Number of followers}_n}{1000}+\\$250\\Psi_n \\frac{\\text{Number of followers}_n}{1000}$. \n",
    "\n",
    "We will define a more general cost function like $\\$5\\frac{\\text{Number of followers}_n}{f}+\\$250\\Psi_n \\frac{\\text{Number of followers}_n}{f}$ and depending of a constant $f$. The constant $f$ is asociated to the size of the network cause the Instagram money calculator is based in a network of size of 120.7 millions (size of Instagram network) and the constant $f$ asociated in this case is $1000$, but we will consider a constant $f$ varying according to the size of the network in a linear relationship to $N*\\frac{1000*100}{120\\,100\\,000}$ when $N<1\\,200$ and $f=1000$ in another case.\n",
    "\n",
    "In general, we can define a cost function in severals ways, however we prefer to utilize this function of cost because the  estimated price per post is more realistic in networks with small size ($N<1\\,200$) based on the suggestions by the links given above. It could be more interesant consider a more presice way to estimate the cost as consider a self-post rate with different distribution to uniform distribution and also consider a cost function in a different form."
   ]
  },
  {
   "cell_type": "code",
   "execution_count": 31,
   "metadata": {},
   "outputs": [],
   "source": [
    "#Cost function definition-------------------------------------------------------------------------------------------------------\n",
    "def Ct(N,Lead,Lvec,Mvec,P,Q,Psi,f=1000): \n",
    "    Cs=np.zeros(N)\n",
    "    Follow=[list() for j in range(N)]\n",
    "    for i in range(N):\n",
    "        for j in range(N):\n",
    "            if j in Lead[i]:\n",
    "                Follow[j].append(i)\n",
    "    Cs=[5*len(Follow[x])/f+250*Psi[x]*len(Follow[x])/f for x in range(N)] #Here we defined the cost of one user like the slide-show (a deterministic quantity): How Much Does Social Media Influencer Marketing Cost?. Namely taking in count that one follower is equal to 1000 followers, we calculated the cost like the sum of $5 times the numbers of followers and $250 times the engagment rate (equivalent to our influence of the user) times the number of followers\n",
    "    return Cs"
   ]
  },
  {
   "cell_type": "markdown",
   "metadata": {},
   "source": [
    "And we get the cost per post for each user"
   ]
  },
  {
   "cell_type": "code",
   "execution_count": 32,
   "metadata": {},
   "outputs": [
    {
     "name": "stdout",
     "output_type": "stream",
     "text": [
      "The cost per post of user are respectively [1947.6425696534911, 2014.7446182166004, 1158.2066352136565, 1194.641084781515, 1705.6252599335078, 1781.1097712164035, 1544.7586395728545, 1942.2073982080874, 1407.93577068361, 1326.9028346587081, 1453.3630446995098, 1780.0348424842816, 1368.1711425688559, 1294.666121577027, 1703.4096667074627, 1137.7549743192371, 1819.1832816216265, 1715.7475238287184, 1756.6089296626826, 1444.079675886343, 1090.2498407884561, 1550.9860489107953, 1184.9722665612808, 1687.2110040668517, 1801.556540745991, 1521.6584840232981, 1327.3544507870854, 1281.8734872851144, 1303.570047585884, 1513.912497747386, 1422.5547501373346, 1226.1223598874153, 1587.0490689049366, 1427.6587284283728, 1377.7000641630182, 1962.2027733352809, 1367.0018011868049, 1401.0112767305725, 1318.3935729979198, 1157.8136797337402, 1227.216926964674, 1295.660176283862, 1316.8875674832766, 1739.8712784547279, 1115.804528171611, 1184.2764662750387, 1409.7961658026716, 1279.2034107836112, 1500.920813625685, 1547.839973140931, 1067.7258706830653, 1226.1671037747728, 1153.5006200597209, 1502.6439072701276, 1328.8061942209501, 1190.3647681918865, 994.925894926437, 1672.1220424635924, 1322.157926891642, 1516.946641602436, 1386.746625048571, 1476.215648551421, 1160.3818699583553, 1484.4598092341473, 1450.9357675278964, 1398.1949353923744, 1183.1429065675175, 1779.9548155780735, 1147.6838814041014, 904.3090158177922, 1395.1527709542488, 1420.1081652263738, 1280.1095056048591, 1482.5546458836775, 965.9351601969092, 1250.534723790616, 969.7531958269724, 1432.8694176371332, 1000.5099184204691, 1571.3559955101455, 1342.9575141199784, 1678.3317881693624, 1431.4683996788785, 1386.9146467157793, 1019.0446754000028, 678.2932320341283, 1125.7278492787555, 1522.309221783406, 1220.7971266521952, 1362.3780471781079, 1386.2847554056189, 1581.4333354033624, 1485.9816213860026, 1207.6676370824225, 1527.1529624708085, 1248.9082133516201, 1548.717866399156, 1499.731611978932, 1169.5232533683309, 1273.4759413476668, 1210.5218568918747, 1349.038694201334, 1531.3120646207217, 1219.3633355549441, 1459.069528410503, 1772.5447129680294, 1525.9729478233974, 1357.4249288420358, 1024.418618604447, 1312.0844490400555, 1203.550132544625, 1127.8625482812492, 1312.6769152589657, 1501.2013465435064, 1325.905710282425, 1285.3666213687172, 1262.0615500542299, 1304.106224775823, 1566.7393064338735, 1264.9518158888475, 1533.2865355443116, 1539.3613460831716, 1483.0491814880331, 1214.2657052383179, 1591.5148047092725, 1313.3111454467369, 1305.0837267790735, 1610.093010076008, 1072.1085226148368, 1482.5755280113835, 1203.03337065481, 1298.6811776867369, 1896.9392570217688, 1360.1680552994944, 841.2186463544275, 1520.7644014235461, 993.8664822922896, 1176.9404327823415, 1598.7903014890696, 1571.745330973844, 1241.8227726588589, 1211.1656586252952, 1155.2006213126576, 1053.899958600871, 1353.73280019157, 1202.6514413813784, 1118.8708034788242, 1430.74679028979, 1486.6945256722934, 1393.248502241613, 1729.20095606409, 1550.3085566118477, 1186.3648490893654, 1343.0138478277063, 1200.2148031746526, 1505.2598240673015, 1394.3278853044364, 1280.3803249393866, 1430.4380487139554, 1325.677833760477, 1081.688644641512, 1255.614289000631, 1526.8368616414448, 1613.7513432715325, 1305.4726968865311, 938.4454580673826, 1240.7835045567672, 1054.017444444868, 1728.3739278839362, 1209.2753618304548, 1529.2974464647023, 1773.4146534243935, 1034.690455336646, 1710.8069810134944, 1198.0399540358808, 1368.6857108820298, 1465.8499108538101, 1526.5734904712822, 1065.8731306075526, 1308.406429495024, 1161.1359969924702, 1286.788579055415, 1746.3683689910324, 1579.4327971294756, 1128.7855603386547, 1049.3374400226812, 1383.5939955903825, 1371.4017781242474, 1869.8685251970028, 1408.9896890554023, 1438.1908974478847, 1532.5678138055255, 1678.485915688912, 1130.6425760609284, 871.8633474519788, 1723.6179502160116, 1298.5453807559288, 1216.3931870824474, 1405.9333116615487, 956.9354020931781]\n"
     ]
    }
   ],
   "source": [
    "[P2,Q2,Psi2] = PM(N,Lvec,Mvec,Lead)\n",
    "if N < 1200:\n",
    "    faux=N*1000/120100000*100\n",
    "else:\n",
    "    faux=1000\n",
    "Cs=Ct(N,Lead,Lvec,Mvec,P2,Q2,Psi2,f=faux)\n",
    "print(\"The cost per post of user are respectively\",Cs)"
   ]
  },
  {
   "cell_type": "markdown",
   "metadata": {},
   "source": [
    "### OSP portfolio optimization numerical solutions"
   ]
  },
  {
   "cell_type": "markdown",
   "metadata": {},
   "source": [
    "Let's notice that given the elements (1), (2), (3) and (4), then we only have to define the user $i$ who orchestrates the advertising campaign. Once such user $i$ is selected, we can proceed to apply the simplex method to solve our maximization problem:\n",
    "\n",
    "$$\\max_{ \\{a_n \\}_{n \\not=i} } (\\sum_{n \\in \\mathcal{N}\\setminus \\{i \\} } a_n \\Psi_{n}  +\\Psi_i ), \\textbf{subject} \\sum_{n \\in \\mathcal{N}\\setminus \\{i \\} }  c_n a_n \\lambda ^ {(n)} = P.$$\n",
    "\n",
    "\n",
    "And find the vector of advertising rates $\\{a_n \\}_{n \\not=i} $. Note that the problem always has at least one solution for $N>2$ because is upper-bounded due to $a_l \\in [0,1], \\forall l$ and non-empty cause we can consider $a_j=\\frac{P}{ c_j \\lambda ^ {(j)}},j \\not =i$ and $a_l=0,\\forall l \\not =i, \\not =j$. So it has a supremum and then exists a feasible basic solution and it can be approximated by the simplex method.\n",
    "\n",
    "Let $\\Psi$ the influence vector, $A^{*}=\\begin{bmatrix}\n",
    "c_1\\lambda ^ {(1)}&\\cdots &c_{i-1}\\lambda ^ {(i-1)}& c_{i+1}\\lambda ^ {(i+1)}&\\cdots &c_N\\lambda ^ {(N)} \\\\\n",
    "0&\\cdots &0& 0&\\cdots &0\n",
    "\\end{bmatrix}$, $a^{*}=\\begin{bmatrix}\n",
    "a_1 \\\\\n",
    "\\vdots\\\\\n",
    "a_{i-1}\\\\\n",
    "a_{i+1}\\\\\n",
    "\\vdots\\\\\n",
    "a_n\n",
    "\\end{bmatrix}$ and $b^{*}=\\begin{bmatrix}\n",
    "P \\\\\n",
    "0\n",
    "\\end{bmatrix}$. Notice that our problem is equivalent to minimize $-\\Psi \\, a^{*}$ subject $A^{*}a^{*}=b^{*}$ and $a_l \\in [0,1]$. Finally, the vector $\\{a_n \\}_{n \\not=i}$ can be found by the simplex method."
   ]
  },
  {
   "cell_type": "code",
   "execution_count": 33,
   "metadata": {},
   "outputs": [],
   "source": [
    "#OSP portfolio optimization solutions-------------------------------------------------------------------------------------------\n",
    "def OSP(N,Lead,Lvec,Mvec,Budget,Me,i,f=1000): #i index over advertising campaign between [1,N]\n",
    "    #This function solves our OSP portfolio optimization problem, it receives: the number of users N, vector of leader for each user, \n",
    "    #vector of user activity corresponding to post and re-post rates, a Budget>=0, a specific algorithm to use (Me=0 closed-form algorithm or in other case fixed-point algorithm),\n",
    "    #and an user i where our advertising campaign is applied between [1,N] and it returns between other things, the values of the decision variables \n",
    "    #that maximizes the objective function while satisfying the constraints and the optimal value of the objective function\n",
    "    StartT = time.time()\n",
    "    if Me==0:\n",
    "        [P,Q,Psi]=InvM(N,Lvec,Mvec,Lead)\n",
    "    else:\n",
    "        [P,Q,Psi]=PM(N,Lvec,Mvec,Lead)\n",
    "    Cs=Ct(N,Lead,Lvec,Mvec,P,Q,Psi,f)\n",
    "    Maux=sum(Cs)-Cs[i]\n",
    "    csaux=np.delete(Cs,i)\n",
    "    psiaux=-1.0*(np.delete(Psi,i))\n",
    "    Laux=np.delete(Lvec,i)\n",
    "    Aaux=np.array([numpy.multiply(Laux,csaux),[0 for x in range(N-1)]])\n",
    "    Follow=[list() for j in range(N)] #Follower list\n",
    "    for i in range(N):\n",
    "        for j in range(N):\n",
    "            if j in Lead[i]:\n",
    "                Follow[j].append(i)\n",
    "    data={'Self-post rate':Lvec,'Re-post rate':Mvec,'Number of followers':[len(Follow[x]) for x in range(N)],'Number of leaders':[len(Lead[x]) for x in range(N)],'Cost per post':Cs,'Influence':Psi}\n",
    "    df = pd.DataFrame(data)\n",
    "    StopT = time.time()\n",
    "    TotalT = StopT-StartT\n",
    "    return [opt.linprog(psiaux, method='simplex', A_ub=Aaux, b_ub=[Budget,0], A_eq=None, b_eq=None,bounds=(0, 1)),P,Q,Psi,TotalT,df] "
   ]
  },
  {
   "cell_type": "markdown",
   "metadata": {},
   "source": [
    "We fix the budget and the user $i$ who orchestrates the advertising campaign"
   ]
  },
  {
   "cell_type": "code",
   "execution_count": 34,
   "metadata": {},
   "outputs": [],
   "source": [
    "B=20000\n",
    "i=1\n",
    "OS=OSP(N,Lead,Lvec,Mvec,B,1,i,f=faux)"
   ]
  },
  {
   "cell_type": "markdown",
   "metadata": {},
   "source": [
    "And we get the OSP portfolio optimization numerical solutions"
   ]
  },
  {
   "cell_type": "code",
   "execution_count": 35,
   "metadata": {},
   "outputs": [
    {
     "name": "stdout",
     "output_type": "stream",
     "text": [
      "The advertising campaign is over the user: 1 \n",
      "\n",
      "The users between  [0, 199] to include are: [1, 12, 85, 137] \n",
      "\n",
      "Their rates are: [1.0, 0.9438760529703641, 1.0, 1.0] \n",
      "\n",
      "Their influences are: [0.005321598268318545, 0.00025232517448579237, 0.000537226009662504, 0.00010188830303536241] \n",
      "\n",
      "Their number of followers are: [53, 45, 22, 39] \n",
      "\n",
      "Elapsed Time  0.2672903537750244 \n",
      "\n",
      "Summary table\n",
      "User      Self-post rate  Re-post rate  Number of followers  Number of leaders  \\\n",
      "0          59.89346      71.13969                   55                 41   \n",
      "1          79.97366      78.26153                   53                 33   \n",
      "2           6.26276      80.32861                   38                 39   \n",
      "3          66.27293      91.31214                   35                 45   \n",
      "4          43.91789      61.35171                   50                 32   \n",
      "5          29.52525      11.02709                   54                 41   \n",
      "6          98.29951      99.06419                   42                 37   \n",
      "7          84.32096      84.34946                   52                 43   \n",
      "8          25.62441      89.75181                   44                 38   \n",
      "9          68.75093      57.66221                   38                 39   \n",
      "10         79.25890      34.49206                   41                 31   \n",
      "11         85.95042      57.86401                   48                 54   \n",
      "12          4.27782      96.31477                   45                 38   \n",
      "13         59.35468      73.19935                   38                 39   \n",
      "14         94.34195      21.06129                   45                 31   \n",
      "15         74.97489      40.13136                   33                 55   \n",
      "16         83.98431      88.25252                   49                 40   \n",
      "17         83.81878      32.85883                   47                 39   \n",
      "18         84.06881      62.98153                   48                 32   \n",
      "19         58.66543      14.59369                   42                 46   \n",
      "20         17.03988      65.45804                   35                 35   \n",
      "21         69.65579      38.34531                   44                 37   \n",
      "22          4.98787      54.48095                   39                 49   \n",
      "23         82.48594      59.36619                   46                 46   \n",
      "24         97.39533      54.96840                   48                 42   \n",
      "25         73.49523      50.51103                   42                 61   \n",
      "26         62.35181      80.06225                   39                 32   \n",
      "27         63.90104      74.89947                   38                 45   \n",
      "28         34.39492      41.71183                   40                 39   \n",
      "29         87.31499      19.87340                   42                 46   \n",
      "..              ...           ...                  ...                ...   \n",
      "170        80.75127      67.19945                   43                 37   \n",
      "171        48.98988      77.98833                   51                 45   \n",
      "172        40.97348      47.90548                   32                 37   \n",
      "173        98.21312      11.72237                   45                 38   \n",
      "174        51.89112      99.69833                   36                 38   \n",
      "175        54.57302      77.74208                   40                 35   \n",
      "176        79.48666      78.34257                   41                 40   \n",
      "177        28.68387      99.67570                   47                 40   \n",
      "178        40.42393      85.73917                   33                 33   \n",
      "179        26.66940      94.49042                   41                 40   \n",
      "180         8.19973      91.33340                   38                 45   \n",
      "181        36.96276      14.17569                   39                 34   \n",
      "182        40.11808      47.67601                   52                 46   \n",
      "183        83.14145      18.58147                   44                 32   \n",
      "184        53.23371      69.67581                   34                 41   \n",
      "185        12.74325      35.94221                   34                 37   \n",
      "186        39.31084       6.73773                   42                 40   \n",
      "187        16.09176      47.03872                   44                 37   \n",
      "188        76.53727      77.86340                   50                 29   \n",
      "189         7.56322      19.50058                   46                 42   \n",
      "190        66.78288      27.03807                   41                 46   \n",
      "191        79.76239      92.16520                   43                 30   \n",
      "192        22.55495       8.34281                   52                 38   \n",
      "193        71.45756      85.76050                   33                 45   \n",
      "194         0.75135      95.53200                   29                 37   \n",
      "195        68.10831      72.86171                   48                 50   \n",
      "196        58.25449      46.43021                   38                 41   \n",
      "197        15.86790      11.78039                   39                 41   \n",
      "198        99.80329      18.28443                   38                 45   \n",
      "199        17.05188      38.48212                   31                 46   \n",
      "\n",
      "     Cost per post  Influence  Advertising rate of user  \n",
      "0      1947.642570   0.003588                  0.000000  \n",
      "1      2014.744618   0.005322                  1.000000  \n",
      "2      1158.206635   0.000302                  0.000000  \n",
      "3      1194.641085   0.002736                  0.000000  \n",
      "4      1705.625260   0.002723                  0.000000  \n",
      "5      1781.109771   0.001971                  0.000000  \n",
      "6      1544.758640   0.004500                  0.000000  \n",
      "7      1942.207398   0.004879                  0.000000  \n",
      "8      1407.935771   0.001315                  0.000000  \n",
      "9      1326.902835   0.003260                  0.000000  \n",
      "10     1453.363045   0.003612                  0.000000  \n",
      "11     1780.034842   0.004702                  0.000000  \n",
      "12     1368.171143   0.000252                  0.943876  \n",
      "13     1294.666122   0.002695                  0.000000  \n",
      "14     1703.409667   0.005215                  0.000000  \n",
      "15     1137.754974   0.002966                  0.000000  \n",
      "16     1819.183282   0.004730                  0.000000  \n",
      "17     1715.747524   0.004317                  0.000000  \n",
      "18     1756.608930   0.004377                  0.000000  \n",
      "19     1444.079676   0.002903                  0.000000  \n",
      "20     1090.249841   0.000749                  0.000000  \n",
      "21     1550.986049   0.003480                  0.000000  \n",
      "22     1184.972267   0.000239                  0.000000  \n",
      "23     1687.211004   0.004432                  0.000000  \n",
      "24     1801.556541   0.005001                  0.000000  \n",
      "25     1521.658484   0.004133                  0.000000  \n",
      "26     1327.354451   0.002671                  0.000000  \n",
      "27     1281.873487   0.002470                  0.000000  \n",
      "28     1303.570048   0.001708                  0.000000  \n",
      "29     1513.912498   0.004010                  0.000000  \n",
      "..             ...        ...                       ...  \n",
      "170    1529.297446   0.003690                  0.000000  \n",
      "171    1773.414653   0.003163                  0.000000  \n",
      "172    1034.690455   0.001538                  0.000000  \n",
      "173    1710.806981   0.005324                  0.000000  \n",
      "174    1198.039954   0.002167                  0.000000  \n",
      "175    1368.685711   0.002792                  0.000000  \n",
      "176    1465.849911   0.003815                  0.000000  \n",
      "177    1526.573490   0.001635                  0.000000  \n",
      "178    1065.873131   0.001515                  0.000000  \n",
      "179    1308.406429   0.001257                  0.000000  \n",
      "180    1161.135997   0.000354                  0.000000  \n",
      "181    1286.788579   0.001978                  0.000000  \n",
      "182    1746.368369   0.002371                  0.000000  \n",
      "183    1579.432797   0.003911                  0.000000  \n",
      "184    1128.785560   0.002115                  0.000000  \n",
      "185    1049.337440   0.000558                  0.000000  \n",
      "186    1383.593996   0.001944                  0.000000  \n",
      "187    1371.401778   0.000762                  0.000000  \n",
      "188    1869.868525   0.004911                  0.000000  \n",
      "189    1408.989689   0.000403                  0.000000  \n",
      "190    1438.190897   0.003366                  0.000000  \n",
      "191    1532.567814   0.003741                  0.000000  \n",
      "192    1678.485916   0.001501                  0.000000  \n",
      "193    1130.642576   0.002822                  0.000000  \n",
      "194     871.863347   0.000026                  0.000000  \n",
      "195    1723.617950   0.003919                  0.000000  \n",
      "196    1298.545381   0.002763                  0.000000  \n",
      "197    1216.393187   0.000776                  0.000000  \n",
      "198    1405.933312   0.004645                  0.000000  \n",
      "199     956.935402   0.000562                  0.000000  \n",
      "\n",
      "[200 rows x 7 columns] \n",
      "\n"
     ]
    }
   ],
   "source": [
    "X=OS[0][\"x\"]\n",
    "O=np.append(np.append(X[:i], [0]), X[i:])\n",
    "Oaux=O\n",
    "Oaux[i]=1\n",
    "OS[5]['Advertising rate of user']=Oaux\n",
    "NZ=[]#Vector of rates of selected users in the OSP portfolio optimization solutions\n",
    "IF=[]#Vector of number of followers in the OSP portfolio optimization solutions\n",
    "U=[]#Vector of users in the advertising campaign in the OSP portfolio optimization solutions\n",
    "In=[]#Vector of infuences in the OSP portfolio optimization solutionsfor x in range(N):\n",
    "for x in range(N):\n",
    "    if O[x]!=0:\n",
    "        U.append(x)\n",
    "        IF.append(OS[5]['Number of followers'][x])\n",
    "        NZ.append(O[x])\n",
    "        In.append(OS[3][x])\n",
    "print(\"The advertising campaign is over the user:\", i,\"\\n\")\n",
    "print(\"The users between \", [0,N-1], \"to include are:\", U,\"\\n\")\n",
    "print(\"Their rates are:\", NZ,\"\\n\")\n",
    "print(\"Their influences are:\", In,\"\\n\")\n",
    "print(\"Their number of followers are:\", IF, \"\\n\")\n",
    "print(\"Elapsed Time \", OS[4], \"\\n\")\n",
    "print(\"Summary table\")\n",
    "print(\"User\",OS[5], \"\\n\")"
   ]
  },
  {
   "cell_type": "markdown",
   "metadata": {},
   "source": [
    "### Relevant information\n",
    "\n",
    "The next information is relevant from the investor's point of view:"
   ]
  },
  {
   "cell_type": "code",
   "execution_count": 36,
   "metadata": {
    "scrolled": true
   },
   "outputs": [
    {
     "name": "stdout",
     "output_type": "stream",
     "text": [
      "The initial influence of user 1 across the network is 1.0624095234179562 %\n",
      "\n",
      "Our Budget is 20000 EURO per time unit \n",
      "\n",
      "The influence of that the investor gain across the network is 1.2375502344414957 % \n",
      "\n",
      "The investor gain relative is 1.164852354165728 times to his own initial influence \n",
      "\n",
      "The extra rate that the investor gain across the network is 0.17514071102353942 % \n",
      "\n",
      "The gain of influence/EURO that the investor gets by his investment is 4.386390012282873e-08 \n",
      "\n",
      "The budget necessary to get the total influence between the users is 15031149.618113475 EURO per time unit \n",
      "\n",
      "The budget necessary to get the maximum influence between the users is 188006.33266156004 EURO per time unit\n"
     ]
    }
   ],
   "source": [
    "#Test the results---------------------------------------------------------------------------------------------------------------\n",
    "print(\"The initial influence of user\",i, \"across the network is\",OS[3][i]/(sum(OS[3]))*100, \"%\\n\")\n",
    "\n",
    "print(\"Our Budget is\",B, \"EURO per time unit\", \"\\n\")\n",
    "\n",
    "print(\"The influence of that the investor gain across the network is\",sum(numpy.multiply(Oaux,OS[3]))/(sum(OS[3]))*100,\"%\", \"\\n\" )\n",
    "\n",
    "print(\"The investor gain relative is\",(abs(OS[0][\"fun\"])+OS[3][i])/OS[3][i],\"times to his own initial influence\", \"\\n\")\n",
    "\n",
    "print(\"The extra rate that the investor gain across the network is\",(sum(numpy.multiply(Oaux,OS[3]))-OS[3][i])/(sum(OS[3]))*100,\"%\", \"\\n\" )\n",
    "\n",
    "print(\"The gain of influence/EURO that the investor gets by his investment is\",abs(OS[0][\"fun\"])/B, \"\\n\" )\n",
    "OT=sum(np.multiply(Lvec,OS[5]['Cost per post']))\n",
    "\n",
    "print(\"The budget necessary to get the total influence between the users is\",sum(np.multiply(Lvec,OS[5]['Cost per post'])),\"EURO per time unit\", \"\\n\" )\n",
    "\n",
    "print(\"The budget necessary to get the maximum influence between the users is\",max(np.multiply(Lvec,OS[5]['Cost per post'])),\"EURO per time unit\" )"
   ]
  },
  {
   "cell_type": "markdown",
   "metadata": {},
   "source": [
    "### Marginal utility graph\n",
    "\n",
    "We can calculate the maximun marginal influence gain and the plot of the marginal influence gain if we fix an integer $\\text{Step}$ that represents the number of iterations of our OSP portfolio optimization numerical solutions through $\\text{Step}$ different equi-separate budgets in the interval $[0,\\text{Budget}]$ and then compute the gain of influence/EURO. \n",
    "The plot of marginal influence gain is shown below and also the maximun marginal influence gain found in $\\text{Step}$."
   ]
  },
  {
   "cell_type": "code",
   "execution_count": 37,
   "metadata": {
    "scrolled": true
   },
   "outputs": [
    {
     "name": "stdout",
     "output_type": "stream",
     "text": [
      "                   Marginal Utility\n"
     ]
    },
    {
     "data": {
      "image/png": "[encoded data removed]",
      "text/plain": [
       "<Figure size 432x288 with 1 Axes>"
      ]
     },
     "metadata": {},
     "output_type": "display_data"
    },
    {
     "name": "stdout",
     "output_type": "stream",
     "text": [
      "The maximun marginal influence gain found with 100 steps is with a budget of 150311.49618113475 Euro per time unit\n"
     ]
    }
   ],
   "source": [
    "Step=100\n",
    "SizeE=OT/Step\n",
    "OSX=list()\n",
    "OSX.append(0)\n",
    "for j in range(Step):\n",
    "    aux=OSP(N,Lead,Lvec,Mvec,(j+1)*SizeE,1,i,f=faux)\n",
    "    OSX.append(abs(aux[0][\"fun\"])/((j+1)*SizeE))\n",
    "    #print(j)\n",
    "listaux=range(math.floor(OT))\n",
    "listaux=[x*OT/Step for x in range(Step)]\n",
    "listaux.append(OT)\n",
    "datas={'Influence gain':OSX,'Euro/post':listaux}\n",
    "df = pd.DataFrame(datas)\n",
    "print(\"                   Marginal Utility\")\n",
    "df.plot(x='Euro/post',y='Influence gain')\n",
    "plt.show()\n",
    "print(\"The maximun marginal influence gain found with\",Step,\"steps is with a budget of\",listaux[np.argmax(OSX)],\"Euro per time unit\")"
   ]
  }
 ],
 "metadata": {
  "kernelspec": {
   "display_name": "Python 3",
   "language": "python",
   "name": "python3"
  },
  "language_info": {
   "codemirror_mode": {
    "name": "ipython",
    "version": 3
   },
   "file_extension": ".py",
   "mimetype": "text/x-python",
   "name": "python",
   "nbconvert_exporter": "python",
   "pygments_lexer": "ipython3",
   "version": "3.6.5"
  }
 },
 "nbformat": 4,
 "nbformat_minor": 2
}
